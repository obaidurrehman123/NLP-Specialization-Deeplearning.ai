{
 "cells": [
  {
   "cell_type": "markdown",
   "metadata": {},
   "source": [
    "# Assignment 1: Logistic Regression\n",
    "Welcome to week one of this specialization. You will learn about logistic regression. Concretely, you will be implementing logistic regression for sentiment analysis on tweets. Given a tweet, you will decide if it has a positive sentiment or a negative one. Specifically you will: \n",
    "\n",
    "* Learn how to extract features for logistic regression given some text\n",
    "* Implement logistic regression from scratch\n",
    "* Apply logistic regression on a natural language processing task\n",
    "* Test using your logistic regression\n",
    "* Perform error analysis\n",
    "\n",
    "We will be using a data set of tweets. Hopefully you will get more than 99% accuracy.  \n",
    "Run the cell below to load in the packages."
   ]
  },
  {
   "cell_type": "markdown",
   "metadata": {},
   "source": [
    "## Import functions and data"
   ]
  },
  {
   "cell_type": "code",
   "execution_count": 1,
   "metadata": {},
   "outputs": [],
   "source": [
    "# run this cell to import nltk\n",
    "import nltk\n",
    "from os import getcwd"
   ]
  },
  {
   "cell_type": "markdown",
   "metadata": {},
   "source": [
    "### Imported functions\n",
    "\n",
    "Download the data needed for this assignment. Check out the [documentation for the twitter_samples dataset](http://www.nltk.org/howto/twitter.html).\n",
    "\n",
    "* twitter_samples: if you're running this notebook on your local computer, you will need to download it using:\n",
    "```Python\n",
    "nltk.download('twitter_samples')\n",
    "```\n",
    "\n",
    "* stopwords: if you're running this notebook on your local computer, you will need to download it using:\n",
    "```python\n",
    "nltk.download('stopwords')\n",
    "```\n",
    "\n",
    "#### Import some helper functions that we provided in the utils.py file:\n",
    "* `process_tweet()`: cleans the text, tokenizes it into separate words, removes stopwords, and converts words to stems.\n",
    "* `build_freqs()`: this counts how often a word in the 'corpus' (the entire set of tweets) was associated with a positive label '1' or a negative label '0', then builds the `freqs` dictionary, where each key is a (word,label) tuple, and the value is the count of its frequency within the corpus of tweets."
   ]
  },
  {
   "cell_type": "code",
   "execution_count": 2,
   "metadata": {},
   "outputs": [],
   "source": [
    "# add folder, tmp2, from our local workspace containing pre-downloaded corpora files to nltk's data path\n",
    "# this enables importing of these files without downloading it again when we refresh our workspace\n",
    "\n",
    "filePath = f\"{getcwd()}/../tmp2/\"\n",
    "nltk.data.path.append(filePath)"
   ]
  },
  {
   "cell_type": "code",
   "execution_count": 3,
   "metadata": {},
   "outputs": [],
   "source": [
    "import numpy as np\n",
    "import pandas as pd\n",
    "from nltk.corpus import twitter_samples \n",
    "\n",
    "from utils import process_tweet, build_freqs"
   ]
  },
  {
   "cell_type": "markdown",
   "metadata": {},
   "source": [
    "### Prepare the data\n",
    "* The `twitter_samples` contains subsets of 5,000 positive tweets, 5,000 negative tweets, and the full set of 10,000 tweets.  \n",
    "    * If you used all three datasets, we would introduce duplicates of the positive tweets and negative tweets.  \n",
    "    * You will select just the five thousand positive tweets and five thousand negative tweets."
   ]
  },
  {
   "cell_type": "code",
   "execution_count": 4,
   "metadata": {},
   "outputs": [],
   "source": [
    "# select the set of positive and negative tweets\n",
    "all_positive_tweets = twitter_samples.strings('positive_tweets.json')\n",
    "all_negative_tweets = twitter_samples.strings('negative_tweets.json')"
   ]
  },
  {
   "cell_type": "markdown",
   "metadata": {},
   "source": [
    "* Train test split: 20% will be in the test set, and 80% in the training set.\n"
   ]
  },
  {
   "cell_type": "code",
   "execution_count": 5,
   "metadata": {},
   "outputs": [],
   "source": [
    "# split the data into two pieces, one for training and one for testing (validation set) \n",
    "test_pos = all_positive_tweets[4000:]\n",
    "train_pos = all_positive_tweets[:4000]\n",
    "test_neg = all_negative_tweets[4000:]\n",
    "train_neg = all_negative_tweets[:4000]\n",
    "\n",
    "train_x = train_pos + train_neg \n",
    "test_x = test_pos + test_neg"
   ]
  },
  {
   "cell_type": "code",
   "execution_count": 6,
   "metadata": {
    "collapsed": true
   },
   "outputs": [
    {
     "name": "stdout",
     "output_type": "stream",
     "text": [
      "['Bro:U wan cut hair anot,ur hair long Liao bo\\nMe:since ord liao,take it easy lor treat as save $ leave it longer :)\\nBro:LOL Sibei xialan', \"@heyclaireee is back! thnx God!!! i'm so happy :)\", '@BBCRadio3 thought it was my ears which were malfunctioning, thank goodness you cleared that one up with an apology :-)', \"@HumayAG 'Stuck in the centre right with you. Clowns to the right, jokers to the left...' :) @orgasticpotency @ahmedshaheed @AhmedSaeedGahaa\", 'Happy Friday :-) http://t.co/iymPIlWXFY', '@Sazzi91 we are following you now :) x', 'My #TeenChoice For #ChoiceinternationalArtist is #SuperJunior Fighting Oppa :D', \"@FindBenNeedham it's my birthday today so for my birthday wish I hope there's good news about Ben soon :-)\", \"Good morning all :-)\\n\\nIt's Friday!!!!!! \\U000fec00\\n\\nWhat are your plans for the day? I am currently playing shops with my... http://t.co/qoKquDWcb5\", '@LouiseR97054900 Happy Friday for you too :) @toonstra65 @_emeraldeye_  @lisamarti76 @Dahlizma  @miss_steele89 @LouMWrites @ASeguda', ':3 !   Good nigth :): estoy escuchando a Enemy of God', \"@EllieVond @SkeletonSweets @Justin_Naito @justcallmerizzo No actually, you don't. Bye bye indeed. Go take your drama elsewhere. :)\", '#ff @PrintStrawberry\\n@ESPSFA\\n@ErdFoodBank\\n@HarbourSpaces\\n@AbbeyPrimary\\n@BigWokBham\\n@Cole2806\\n@Ted4Erdington\\nReady for the Weekend? :) #smile', '@Tim_A_Roberts @Pinter_Quotes works for me :)', ':) my moods are so bipolar', '@ninebonso04 thank you :)', '@SasaRichardson @Stefbystef_ @Frgt10_Anthem HAHAHAHAHAHAHAHAHAHAHAHAHAHA I AM DYING :)) I AM LITERALLY IN FRONT OF IT AND I WAS LIKE', 'Yoohoo! Shattering all records #BajrangiBhaijaanStorm #SuperHappy :D http://t.co/wQSegYjWil', \"Who's awake :-)\", 'Happy Friday :-) http://t.co/B0l9zha8cl', '@MonicaBhambhani @Equinox my pleasure doll! Thank you for your wonderful energy in class! :)', '@charlesjonesss F off :)', \"@mommydean74 @Patriotic_Me Delighted, m'dear!:)\", '@EJWoolf hi emma. :-) can I ask is your #BellyButton an #Innie or an #Outie?', '@AceAlemania Followback The Beautiful Girl Today :)', '@BarbieDevotees lyka followback :)', '@rvkido alrd joy :)', '@Gurmeetramrahim #OurDaughtersOurPride dhan dhan satguru tera hi aasra...many congratulations Pita G...Keep them blessed as always :-)', \"@SCOOTERBLUE1962 Thanks yes let's hope so, at work so missing it!!:-)\", 'Keeo guessing whats behind that white cover :) special for you.. happy bday once again my darling… https://t.co/TyFcTnM59u', 'Happy Friday everyone! :) A big #FollowFriday @3ocialMediaTips @IanMCalvert @ChanPerco @martinjonesaz', \"That awkward moment when your name is 'Akarshan', But you end up staying 'Single'.\\n:D\\n#ForeverAlone\", \"@Ms_chic I know :), you're hot always\", \"@TomRPI Don't worry :)  I know how much stress you were under and I had no problems with the site! I can't wait till the event!\", 'What you say if Sweetpea starts to hold regular gluten free cakes and pastry workshops?:) http://t.co/9j2aIxxDi4', '@V4Violetta *highfive* You are probably ahead of me there, since I am less artsy than verbal :D', 'All my Bae :)) &lt;3 \\nBy : @Merima_Beslagic http://t.co/gDy1trnfjV', '@PARKCHAN92_bTH just kidding kaaaa :p', 'Lovely chat about cycling in Oxford with a @sustrans campaigner on way home yesterday - more cycle routes please! :) #cycling #Oxford', '@bookmyshow Wahoo Doing Team :-) #MasaanToday', 'Anchors at sea..:)', 'DAT RP THO. thank you so much you guys for celebrating one month of partnership with me!!! ty @MadMorphTV for the raid! :D', '\"@SouthAfrica: @ChloeJSKennedy Visit #RobbenIsland for cultural experience, or try whale watching for aquatic #safari! Either are great :)\"', \"@clarelea101 At least it's Friday :D\", '@FafnirsWind Maybe there are Garrus, Liara and the rest of the crew. :D https://t.co/1tb5R9s5RY', '@LemonyLimeUK thanks for the follow have a great day :)', 'We have massage appointments available for tomorrow morning in #Burnley. Give us a call to book in :) 01282 453 110', '@readcreatelove Great to hear you had such a nice day, thanks for visiting :)', '@SeniorSpazz @TehSmileys I was bored so I did EVERYTHING :D', 'drama korea 49 days.:)', 'BTW!! Anyone is at @VidconCountt who represent the Football Manager community on Youtube? :) #FM15 #FMFamily #VIDCON2015', 'You mean Aamir Khan is one out of them.  :)  https://t.co/uQ7DRil5bj', '@NoakseyV1 @Fredrik_S @TheEscapistMag @bethamari @kingso @OllieClarke @speedyjx  happy Friday! :)', '@gigview RIGHT BACK AT YOU! You do an excellent job in a difficult medium :)', 'I :)\"@Kreizi_: Who wants a #FF S/O??\"', '@B_Madhura @shabnam_903 i should tweet it :p', 'http://t.co/t2z9ax4qyd - hey, now! Come see us at the @NTCalkeAbbey Summer Fine Food Fair on Sunday, 11am-4pm in the Riding School :)', '@Real_Liam_Payne please follow me liam :)', '@LaurakBuzz lovely write up :) I absolutely adore the NVA and am lucky enough to live 5 minuets away. Roll in GameCity!', '#FF @Brianscrooks Thanks Brian :) @GOVManslaughter @GlobaluxGenesis', \"@ElliotHorwoodF1 @LewisHamilton His headrest was loose, that's the reason he pitted :-)\", \"@batesm0t3l Hi there, I've spoken with the store who have advised they do have a PayPoint and that card can be topped up :) Thanks, Beth\", '@BCTGA Will do! Thanks for your help :-)', 'Deepthroat was a good movie :)) https://t.co/rtz4SsXA0O', 'Hallo Twitter :D', '@jaredNOTsubway @iluvmariah @Bravotv Then that truly is a LATERAL move! Now, we all know the Queen Bee is UPWARD BOUND : ) #MovingOnUp', '@anands_69 Thanks and wish you the same :)', '@Aiteee1 Aitor SnS, Would you mind checking my Bio and participate in PS4 giveaway? It could be that you are the winner :)', '@jawad_sharief Hi Jawad, how are you today? Thank you for the follow &amp; the retweet! We very much appreciate it :)', '@1_odj Thanks  :)', '@CaballeroSerena you actually need to stop tweeting and driving! :-)))))))', 'This kind of feedback truly made our day! A perfect way to end this work week :) http://t.co/B7XBAgmERd', \"well that's @LittleMix presale tickets bought, thanks @TicketmasterUK wonder if I can take a book with me...things we do as parents :)\", 'Hello :) Get Youth Job Opportunities follow &gt;&gt; @tolajobjobs @Kgotsoab', '@matthewcrosby Hope it goes well! :-)', 'you betcha :) dumb butt :)', 'kik : qualky808 #kik #kikmenow #milf #like4like #bored #summer #sexysaturday :) http://t.co/8R2Nrl31IC', '@olemanbob Followed all! :-)', 'Thanks :) https://t.co/FSMTlXYcqK', '\"@jayt_jubby: @SinethembaMpaxa yes hun and you\" I\\'m good too :)', '@Woodgate @littlewok Enjoy :)', \"Wow! A #VW bus with lots of 'Umpffffff'! Love it! :) https://t.co/hlF75RutDv\", '#AM to CA. Retweet domg nanti difollow ?( :D', '@Madison420Ivy  \"We\" ??? you wish :D:D:D:D:D:D:D kidding', '@MarkBreech Not sure it would be good thing 4 my bottom daring 2 say 2 Miss B but Im gonna be so stubborn on mouth soaping ! #NotHavingit :p', \"@saharjojo10 yes I haven't car :)\", '@thewhitespike I like them, especially the Klee ones :-)', '@undeux you look amazing April love the glasses :D', '@Enchpannt I know :) http://t.co/lb9ZNmCqgT', 'this is when we were building our house :) http://t.co/if5yfELOQV', '@Catargiu Yeah, kinda feel like a warm butter in here :D', '@JamesEMalcolm It really is; after a week of big decisions I too am feeling rather badass :)', \"i'm going to sleep. i hope i wake up with a follow from luke hemmings someday :) goodnight fam ily and 5sos a lot 💟 http://t.co/YX0hTS3lXT\", '@Svg_Brad Congrads !!! Better update your About page on the accomplishment !!! :-) Keep it up...', \"Filming all day @SimpleStuffWrks I haven't been invited for some reason LOL :)\", '@madpilot Before or after? :)', 'whenever my sister sees me crying she texts me to ask if im okay aw someone cares :-)', 'welcome to KFCROLEPLAYERS enjoy &amp; lets be friend! :) @kryjvodz @RVjoy3 @canyolix @jsjciy @kkimseolh', '@steveaoki T-shirt? :D awesome http://t.co/qTJcpy54zi', '@HanMaiCrazyHoon Belated .. Thanks Thanks !! :D', \"@SisiphoMphoza Can't wait to see you there :-)\", 'Happy happy birthday TO ME!! \\nHappy happy birthday To ME!! :) https://t.co/2cgXNdP00h', '@Shadypenguinn take care! :)', 'Road trip to Tregaron to view potential new boar. Fingers crossed we bring the boy home :)', '@xPaleMoonlightx :) Good to know you :)', 'being told im gorgeous on my extremely sweaty walk into work has made my day :)', \"Morning all! Up and at  'em :)\", '@WaitlessCompany @Aledeleonmoreno glyon! :D', '💓🚮👯- the definition of perfection would have a picture of you next to it :)', \"INITIAL TEE's\\nPM for ORDERS :) http://t.co/2AxBuaPKMS\", 'Confession :) nice', \"@tillyyandtroye you're welcome :)\", '@miccoelaine @KRMN4L nice dave :D', \"@AndyHerren I know how dumb, did she think of that on her own. But Johnny does rock have u seen his utube video's?  Mad Respect! :D\", '@ImToxic21 Sorry for your loss and hope it goes well :)', '@TrevorMoran @jccaylen @ItsMikeyMurphy Combine all three and add a bit of asian and u got YOURS TRULY :) https://t.co/zRlFqQBu8d', '@ashleyannvlnc happy birthday!! :)', '@kezhoskyn We got a call in the end and the pigeon is now home safe :) Definitely worth contacting them.', 'Morning! Hospital day today ! Hoping to finally get signed off after a long year of pain and ops ! #Fingerscrossed.:)', 'The best photobomb :D [pic] — https://t.co/3dP40WD5n2', '@mazt_t @Peter_Fitz @SMHsport thanks SE :)', 'Hello :) Get Youth Job Opportunities follow &gt;&gt; @tolajobjobs @KingsleyDali', \"I just finished day 33 of the @YouVersion plan 'Bible in 90 Days'. Check it out here: 2 Chronicles 23 completed :) http://t.co/3Yw3TFCRk6\", '@TMobile Yo gimme this month free on my bill since service has been out pretty much every other day :))))))))))))))))))))))))))', 'Stats for the day have arrived. 1 new follower and NO unfollowers :) via http://t.co/6SpknXLOnU.', \"Hi,i'm definetly so exited ^^ I'm going to New york.:)\", '@FrolicHawaii this Saturday! :)', \"@babypuffinator i've typed worse things, it's all good :p\", 'Beat Da Beat sits well with @slashgear (includes new video) :-) http://t.co/zJmOmpx7iv #mobilegame #ios8 #Android http://t.co/LY7EnuUH8z', \"I'm playing Brain Dots : ) #BrainDots\\nhttp://t.co/UGQzOx0huu\", '@Myninaaa @_kyle__86 thank you :) 💕', 'Soon... :) https://t.co/agyjS1mwiW', '@ruSh_Me Sure! :)', 'Looking for fun? KIK : thencerest547 #kik #kiksexting #sex #followback #l4l #indiemusic #kikgirl :) http://t.co/rGXNogHMKM', 'goodnight guys :-) \\nremember tomorrow is a brand new day, a fresh start and another chance', 'Bom-dia :) APOD: Ultraviolet Rings of M31 (2015 Jul 24) - \\nhttp://t.co/f5xThyIN8u -', \"I'm playing Brain Dots : ) #BrainDots http://t.co/aOKldo3GMj http://t.co/xWCM9qyRG5\", '@ThePrintQuarter thanks for the follow have a great day :)', '@jasmineshaddock Oooh how lovely! Hope you have a fantastic time :)', '*yawns* good morning everyone *wags tail* how is everyone doing today :D', '@Objective_Neo @UMAD congrats on the launch :D', 'Happy and wonderful birthday my love 💟 Have the most beautiful day in the world :)', '@MatjazSircelj ftw and all. :)', '@lovingjeonboram Ah, I see. So which song do you prefer? Take or Maman? :)', '@hayley_gibson93 hi hayley. :-) can I ask is your #BellyButton an #Innie or an #Outie?', 'Gud afterznoon and jumma mubarak tweeeps :-)\\nPlz remember us in ur prayers', '@UnicornMummy83 welcome to the Bomb family :) x', '@ppritam009 ABP NEWS ka article read kiya? :D #BajrangiBhaijaanHighestWeek1', \"It's not like it hurt my feelings or anything right?? :))))))))))))\", 'Check out our new @NeonArenas Van outside the Olympic Park for @uk_sport Anniversary Games!!! :) http://t.co/6QRbnfXZG7', 'Every year in August I get fever :p dunno why 😷', \"@Clareyh Yeah, it's a classy look :-). I've seen people attached to all sorts of 'life saving' equipment, some in beds,having their fix :-0)\", 'its trending.. follow the bobble link. :)\\n https://t.co/HZxoiRe88H', \"next year for sure though :) there's only 2 girls that piss me off\", '@TheVampsBrad where were you standing? so cool!!!! :)', \"Movie 'Key of Life' (Japanese Version) https://t.co/ib4kfpbBu8 interesting storyline! :)\", '@anuja3486 Thanks anu :) @Rjain_ @ajayg303 @RGulechha @SNJNIG @Sharma216V @Angel_Priyabgt @praveen_a @prav2410 @SomnathUrhe @Destiinyy303', 'Also, new layout new me :)', '@Gotzefying Im trying to D/L MH3 english patch for the psp :D', \"I wanted to tweet something but then I thought I'll probably lose a lot of liam girl mutuals so I won't :)\", '1 day to go:1 day left to sponsor us. no matter how small the donation, the difference you make will be huge :)', '@PrideRadioNE thanking you :)', '@AmonMars @snaz_mayo Followed :)', \"@EmilyRPeck Hey Emily, I love your work and I'd like to contribute to HuffPost Business, what's the best way to contact you? :)\", '\"Asshole\" 😂 That\\'s an honest tribute :) https://t.co/CgeH8460fh', 'h_eartshapedbox: First leg of the magictrikband tour is going well! :D #music #band #rock #magictrik #tour … http://t.co/3SdqjnwDfM', 'Towering over the ladies. :) #tb #eid https://t.co/F7oS1h3Alz', 'Whatsapp with roommate\\n\\n\"Do you want anything from Paris?\"\\n\"A French man :)\"\\n\\nLOL sure I\\'ll just head to the park and grab one.', '@tamitrailscapes have a great weekend Tami and thank you!:))', '@Blade4hire This is just lovely :-)', 'I just want to look good for you :)', '@mehra_sachi sure :)', 'Excited for the weekend :-)', '@Idxterr b3dk far7an ank mis15 :)???', '\"@yettygeers: When God gives us strength, His purpose is that we should help others who are struggling :-) http://t.co/Skk98JGCOr\"', '@oceana_bleuu lol i meant lucky eagle, but thank you for your services oceana. :-)', \"I just woke up and I feel incredibly sick idk if it's cause I drank Starbucks at 11 o'clock last night or if it's a reaction to my meds :)\", \"@AndyCarnochan @WickermanFest Oops...that's called a #FridayFauxPas :) I'll get that changed right now! Thank you, G\", 'I will fulfil all your fantasies :) 👉 http://t.co/wKpgkiDEmP 👈💗 http://t.co/HHoyjasr1A', 'calling it a night and going to sleep Now :)', \"yeah they're giving me subtle hints. also tip #2: don't use it all and the community these last few years. :-) Prim’s Algorithm III\", \"@JewelStaite Funny, but yes too soon. It's always going to be too soon. :D\", '@PagePlannerLive Thank you :) This is getting retweeted x', '@charliehaarding @WeAlIlKnowA @ElliotPender @J_Mezzer smiling after he received a text from his dad saying suck him off :))', '@mussshiii @Takafofo so wat??:)', \"@x22AEW @candlerosa @qvcuk @miceal can't wait Rosa love xmas :) welcome back ann hope u had a good one back just in time :) x\", 'Morning tweeps! New post for you today. Please like and share if you see it! Thanks :)', '@Polley93 YVW Have a great day and weekend! :D', '@sweettoothmarti Awwww heres a quick workout now as a boost :-))) http://t.co/hnnY5L2i6f', 'Lol :D @akshaykumar i know it was your idea :p coz you have unforgettable sense of humor ;) :) :D love you bro :* https://t.co/qiyrhDK9eB', 'Stats for the day have arrived. 1 new follower and NO unfollowers :) via http://t.co/WCuHrpnFDK.', \"mum's home.... HAHAHHAAH thank you lord :)\", '@_SW_E_ were you safe? :D', 'This girl :)  https://t.co/OAXMGGICNr', \"@SasaRichardson @Stefbystef_ @Frgt10_Anthem sombrero high?? OKAY I'M LOST NOW :)) http://t.co/2VDPgb5EpK\", \"@osmosisness helloooo! i'm rose, nice to meet you :)\", '@balboa_lesly Thank you for the screenshots po. Let me take care of this spammer for you. :) Before we proceed, c... https://t.co/x4ObmZFYUB', '@Manaal_M16 @yusra and perfect thing to pick :) #WSaleLove', '@AlliDavies1 @INKProducer @sugaredeggs thank you! @thedanperry did such an amazing job :)', \"@storpey don't die, you're actually pretty entertaining :p\", \"@MLGJordanD congrats on 100k Man. Can't wait till I can hit that milestone too :)\", 'Morning all...Judith here to answer any District Council related questions today :-)', '@Itsjustizue see you tomorrow then :))))', 'saw a comment on how midares gender is unknown and like\\n:) yeah you just keep saying that', '@mariaburtea @5SOS_Nightly wow you really hate me :))))', '@Floreani_Mgmt @DanOlsenMusic @UKOpenMic @BBC3 I was watching that and saw Dan on it :)', '@mulberharry thank you :-) ilysm xx', 'Thanks for trade :) @palvinssquad http://t.co/YKYRmXklHU', '@ChrisInsider @ifb2016 Looking forward to it!! :-) ^KS', '@lesholly20 @NorthEastHour you can Lesley :)', \"I want to protect this relationship more than the others. So I'll not talk about him because ppl don't need to know how awesome he is. :)\", '@TheAvianFurry Oh dang. That is some zen looking \"outside\" space. Neat :-)', '@fxckedbutbands you look good in that outfit :)', \"@arronjones31 Hiya, I'm afraid we've already picked our riders for this year! We'll be on the look out again next year :)\", 'A very good morning to u too :)\\n@Boity', '@matt_saunders_ @medialens ha ha. Ok honey. Go ahead. FYI - still dig ya. Enjoy voting. And then watch as he will have me by his side :)', '@Aaliyan_ Lucky me :))', '@dv891798 Learning a new skill takes time to perfect &amp; master. https://t.co/u9YXV5HPjO - Thanks for the favourite :)', \"👱🏽👽🌳 😂😂😂 I've talked to u only a couple times but u seem very nice and funny :)\", '@Swift__Girl Agreed. Suspicious Minds :)', 'Good afternoon :)', '@JellyBabyMom2 Whoop whoop! Bring on the fun :)', 'A new report talks about how we burn more calories in the cold, because we work harder to warm up. Feel any better about the weather? :p', \"Say something, I'm giving up on you :)\\nAnd I'm sorry that I couldn't get to you :D\", '@Coastie_alexx good night :)', \"@heyoppar @Zain9898 @bemybelief @hetthuocchua there's gonna be another one in the finale :)))))\", \"@246MissJessica You're very welcome, Jessica. Enjoy! :)\", '@seananmcguire my best friend Carina is one here in San Francisco. Let me know if you want to get I touch. :)', 'Thanks mommy teret for this :) (Y) :) \\r\\r#Potassium #Rehydrate #DrinkitAllup #ThirstQuencher https://t.co/uLORa2tssO', \"@ManningOfficial @GarrJPRBDF @PsycheDK I'm sure that that Tapir calf isn't the only one who likes to be adventurous at mealtimes :)\", '@ShutUpBrickLP if only there was uhc in a box on a large scale on one of those network servers :p', \"@bobbyllew @InkSharkman If ever you're both in the areal, we'll have to do lunch/dinner again. :)\", \"Here's one for the #extremesports fans among you - if you love #quadbiking get in touch! :)  #bloggersrequired #bloggerswanted\", 'Thank you @AngelMsvanityIV.... loved the cakes :) bear hug at the end', '@ZulbayarB \\nhere is what MASA is doing nowadays!\\nhttp://t.co/iFopImCJb0 \\nNo brainer type investment!\\nShould list on MSE a fund for that! :)', '@MrBoffly That is magnificent. :-)', '@natsu1725 @AdeccoJapan @AdeccoWaytoWork \\nI love working in Tokyo :) \\n\\n#KunoriforCEO #CEO1Month', '@Yumnoskians_x yeah i will try looking. x :)', 'welcome to KFCROLEPLAYERS enjoy &amp; lets be friend! :) @sweetihej @imbinggoo @yipanos @yerinkid_ @fyeojart @chourong91', '@_RealityBiter_ :) hehe me gets it now. Think this means I need sleep nooooowwwww. Nite nite :)', '@Miss_Dyna_Mite hi 5 back to you :) :)', '@katie_taylorkay yes omg. I lile tid more than tmi :)', '@strathearnrose I may have been deploying a degree of sarcasm :)', 'Cute boy you have there Jules! :-)  https://t.co/LoONgfRNdd', \"@VincentTong007 Can't wait to be out there again. Just a few weeks now! :D\", 'Thank you for following us, Betty Miller! A new friend is always welcome! :) http://t.co/0ZM3ZoKkm6', '@shobanam not person. Small things u expect from person u love the most :)', '@salo_mi Yes HDDCS is also favourite. :) All Salman Khan movies are eternal in that case. I have not watched PTHHT.', '@tbhhowell oh shoot, well i am watching it now :D', '@sonny370 @Arsenal @LFC far from it. Being LFC fan makes me expert in spotting mental weakness and lack consistency :-)', '@Anyi_anonadada @JosPastr @norcoreano a tope :))', '@llredraven @LinnySmit @erincheshirecat @phycoinsc @paigejiffy @lilginger864 @BlueCat_hikes   Good night! Sweet dreams!  : )  xxoo  ♡♥♡', '@spaqhetto @ArtOfBsing Little finger is in this too??!! :D', 'Love it! :) 13 photos that explain why Ukraine is not Russia http://t.co/KfblbBBYkQ http://t.co/2EYOfYUWwy', 'Friday!:) http://t.co/HUoq4txhmb', \"Hey Fam! Vote for @5SOS if you haven't already :) WE GOTTA WIN THIS FOR OUR BOYS! #TeenChoice -S http://t.co/zBZvXC0v5y\", '@janevickers7 Hi Jane, this is a Silver-washed Fritillary :)', 'my pleasure @JacobZucchi :) https://t.co/F75o6874uE', '@Sweetiepiie67 have a great day hunny :)', 'Good night moon :)  @NinaSimoneMusic  #pandora', '2 APs no study hall? HAHA great :)))', '@GB_FollowBack I FOLLOW EVERYONE BACK!! #TeamFollowback :-)', \"Ha but I almost gave a fuck. :) some boys are trash. Not wasting my time that's for sure\", 'Amazing pics today on http://t.co/dcifNBjTXA @kellyhallmodel  :D http://t.co/Ja2vPugANE', '@nandabes yes we already added it, please do check our final design :) https://t.co/EXt098Yq1b', '@Thaque883 nothing much, he just needs to grow up :)', '@AnjeTruter @VegaSchool Easy when you have a clever and interested audience, you are most welcome :)', '@Louis_Tomlinson great video :D https://t.co/0II4AHjGV2', \"@eonnicchi Why do you ask about it ? :&lt; ~ ended with him .. now i'm with him just friend :)\", \"@kevens, thank's for the follow Kevens :)\", '@Caz_Loz @BeckieSmith_7 ha! Love both pics! Clearly I have much to learn about popular English pastimes. :)', '@UltraVratik @DesaiEshita @jitubhaiyajgd @dineshaol @SmilingShivani @payalpatil148  @jgdpalak #ashramcalling returns :p', 'I will catch you if you fall. Fall ontrack :)', '@briones198 always makes things better :)❤️', \"@Cat_grl @uberlinco guess they'll be showing in german and also with subtitles :)\", '@bekhyungh @cunyelo pinter :-)', 'Gooood morninggggg and Jummah Mubarak everyone! Have a blessed and amazing day ahead :)', '@Vivienneclore That is so cute :-) 🐶', 'Stats for the day have arrived. 1 new follower and NO unfollowers :) via http://t.co/BW6MXJYWNC.', '@rachelburden Have a fabulous time. Will miss you. :) xx', \"@JohnA_Limas nothing. You're perfect. Smile :)\", '@pannusf10 Never showed it much. :)', '@Stuarty2112 :-)  Cheers Pete. Will have a listen later. ☺☺', \"@javeedna that's a build up for Sunday :p\", '@holybatgirl I direct your attention to ... AWESOME-O! :)', '@mutleydo @JordanAdams You can get us on Tune In as well as our own app - multiple options! :D', \"@sennicka don't over engineer it. :)\", '@melcsy1 @IngridMolina19 @ssaenzzy @sugarstein_19 @XredeyezX HAPPY FRIDAY! :D', 'Cya after a week!! :D', '@killaaahrhp_ happy shopping :)', 'We had a fantastic show at Harrogate home and gift! Just back in the office for 2 days before jetting off to see my wonderful suppliers :)', '@IstanbulPHP nice one :D', \"@ashleelynda yes let's do it :)\", 'and I have to be up for 7 :):):):)', \"@heyimbunny_ in Australia it's morning for them :D\", 'Req @edsheeran All Of The Stars :) @solo_radio @claraapuspita #FridayLouge', 'if only you knew that the whole class was crying because of your hurtful words. :)', \"@Bosslady22d it's an opportunity for anyone to ask me questions babe! You included :) #4thStreetMusic  https://t.co/pg2SiRxvZ8\", 'Lunch at @imperiallamian :)', \"@_stevievie I'll be in Hawaii in December! We'll have a kick back again. Miss you too :)\", '@mariammaslouhi If it HAD been two ~17 year olds deeply in love? :-)))', \"@mehra_sachi aha that's alright ❤️ we love you too :) ~ A\", 'i hope nate notice my edit since i made it my icon &gt;.&lt; :)', '@Terry_Brown @NEBytes Send it to me, john@timney.eclipse.co.uk :)', 'hah....and a thousand more lies  :D https://t.co/QEil0C0auo', \"@jmieldesigns I'd be willing to try that! :)\", 'Reading newspaper :D', 'My afternoon date. &lt;3 :)', \"@UnboxTherapy here's a fan made art to u :) and to guys which phone is lew bending it :D http://t.co/CEMZLpGaHD\", \"@themaddiebruce Nah, you're beaut just the way you are :)\", 'In #Fallout4 we get to see the Glowing Sea. Again. \\n\\nTechnically did in Fallout 3. I just played again to see :D http://t.co/zRP17qI0qT', \"@pmjeepers I'm a friend of your cousin Karen Gunderson. Just watched Europa Report -- thoroughly impressed! Wanted to say, great script!:-)\", '@bbcweather @FarmersOfTheUK no dry start here in Wales! I was waiting for a duck to overtake me on the motorway :-)', 'Good morning all! Have a fab Friday! :)', '@LusciousLyndee1 hahaha...and thus...I sneak away to log on to #niteflirt :D', \"@wontanim yep we're all trash af   im from indonesia hbu? :-))\", \"@ISupportTony You're obviously getting better at your tweets :-)\", 'welcome to KFCROLEPLAYERS enjoy &amp; lets be friend! :) @qimyerii @peixvodz @CSYDIH @YB0RA_ @awksungjaesey @krztall @ikonxbei', 'Bowling is always best with friends :) http://t.co/xXnvRb7ptR', \"@1DCrazen hopefully, I'll do it for you :) x\", '@dbuzzketball if its @dbuzzketball  saying, it must be Chris Ellis :))', '@6000 yes - in a friendly contest - loser buys the drinks :)', '@hewitsonwalker thanks for the follow have a great day :)', '@villagebirth Thank you! :-)', 'Thank you! :D  https://t.co/495R7CGmcD', '@OOK_Librarian a day to practice some songs :)', \"Here's a reminder. As if we needed one :-) http://t.co/IWLQK3XB3H\", \"Harry and niall and -94 (when harry was born) ik it's stupid and i wanna change it :D https://t.co/gHAt8ZDAfF\", '@miabellasesso http://t.co/FtI5vLQJks @SBNation and a few select others.. will get to you :)', \"@SurreyHillsBrew ...and when we play the Al***n, he'll score all fucking night :)\", 'with ma bff.. :) http://t.co/hFpe2DvO3E', \"@MakeStronger3 hi here's my vid about Stydia if you can take a look :) https://t.co/k75kPT0aq1\", 'im sending Alex like a million pictures :)', '@miss_steele89 @LouMWrites @gr8fllady2 @inMay84 @christian1_ana @zimmie825 @FiftyShadesPA @_emeraldeye_ you too lovely :)', '@CenasAkua Visit my blog http://t.co/UzOAqroWKx thanks :D', 'Happy Birthday Nawazuddin Siddique...\\nBig, Big fan of yours. :)', '@dukeofdelhi yes please would brighten up my night shift #nomnomnom :D #chocolate #DukeFreebieFriday to  xx', '@AI_LSK89 @AI_Kyungsoo done eonni :)', '@bridgetnichole_ have a fantastic night :)', '@Uber_AHM and I have it :) http://t.co/sWLUm7Vtrz', '@Cat_grl @berlindisaster BOOM. It\\'s a date! :D \"z', '@hugopleclercq followed already! Thanks! :)', '@itsmebianca_01 thank you! :)', 'Will you be my happy ending? @IanPrasetya insyaAllah :)', '@19murf85 thats the way we see it.  west ham are a shit small club in london and villa are the 3rd biggest in brum :)', '@SweetieBellaxx Denis has a vagina? Rly?  :D @realdstoff poor thing :D', 'Smile. Its sunnah :)\\n\\n#غردلي #عن\\n http://t.co/lEVViELaRV', '@NiaFHenry Hi! I see u like FourFiveSeconds and think u might like \"Deaf Ears\" https://t.co/FsS7lzF8HQ .Plz let me know what u think :)', '@FatPrincess2015 Share it when ready! :)', \"@flimflammery @DisneylandDTD oh my, the white rabbit is the cutest thing I've ever seen, no wait  it's all adorable :)\", \"@AraRedjeb you're welcome :) have a lovely weekend with Izzy.\", 'Happy Birthday Mitch :-) i wish you all the best have a good day http://t.co/4LHrrWv42e', '@ahhrielll Thank you :)', '@Fighters_Comate done ya minn :) #CJRadaCOMATEada', '@hanna_meiners you welcome It was fun :)', '@JL_Cameraclix I did until recently.#website upgrades so you might see a new picture on #coolingtowers soon.Thanks for #showinginterest :)', '@BhaktisBanter  #FlipkartFashionFriday\\nMulticolored Maxi Dress paired wid Wedges to make ur Life Bright&amp;Colorful :)\\nhttp://t.co/xtzhIBkXsu', 'Always motivated :-)', '@BambiiRiiot Nnnnnnot seeing an upside here. :-)', \"@hellojennyho haha no it's Kyle and his gf's baby :)\", '@SpazzyTsukihara lol ok i can watch ya for a bit :p', \"@supersarcastiel #BlueSidemenXIX I'd love to win one :)!\", '@AfiaAkhter786 happy birthday :) @anniesk244 @farrukhzx @SadafNaveed3 @Cute_Shaikh15 @Faryab2 @Nidakhan_ @BadarJaffer', 'Hello @tabithahoy :) We are now your ardent followers!  https://t.co/JuzrBE0SBt', 'Goooood Mooorning :)\\nI want to sleep again...', 'My ghost #bae :D #love #wuppertal #TagsForLikesApp #instagood #me #smile #follow #cute #photooftheday… https://t.co/jppbF7UIK3', '@Sukihaikal hahaha okay thank you :)', 'You Lose :D', '@Geordnet hehe cool :)', \"Morning! How are u #today?  What have u got planned? How lazy am I? I'm still in bed! Toast &amp; fresh coffee 2 :). Have a great #FridayFunDay\", 'Welcome to the family :)  https://t.co/TGiFQ0qjnM', '@fni Re-signed! :)', \"can I just meet harry that's all I need in life :-)\", 'Stats for the week have arrived. 1 new follower and NO unfollowers :) via http://t.co/cYnV18t4ZT.', 'One more sleep til the wedding :-)', 'Excited about the Chalkhill Park Celebration tomorrow from midday. Come join the fun :-)', '@carterreynolds hello!! :) love you Carter :)', 'What a good read :) \\n\\nhttp://t.co/5UWZh015eo', '@hattersleyblue3 You too :-)', '@GBattered @JimmysFarmHQ enjoy, hope weather holds for you guys :-)', '@elfishy_fika done :)', \"@Ricky27_263 the remedies the media won't tell you about :-)\", 'Thank you :) https://t.co/DuVcLseonQ', 'Jumma Mubarak All of You. \\n\\nStay Blessed :)', \"@salcedonot we're looking forward to being able to spend more time with you! :) enjoy iflix! :)\", \"#TGIF\\nIt's Weekend.......ENjoy :) http://t.co/Tck0izSpKB\", '@TheVampsCon im thankful to have someone like you in my life to inspire me to be better everyday. i love you, mind following me? :)', 'Become better to atrack better :)', '@padaleckbye First and third look promising and if all else fails and you can make a decision to go with all of the above! :)', 'Crazy girlfriends be like :-)(-: Jesus Christ. http://t.co/RTWjc7e1lM', \"@TheShreddingA Morning :) you too. A gd day in store? I'm off to badminton with my 2 littl'uns! @AquaDesignGroup @Klick_Business #FabFriday\", '@grafikmag @editionsdulivre I a kid inside!!! I want one!! :-)', 'Imran khan a hero :) really  #IKPrideOfPak', '@DrSadafAlvi @FatimahLove92 @AliJaved93 @Iqbal92S @defilibrator @kiran1144 @tahseenfurqan Janjua is my friend.:)', 'I AM SO SORRY FUCKING ERIC THINKS HES FUNNY :)', '@wishm4ster it says my bday :)))))', 'hey @JoshDevineDrums!:)\\n\\ncheck this pictures out and what do you think?:)\\n\\nnotice and follow me please?💕\\n\\nx http://t.co/iaMFvdRMJb', 'There :) is :) a :) pimple :) on :) my :) forehead :) the :) size :) of :) a :) volcano :)', 'Good luck to all our couples getting married this weekend :)', 'Am Back again and again :)\\nDone na mag miryenda :)', '@varun_dvn waiting for it bro :-)', \"Party at our 3D printer :) Celebrating future technology's and it's possibilities #touchétoday… https://t.co/Tlcoj355Rt\", 'do u use any app to listen to music? if yes, what app? :-) — idownloader http://t.co/L4o5J39UEf', '@ShortgamerUHC I get 25ish then more if I snowball :p', '@exohun1204 of course :)', 'nd its going to expire next year. dat is mtn 6gb for u :D , You really like it?', 'Happy Birthday @EmilyBett ! Have a nice day :) #LoveU', 'I wanna go back to the time were everything is still fine. :-)', 'Celebrating life once again. :) #summer #MoreFunInThePhilippines @ Lahos Island, Caramoan Islands https://t.co/Pw7NdlH5d9', '@natsu1725 @AdeccoWaytoWork \\nIts such a nice quote :) \\n#KunoriforCEO #CEO1Month', '@Carol1MY @AmberContact @fieldfarefoods good stuff :). Love a bit of salmon', 'Jumma kareem :)\\n\\nFriday Reminder: Do Recite Surah Kahaf..', \"@Memz_Dogi i'm joining right now :D\", '@BahiHonTera y not , Sure .. :)', \"@melaniemorris Hi Melanie :-) We do in fact, they're really used in cases where normal WiFi could be an issue as you mentioned. You can ....\", \"This Quite Phenomenal Offer On Bosch Washing Machine In This Week's @limerickpost These Definitely Won't Last Long :) http://t.co/x4FpGLudE5\", '@wildrunnerza @ctmarathon @runnersworldza One of those \"ok i\\'ll run for the photo\\' moments :D', '@Essjayleam Thanks for the refollow too! :)', 'I slept less that 7 hours last night, preparing myself for possible naps :p', '@ochoaofficiaI idk :p she follows me😎💁🏻', 'I feel like having a relapse :-)', \"Girl : nice wallet.\\nBoy : Prada hai..\\nGirl: you're so rich then..\\nBoy: stupid, I mean bhai ka hai. :p\\n#prada #PunjabisWillGetIt\", 'How you? ☺ \"@B_Indiie: @Tumeylo morning babe! :)\"', '@dualityknight @bravefrontiergl lol sorry /-\\\\ ultor is my very first hitter so...i favor him too much :))', '@waglington i finished mass effect 1 yesterday and now i dont know if i shoud start mass effect 2 or 100% the game :)', 'Only my bad would remind me to exercise at 1:12 in the am :-). \\n I miss her. She needs to come back. Now.', 'Add me on KIK : ughtmed545 #kik #kikmeguys #kissme #nudes #likeforfollow #musicbiz #sexysasunday :) http://t.co/bgTjjz7fFN', 'It was overwhelming. My groupmates are thankful to me because our group got 1. 75 in a recitation because of me. :)', '@Moulinparikh Ha! my mistake! Thanks for pointing it out! :)', \"@Junaidogic kyunke Aitchison hai :p look at the responses to my original tweet, you'll know why my brother does this\", 'Snapchat me : sexyjudy19 #snapchat #kikmeboys #tagsforlikes #pussy #gay #indiemusic #sexo :) http://t.co/KzdArKKieg', \"@TheFieldhouseCa That's true, indeed! Curvy route :)\", '@CreeperFartss come chill by the fire :)', '@yknoC that monte/doa header :D', 'Haha X . What The :D https://t.co/Jo7vtQmvSR', '@50Pips A TED speaker says stress is good for the body another speaker introduce ways to avoid stress :).TED=Thought laboratory :)', 'Things to be Noted Awesome :-) http://t.co/cxqFa4uCWu', '@ljfifthharmony I might lose a friend today but you know what idc! :)', \"@Bixbersboca good morning to you :D lol its really fuckin dark and it's gonna rain so hard in a couple of minutes\", '@AsianMeerkat @johncrossmirror far from it. Being LFC fan makes me expert in spotting mental weakness and lack consistency :-)', '#FF amazing singer, actress and model @annastaff :-) https://t.co/Cioa8dXbrc', '@ODubPERV Happy Birthday and see you tonight :)', \"i'm in amsterdam guys wooo :D\", '@MatjazSircelj stuff just happens. :)', '@Michdabitch_ you have no friends :)', 'NeoBytes :) Universal Pictures seeds pirated movie copy, files takedown notice against itself http://t.co/4ESrPPRXCA', '@NAYAKHK 2)IndiraG wanted Judiciary to be committed to Govt policy. Now they want RBI to be committed. But I know many have similar views :)', \"@neiltyson What are your thought's on Kepler 452b? :D\", '@1RobBeasley any progress in Stones transfer to Chelsea ?? :D', '@Flash_y0 GGs bro :) fun series', 'You always be part of me, I am part of you and defenitely...♬ @MOHDBINTANG :p', '@bryantduncan98 of course man :) Nofx is my shit', '#friskyfiday Yipeeee :) x https://t.co/nysAkC8IF0', '@KimbleFrench Morning Kim. Sorry to hear this. Can you shed some light on the issue so we can look into this? :) Helen', '@martymccarthy1 @ABCRural A great incentive to get kids to eat their Fruit &amp; Veges :-)', '@KameshRajak welcome sir :)', 'Do you know in average it takes 6 seconds to read this god dam mother fucking tweet.  :)', '@AdamRichman thanks for favouriting our tweet to you. Up the Mariners :)', \"@FCUnitedMcr getting close now. Can't wait for the new season :)\", '@katelynlander GZ :D what did you named it =^.^=', 'Morning all. Day off :-)', 'I guess sleep was just not in my list of things to do today :-)', '@RK1610IsMe Hai Rajeev..hope u r hvng a funfilled friday.It ws realy amazing to c diff side of Kabir.Fell in luv with u again :) A smile pls', 'just prettier :) and mine :)', '@JLo HAPPY BIRTHDAY TOO YOU! Best wishes from Dresden/Germany :). LOVE YOU &lt;3 &lt;3 &lt;3 &lt;3\\n\\n(Please share this) http://t.co/EByoLHnnOI', '@ConnellJess you wanna be a loser like me ? :) ♥', \"@zaynmalik Zayn please follow me, would mean the world! It's my birthday :D I love you so much, your amazing&lt;3\", \"When you're congratulating your friend on his graduation but you lose the plot. :D http://t.co/lRGfvh3yWg\", '0 sleeps! @RachelButterwor is officially on her way to Paris! I cannot wait :) #paris #tdf2015 🇫🇷🍷🍸☀️🇫🇷🚲🇫🇷🍷🍸☀️🚲', 'I put my trust on you! :)', '@HitItRichSlots Hey there, just a good suggestion, you guys should make a minions slot!! It would be so fun and cute :)', \"Happy b'day @HathwalaThakur :)\", '@PoemPorns hah....and a thousand more lies  :D', '@flurishing @blxcknicotine wow,looking good isabella! Makes me wanna start working out back :D', 'going to my room now bc i have 3% :-)', \"@Varun_dvn Okeyyyyyy VDDDD :)));))))  So excited can't wait ... ! ! Love selfeeee pics on insta :) ♥♥ special coco .. 🙆🙌😛😄😄😁😂😂🐒😁😝❤ #dishoom\", '@Gangesh_Gugi No thinking of writing myself :)', 'Finally went to the drive in tonight :-)', '@katelallyx thanks for the follow have a great day :)', 'So Im going to sleep Goodnight :)', 'hello :) http://t.co/VQVmRN3BR1', 'yup i know! okay let me try :) i done it. Hhahhaaa — Haha. http://t.co/ikHF6vKbyW', \"@ABNORMAL_ANA92 i'm supposed to ask where do you buy albums :)\", '6 days to go! :)', 'Hello :) Get Youth Job Opportunities follow &gt;&gt; @tolajobjobs @thulisiletshele', \"At least there's one cool thing :-))))\", \"Hey guys that's my new page! http://t.co/nHvR6teXH2 \\n:)\\nEnjoy http://t.co/XRctjTX4SQ\", \"@kindofstrange @ohyoufox Jeeze Tara move on, it's about #TeamCannibal vs #TeamSpaceWhalingIsTheBest now :p\", 'Morning gym session done! Feels good to workout early...now to enjoy the rest of the day :) #friyay #workout #fitfa… http://t.co/UjjGXrtMRk', 'I guess I never really identified myself with pharmacy :)\\n#VeryLateRealisation #IWishIKnewBetter', '@jakastr yeah we know there were lack of few things but hey please do check our final design, satisfy enough? :) https://t.co/EXt098Yq1b', '@MusicAddictTBH wow! Nice combination :)', 'Charging my speaker up finally got it earlier today :)', '@bookmyshow Doing :) #MasaanToday', '@Intoxicationall Later turned out to be now :D', \"@babyytayy_ text me when you wanna meet up and I'll get them :)\", 'Not long :) https://t.co/AYsppJcwlg', 'Me and my friends never talk ess-aych-eye-tee about anyone :)', 'YAS. \\nThanks @cm_valladolid for these :) 😊 https://t.co/4rNoGpudcX', 'Stats for the day have arrived. 1 new follower and NO unfollowers :) via http://t.co/mVWm6PefFG.', \"@delafro_ @unbearvble yeah the left one supposedly hurts more bc it's right over your heart apparently. It'll be fine! Good luck :)\", 'Hello :) Get Youth Job Opportunities follow &gt;&gt; @tolajobjobs @Brian88071070', '@starksmurdock AHH THANK U :D', \"niall followed a fan :) and i'm still here without his follow 👍\", 'My sisters are the best!!!! Best pre bday celebration :))))', '@The_Sleigher among my all time fav tweets :D', '@franklin_25_8 happy birthday g. All the best in life :)', '@wendy1704 @Queen_of_Orange No need to stress out - they will be with you in time :)', '@NamanGarg26 no immediate plans but hopefully someday in the future :)', \"@iGroundbreaking Could you make a Foxy's Song version in instrumental form? It sounds so epic on beats alone :)\", 'I second that! Well done :) https://t.co/PeTkjvF5af', '@KristyArnett Your thinking to hard in bed! :p', 'Tomorrow at the #GoldCoast :) http://t.co/yRat44jWAy', '@Natasha_Thahane I like the way you said it Gal #LeloMustFall, you are so beautifull by the way :)', '@mistytewest Happy to save the day :) Hope you enjoyed your meal Sam!', '@anime_narutoINA thank you min :)', '5G Liker :)\\n.\\nlike Fast :*', \"I like such morning when I got dress that I bought :) I'm totally in love with it ♡ #newdress #happy… https://t.co/iJ1Mv1UV5l\", '#ff @LivelyKaty How could ANYONE resist this beautiful smile? :-) #quacketyquack https://t.co/fhndvkscgM', '@CG_Rated did u mean to hide the fots? :p', '@Pyarey_Afzal aww thankyou :)', \"Ok good night I wish troye wasn't ugly and I met him today:)():)!:!; but ok today was fun I'm excited for tmrw!!\", '@dotlung indeed :-)', ':) Good Afternoon :D\\n#TwitterFollowersWhatsUp\\n#HappyFriedDay\\n#KeepSafeAlways \\n#LoveYeah\\n#emojasp_here', '@CaptaainMorgan okay :))))', '@nakamuramartin @DamienMcFerran @Kosmikat That makes two of us then! :D', \"@greatestcookie It hurts having to read about people's holidays when being at work :D\", '@mattbarker14 Nice to hear you want to switch to us :). Our Pro Kit would be the best choice for you if you follows this link it will', \"@BowenBBC beautiful...winter? It's like summer in Russia :)\", '@JediEconomist I thought you’d like that mate :)', \"I'm playing Brain Dots : ) #BrainDots http://t.co/R2JBO8iNww http://t.co/ow5BBwdEMY\", 'Stats for the week have arrived. 1 new follower and NO unfollowers :) via http://t.co/XxdpHuNfvp.', '@slutwantscock dm me? :p', '@lazybull81 also come game with me :)', 'Thanks :))', ':) Hope you enjoyed http://t.co/W3BNxHVv0w', '@vapemestoopid Ok,the first time we chat,and then i made such a joke lol .I believe you wont forget me,will u ? :) my name is @DannaQiu', '@TheBodyShopIND #MyMonsoonStory The Body Shop Body Mist Vanilla,as it works wonderful on my skin :)', '@VikkFollows :) The best YouTuber out there... keep up the good work man #StarSquad #Sidemen', '@Miss_Dyna_Mite yaaaaayyyyyy you are my best friendaaaaaaa *shouts like minions* :)', '@UNAPCTT Thanks for adding us to your list! :) Make sure to keep in touch for more news of our light bulbs made from corn waste.', '@IGNUK #1TBPS4 Wow! what a prize! so delightful for my eyes, pick me to win and I will burst and sing \"PS4 is mine and I feel divine\" :)', '@Garfyville In Bath? :) Even we don’t have wheelie bins, nowhere to put them @paulmutton', 'Getting ready... #UberIceCream @RekolaCZ #messengerforaday :) http://t.co/dnryPnHAD5', '@chingyapp yeap :)', 'https://t.co/gBIMDzQBY5 Must watch :D #BajrangiBhaijaanHighestWeek1', '@KimKardashian @KendallJenner @KylieJenner @khloekardashian @kourtneykardash Cool..... congrats Kylie!!  U all look so nice    :-)', '@CathsStrawberry I thought your work was  seasonal, you will have really busy days. Ok so deal for weekends and in your toilet breaks :p', '@justinbieber YOU ARE DADDY AF... :-)', 'The latest one :) https://t.co/iRHOYxQeln', 'Happiness is when you make the most of what you have now. :)', 'So far so good. Ikaw musta cheatmate? :)  https://t.co/YzJt2feA1u', 'E.L.F: \"Thank you for being a singer :)\" | Kyuhyun: \"Thank you for being E.L.F\"', '20 ghanton se light nahi :))))))', \"That one didn't last long. LOL \\nHe has blocked me already. \\nIt must have been all my nice tweets. \\nThey hate them. :) @limelite001\", 'When ur skin thinks ur still 16 &amp; decides to break out :-) cool', \"@OdellSchwarzeJG How?Easy.Get up at 5:30 am, go to work, come home bout 6, take care of home and family therein. That's how. You'll see. :-)\", 'Thank you Majalah http://t.co/5jjCWZzXuj for having @nabilaAF2013 on your July issue :) Lovely 👍🏼👍🏼👍🏼😍😍😍😍😍🌸🌸🌸🌸🌸 http://t.co/zhk7SVrIhE', '@IaneboyIester into a pity party so :-)', \"#TGIF unless you're one of my students :) Some light reading http://t.co/XxpxBHC4oH on #singapore #heroes #gp #essay #alevel\", \"@DominiquePirrie @unlatches @ShinonSai Dominique I'm your biggest fan like oh my I'm from England too can I get a fan sign :)\", \"@cyjaexlne good, 'cause I'd like to upload it myself. :)\", '@EnvoClan Goood mornin earthling ! :D', '@rupal_hs Happy tweeting! Are you liking the new build? :) ^MM', '@kavonyo okay yay! Ask tomorrow please :)', 'Always :)\\nBe positive!', '@LampShopOnline  You too Lamp Shop :))', \"My word, @anaturalwedding &amp; @TheStoveRoom - what big sites you've got! Changes a-foot :) #website #development #revamp\", '@bridgetminamore I voted for #brainchild 3 times, please may I have a poem? :D', '@Anoushy_Aliyan @8624810880Khan @aliapari86 @AyeshaKhanReal @RiddaMazhar Over Confidence Confined U In Ur Own Limits...:)', '@DanielNewman Wishing you were in Colorado :)', 'Happy #Friday folks!! If your order your #Goodyear #Tyres online @Protyre, you can get upto £40 cashback!! (T&amp;Cs apply) #yourewelcome :)', 'Nightly routine of simpin :-)', 'Add me on the snapchat yall :) give me your @ names', \"@Ekow_bk I'm looking for influencers for my app :) If you're interested, here's your invite http://t.co/ipJ2yOiGet\", 'Sketchbook art by love4wilde Drawing of hair I did turned out pretty cool :D #art #hair #colors #colorpencils #cray… http://t.co/tn1yicz40N', '@6townsradio am tuned back in. With hubby :) can u play him queen pls', \"Fell asleep at like 6:30 and now can't fall asleep and I have to be up in two hours :-)\", 'Great night with great people :)', '@pakalupapito imma use this next time :)))', 'Ob 11h v kino? Why not! :)', \"Goning to make thos a positive day :) you're an adult and i can't keep on acting like your mom..\", '@lindseyasuer Hi! I see u like FourFiveSeconds and think u might like \"Deaf Ears\" https://t.co/nO9B1b1vtN .Plz let me know what u think :)', \"@WhiteZoey Great, I went to Kardamena, last summer, amazing  beaches and wonderful sea, but this year It's time to go Samos #Greece :) :) !!\", 'The chicken in my Caesar Salad was a tad bland, but I can live with that. :) @FreshMenuBLR', '@carterreynolds i love it how your not afraid to respond to hate :)\\nily x x x', 'First leg of the @magictrikband tour is going well! :D #music #band #rock #magictrik #tour https://t.co/CQHqWfa7ft', '@sakshij020 @shabnam_903 okk den call abp n spread it on allover d India n abroad as well :p', '@rejectzmgc thank you so much! :)', '@RenboySA Please let us know which store you will be able to visit so that we may inform them and they can be expecting you. :)', '@mikestone14  Your tweet is very much appreciated! Thank you for being such a dedicated member :)', '@machado_man4 @TashaShukla @CloydRivers and freedom to hangout with whoever you want to!!!!!!!!! :)', \"I'm liking this :)\", \"@JulianGazzia Hi :-) If you're looking for tourist info get our application ZonzoFox clicking this link http://t.co/Y8yTe8E9wg. Bye ;-)\", 'its leo season :-) ♌️', 'Life Is All About Kutiyapanti :D \\nI Love My Life For This :D', '@MSaito6 @AdeccoWaytoWork thank you for your support :) \\n\\n#KunoriforCEO #CEO1Month', '@ZoeyChandler6  we Professional we do hits videos : Wicked Boomshot fuh di world even yours thank you :)', '@maureenagena Yeeeey, welcome to the club. Its been one and a half years off whatsapp.. and i donot regret it.. :)', \"@pussy_lilac No problem :) it's a pleasure ❤️\", '@f0nzie send one please :) i wont expose or roast &lt;3', 'lemme cover u in lipstick n cran vodka :-)', '@TheKimTillman ROAD TRIP!!! :D', '@emily_etc I always walk past this place! May have to go in and try them for myself now ! :D', \"@Circuit500 yeah but now I've lost my 's - calling it a day :)\", 'Jummah mubarak to all \\nRemember me in your prayrs :)', '@NotJagath are you a member of හෙල හවුල by any chance? :D @Chevindu', '@GreggsOfficial I missed you baby :) #onemochaonelove', 'Yo Southpaw was a GREAT movie someone better be getting an award for it :D', 'The musical and human genius that is Stromae! :) @stromae @SylvieYonke https://t.co/LzBSWxsQO7 http://t.co/z2zZWgMOm2', '🔴 LIVE @flippinginja on #YouNow - Jonah and jareddddd :) https://t.co/fINXQiPtSn http://t.co/8zWxLtDwdB', '@katiemcmillan90 &gt; Message: full name, d.o.b, address, postcode and Talkmobile phone number. Thanks! :)', 'Last classes this morning before two week break! :-)', '@EmilyBett Happy Happy Birthday Emily! :D', 'ELF Fighting HuHa :D :)\\nMy #TeenChoice for #ChoiceInternationalArtist is #SuperJunior!', '@belittle4u  I may find this very confusing :)\\n*just a simple wolf*', '@loulou_lucia nice pic :)', '@rinpunzel_ what are you promoting?:)', '@hahahakumakichi Yeah! The bird transforms into a sword. :D', '@KaReeMLSheNawY it is not even a real word :D', '@babypuffinator it does, you could have misread worse things :p', \"@RickyBaby321 It's not forwarding Richard...it's 'follow' :)\", '@lazariWilliams Hey, You like FNaF? Check out our Youtube Channel! https://t.co/sc9kDhaviX :) via http://t.co/J3sxzzg7cU', 'Yup, happen everywhere when people cant debate they come to name calling :-)  https://t.co/dRiMWpj7ON', 'Just need to get through work today then to Ibiza! :):):) #birthdaymoneyforjesusjuice', '@lvshak @AllysonMarty anytime :)', \"@PuppyShogun mistakes happen man, as long as we get to play the game, we'll be happy :)\", '@Mathpro314 Hey, wanna check out our YTB Channel? We post Gameplays &amp; Tutorials! https://t.co/sc9kDhaviX :) via http://t.co/J3sxzzg7cU', 'On this one constructive criticism welcomed :) #ganesha #texture #photography #art #hinduism #hindugod #elephantgod http://t.co/QFhF2zUKib', \"@SleekStudioz yes and you've always been selfish as fuck :)\", '@MangleTheLover Hey, You like FNaF? Check out our Youtube Channel! https://t.co/sc9kDhaviX :) via http://t.co/J3sxzzg7cU', 'I WANT to create the FIRST #Bboying #Cardgame with #pixelart #gamedesign :D!!!! What do you think ?? #indiedev #pixel_dailies #gamedev', '@xemig sounds still like a good idea :)', 'There are no limits. There are only plateaus, and you must not stay there, you must go beyond them. :) _ Bruce Lee', 'Mans singing under the rain :) https://t.co/uj3mnLaJmo', 'Laguna again.  :) see you', '@Kanhajigi :))\\nTime nhi tha Office work bahot tha so\\n10 baje raat ko liya tha Hath me Try to Create Best.\\nBut 2 ghante me itna hi bana paya', \"@melfoster666 That's not true.\\nI can quit whenever I want to.\\n:D\", '@brtoon  thank you :) out and about there this weekend so will try my best :) !', \"If u like uta read the manga :-))) you'll love him even more :-))) haha yeah\", 'Family hang out :) ^_^ — feeling festive at Jamuna Future Park http://t.co/CXQXINIqJI', 'Those who move forward with a happy spirit will find that things always work out \\\\:)/', '@SwiftBlablaCat remember when she sent out all those presents last Christmas?? That was dubbed \"Swiftmas\" :)', '@pop_ruth you miss this! :-) http://t.co/upXtepl57y', 'Super proud of @AstonMerrygold :)', '@ElleDonnellyx @Beverleyknight @mattcardle lovely pics, @MemphisMusical a fab show :-) x', 'morning :)', '@Tilion_IDK In Tha at case, Trion and their interactions on the forums and on Twitch. :)', \"@roma_cream that's the spirit :) #WsaleLove\", '@OMGitsBern_92  All sorted in the early hours. Thanks again for your help &amp; raising the initial issue. makes the community what it is :)', \"@DeMoorSophie Hii, can you follow me, please? I'd like ask you one thing in dm :)💞\", '@haleyannmcallum Happy B-Day :)', \"@JenLawUS that's disgusting so glad you have your acc back :) I hope they get what they deserve\", 'Back to 80s?! A brand new #Commodore64 Programming community is in town now!!!!  :) &gt;&gt;12th August @techspacekrk http://t.co/zAS2l96ljT', '@alejandrinar32 okay :)', '@vadervanodin im wearing mine when I dj next fri :-)', \"@AnnabelArrowsmi Thank you for taking the time to tweet us Annabel! We'll pass this on to our London Bridge team :)\", '@DailyBBLife @JulizTwinsBB he already does :)', 'I am in every way like Jess. :)\\nhttp://t.co/otGCWw1gUu', '@CocoCuscino happy Friday! :)', 'Short, routine #quest from #Borderlands :) #wanderrook http://t.co/NAPmqm2do6', \"@davidrmoloney thanks for that. You've made my day! :) Let's organise a meeting soon. Are you based in London?\", \"I'm that person that has to workout and eat healthy because the minute I don't I gain weight :-)\", 'GM \\n Meet My Precious \\nMy Soft Lady  my Real Friend        Mizz precious :) ;):*      \\n\\nHow Many Likes For Her No... http://t.co/G9F2cwO6WZ', '@iamAhmadshahzad aameen..:)\\nLong Live Pakistan..#BleedGreen..✌🏻️', '@JIBANG88 already following you back oppa :)', 'Liam and Sophia in Chicago :) ♥ https://t.co/GrD53KA2G5', '@im_soexcited @alamocitycon Btw, about that honeymoon :) These are for you. http://t.co/fVYAV8v0yO', \"@Charles_Lister Yeah, bring the boom to Da'esh while co-ord with the FSA. #Estatic :)\", \"@BrandonHerrigan Welcome :), when's your next meet ?\", 'Singer Dusty in TUNISIA &lt;3 Music for TUNISIA &lt;3 it was wonderful, very nice people :-) &lt;3\\n\\nYOUTUBE:... http://t.co/859XGmZ1W9', \"@el_crd2601  la class's :p\", '@NotThatBobJames Hahaha Go Doug! :-)', '@FionaBunn1 Forgot to ask, but may I post it on FB? Happy Friday :-)', '@amorecrudele Visit my blog http://t.co/UzOAqroWKx thanks :D', 'When everyone is fuckin irritating :)', 'That also means, imma go back to being more twitter active :D\\nCause I know everyone missed me ;) xD', \"@NehamsChamaria @euphonious_tone Hello Ladies! Apologies for the delay. Please DM us your address size details and we'll ship the prizes. :)\", 'Here &gt;&gt; Free $5 Voucher for my twitter friends to use on Fiverr :) https://t.co/ozKEhcY9ML http://t.co/nfDSHggVV7', \"@awad_gina @phonicfm @WomenAwards Oh Gina, you have been busy :-) Can't wait to see you and hear all xxx #soproud\", \"Happy Friday everyone! We hope you've all had a fantastic week! :) #Friday http://t.co/0ATADpLkMF\", 'Yes the One and Only Team :) https://t.co/Q81LMMtmxm', '@JohannaTurbo88 Happy belated Birthday sweetie :)', '@cottypne @PaulPNE70 @TrekkingPaul @charlvdh @FcPNE @PNEShirley @mandajohnstone @YvonneOrr @Gem_Pnefc @kimramshead morning Emma :)', '@mayusushita @dildeewana_ @sonalp2591 @deepti_ahmd @armansushita8 Thanks Guys :)', '@carterreynolds @hankgreen then why would he say they did? :-)', 'Love makes two hearts one. :)', '@TeamGtwy Thanks for adding us to your list! :) Make sure to keep in touch for more news of our light bulbs made from corn waste.', '@MrsBee21 Thanks Mrs Bee!! xxx :-)', '@MrSteThompson Thankyou :) \\n@BCMZ_UK @MsMMango @tina_baines @CrownSheringham @LastMinuteUSVac', '@Tsad Close enought ? :)', '@TheTwoHalvesAle Good luck...another potential favourite watering hole :-)', 'Bad Boys :) #burgers #melbourneburgers https://t.co/TyD88wr40d', 'who wants to ft me and Arianna :-)', 'Everyone follow @CruelGamingClan :)', '@lesholly20 Hey Lesley, so sorry they did not get to you, I shall send you some more out in the post tonight :)', 'Thank you Esai :-)', \"@shartyboy Thanks for texting me back :)) I'm not texting you tomorrow :))\", 'i unfollow back :)', '@HantsOnlyTeam hope you are enjoying your stay in Rotterdam. And now you know how to cheer on \"our\" Jordy Clasie :)', '@thingforasians hi my hot girl did I say how very hot and horny you are darling xx :) ♥', '@babynizayn sure. Done. :)', \"@DeniseAlicia_ if the salon bleaches your hair with Olaplex it won't damage it like at all :)\", \"It's all about teamwork, right? :D #ZitecOfficeStories http://t.co/ycVA2V6ecq\", '#FF #HappyFriday @SageVatic  @marchicristian @bounceroriginal @BeenFingered @Dj_Mando_Off have a great #Friday :-)', '@JavsNH sure :)', \"@SBS_MTV #다쇼 #GOT7  \\n\\nLet's have got7 facts :)\", '@monkeymademe the @raspjamberlin is still on tomorrow? A work colleague is interested in bringing his kid along :) can point him to EB page', '@krigsmamma Tack &lt;3 :D', \"T'would not be a TweetUp without you @coleman_21 You are  booked on @Sabrina_Boat rest assured. @MButlerColesHR We have you booked on too :)\", \"Thank you so much @ABCTV - I didn't know the greatest magical detective #JonathanCreek was back on TV! Off to set the DVR now!! :)\", 'getting home at 4 waking up at 9 :):)', '@KatCrisp1 Thanks for taking time to tweet this Kat :)', \"@mogadeet It's been a lot rarer in my life than on twitter :)\", 'okkkk frends milte h break k bad :)', 'What could be more fun than a sexy girl? TWO sexy girls :) 👉 http://t.co/S7kW8WESbs 👈😘 http://t.co/p7EnTlcsum', '@SpongeZim .. Thank you Mario... Have a wonderful Friday.... :))', '@Daniilarkin1 Have fun Danielle! Hope it goes well :-)', \"@amyewest Thanks! I hope you've got a good book to keep you company. :-)\", \"@iflixph yeah i've watched them before but of course rewatches will now be ad free and faster I hope :) thank you, i look forward to more!\", \"@yusufyuie priced around 1600. I'm gonna forward you some info about it to your email so you can decide if you're interested :)\", '@tangerinebean Has A got out of bed yet? :-)', \"@pottorty awwww! Sige next time u know na punta kayo dun, imma make sure na we'll go din! :-)\", '@tributes4u sure thing :) x', \"...because it's Friday :D (y) http://t.co/MD55NIzEnQ\", '@comicbookhes of course, i would like that :) x', '@lolArnav NOOOO i didnt even know thats how you actually typed it out i googled :)', 'i found my prompt :-) http://t.co/f2HU2dalox', 'just chillin w/ my salmon :)', 'to see beauty, you have to believe in its existence first :)', \"@Jay_05_ HI J, you can upgrade from T-Mobile, Orange or EE with us. DM your mobile number to me and I'll ask sales to call you :)\", \"@vickybeeching congratulations, really looking forward to the book and some good Sunday morning viewing. That's an awesome teapot BTW :-) x\", 'Three refreshing cocktails for an even «hotter» summer! Which one suits you? :)\\n#londoutrading #cocktails http://t.co/JHJVzHOXLQ', 'I LOVE YOU :) &lt;3', \"@hinanRana WIP. Let me get a few things tweaked and I'll link you up :) Max kal tak.\", '@BrowhausUK fab giveaway :)', \"@PXC_Macavity In case you didn't.. it's on my Facebook wall. :p\", 'Stats for the week have arrived. 3 new followers and NO unfollowers :) via http://t.co/VHA72j8cqp.', 'HOME ALONE :D', '@EmilyBett wishing you a happy birthday have an awesome fun filled day :D', '@ellefie @serial I will let you know if I hear of anything :) xx', 'Wayward Pines later!:)', '@yasminyasir96 yeah but it will be better if we use her official Account :) Like The Other @PracchiNDesai ❤️', '@MelodySpetko Rock muscles! :D #iLikeit', '@BlooodofoIympus @johncrossmirror far from it. Being LFC fan makes me expert in spotting mental weakness and lack consistency :-)', 'Check this page belonging to one of our Watford Community Housing Trust enterprise cube particpants :-)... http://t.co/ZwaOnouXpo', '@MinseokBr follow back me pleasse :)', '@hufflepuffjimin omg thats such a sweet thing to say thank you :-) yeah i used to go to saudi arabia a lot because of my dad', '#TY! \"@dean0133: #FollowFriday @fredgarden8 @joeodiete1 @WillowRaven for being top influencers in my community this week :)\"', '@zouiriaII Good luck for ur exam :)', 'We are the one and only approve and recognized Fanbase for BAILONA :)', \"It's nice seeing people changing what they need to fix. Because they care. :)\", \"Your happiness is your responsibilty. So, don't ask others to make you happy! :) #FB\", 'off to the park to get some sunlight : )', 'My happiness. :) &lt;3 https://t.co/m1VBOMyhhm', '@SaddestTiger @davedittell   Good night, Tiger!  Sweet furry dreams!   : ) xxoo', '@SleekStudioz nice one :)', 'Who wants to elevate from your position? Who wants a promotion! Who wants the favor of God and the favor of men... :) http://t.co/cOECx9BBNd', \"I'm so insecure tonight :-)\", '@InsertCoinTees @ViralNinja @AppaWarcow @alibakes @ibsdawg @andrearene @Just_Ge0 @JustTeddii @EGX @MattPascual &lt;3 you guys! :)', '@ShevoyzOfficial \\n@MADrigaaaal  @TheConconFelix \\n@Kalangitan  @khenlizardo  and Dan\\nGod bless you all.  Meet and Greet soon :)', 'mom + :) = horror movie', \"@FVCKL oh hell yeah :) I'll be expecting a text next Tuesday\", \"@sabahulhaq You're welcome Sabah :-)\", 'Match day Bitchessss !!!\\n\\nReal Madrid vs Man Shitty :D', '@brianteeman @GW1992 I squashed the commits. Did it still make 200 commits? :)', '@smallfastloud @dangerbayley we are down in the west country this weekend so next riding day is Tuesday :) sunny weekends all around', '@Gurmeetramrahim #OurDaughtersOurPride Many Many Congratulations to you PAPA ji :)', '@itsbecca65 thanks becca :)', '@DeltaDaily @DeltaGoodrem love the new song Delta you rock :)', '@jonny_ives we saw this and thought you might need an upgrade as the girls are getting bigger :) http://t.co/AzDWGWAPBb', 'at first I did love you, but now I just wanna fuck, late night thinking of you until I got a nut :-) :v\\n\\n\"look... http://t.co/8YhLcb16Lf', 'Enjoy a cute baby panda! :) http://t.co/9m6RWHsQEr http://t.co/UO77pIgatL', '@imynnx done yun :)', 'Watching Joe dirt 2 :)', '@lee_ball @imikerussell @SocialBro Ohh #HappyFriday! Thanks for the love team. :)', 'Always be positive :). #postive #selfie https://t.co/FDFpAD3wzd', '@ShaggyCoe Good morning Sharon. I really hope she is doing better today too &amp; that her medicines works. Thank you, I will :) ttyl x', \"@gculloty87 @linda_regan Oh fab Gav she's a lovely lovely lady Linda talked to her a few times on here great actress :D X\", '@joiredve follback :D', '@magicbricks Answering super sonically Fast :) Would love to win with you for the very first time ;) #GOHF', '3hrs before.. :) tym to prepare', \"@deadmau5 dieback music pack totally worth it! It's awesome :) #dota2\", '@SammyAlbon morning! :)', 'I think I might endit my London photos &amp; vids into a Minecon &amp; a London video :) just to look at and remember the great time. *-*', '@ta_radio1035 @prillybie ok... sering2 play yah min.. HAHA :))', '@Btigzy @McJamKeyper JoeRine scene :)))))\\nJOSHANE POWER TANDEM', \"@MCunleashed :D I can't sleep until I need to. If I try I just lay in bed bored\", 'Stats for the day have arrived. 6 new followers and NO unfollowers :) via http://t.co/zWIln6s729.', '\"I shouldn\\'t b called a friend if I am not there when needed\" :) ...https://t.co/lfSZl8UbXt', 'Hello Ligao City, Albay! :-)\\n\\n#Concert\\n#BCYC\\n#LNHS https://t.co/3Lzz3xvAYp', 'goodnight ! i love Luke with all my heart :-) all my love 💜', '@KylieDeVille Happy Birthday!! Enjoy your vacation!:)', '@Satbains1 Congratulations Sat on your 3rd honorary degree from everyone at Alacer :)', 'Hey Raspberry Island  : skelo_ghost :) Want to get iPh0ne 6 for FREE? Kindly check my bi0. Thx https://t.co/TO0kTgrY0y', '@aliaa08 @colors_infinity @karanjohar Thank u!!  :)', '@_Halie13_ thanks for being so great!:) ❤️😘', '@QueenBiankee You deserve all of that and madadagdagan pa yan :-) Congrats again :-) #BMC &lt;3', \"Save your money \\nOr use them in a good way\\nMoney is money \\nIt's for better life\\nAnd fun :)\\nHave a nice day\\n\\n11:11\", 'when u find our ur friends ditched u \"cause of a lot of things\" :) WTF HAVE I DONE IM ACTUALLY A NICE PERSON', '@VarunKiAliya23 Then Order Some Dress.. :) :)', '@Megalos_K I like your eyes :D', '@grillo_23 @sleepyjoe2 @Karnage90 @RichardDawkins Dear person, please study before embarrassing urself. Entropy works 100% w/ evolution :)', '@Dahlialien yes I will stay in touch :)) are you on Instagram??', 'Looking forward to this! Always love Giggle Loop. Two other great acts too :) https://t.co/4JwMhC45Fr', \"Cheers for the mention... even if it's in the wrong section :) https://t.co/7453UA7n6Y\", \"TY again dear Eva.\\nI'm totally agree with you :-)))\\n@anvy2446 @4HUMANITEEs @SexyAF12 @kikbella @adasamper @RachelLFilsoof\\nKeep Smiling u all\", '@iansomerhalder here in Spain is morning :) Good morning Ian!', 'On another note, found this in Camden Town... :D worked to. http://t.co/MDtJGcXopb', \"won't even talk to me just great :)\", \"@Ileana_Official ohhh 'll wait for 28 :) luv uhh\", '@AmberMarineArt Thanks for the favorite! :) Make sure to keep in touch for more news of our light bulbs made from corn waste.', '@hansolotto with SCoups^^ they are for 17 like jren is for nuest!:D', \"Oh lovely lovelayyy! Thanks! It is ok about the kidney.. I don't want it anyway. :p https://t.co/ZbO0cjqhzG\", 'Neuer Post Online :) @elfcosmetics Fixing Spray http://t.co/V0Rm1BsEIj', '@TechnoBuffalo do check us out!:) http://t.co/y3xHComvwr - Untangling was never easier! #DTangle #patent #innovation', 'No class today but I traine with some friends :)', '@JORGEACISNEROS okay let me get my bat :))))', 'No one falls in love by choice, it’s by chance... :) ♡', '@The_Quirk  and you would have to email me on (Donnae.Strydom@westerncape.gov.za) -  :-) ta --- @helenzille', \"@ArchieDait That's great to hear, we'll be sure to pass on your thanks to our staff :) -Nic\", '@chordoverstreet just seen this at uni.. He has more talents :) http://t.co/eNq3XuOPSN', '@msarosh Uff Itna Miss karhy thy ap :p', '@SP4NKO Aww love it. My kind of men :))', 'this #mca money tells my story :) http://t.co/I5Xs6tQE9W', '@KatGraham_Italy You did save their lives! :-)', 'Hey Juaquin  : V3NZOR99 :) Want to get iPh0ne 6 for FREE? Kindly check my bi0. Thx https://t.co/ETZhxUbtKc', \"@booogley because you're breaking out of your shell :-)\", 'Truth. :D http://t.co/EI7VtynLOx', '@chuckaikens Fantastic. Thank you :)', '@polarizehes heyy :) can u rt this link https://t.co/WztNf8e6cO and tag michael? please. thank you', '@MariaSharapova The hashtag says it all ................ :)', '@JonsCrazyTweets still more green tea blends with other flavors. :)', \"@MaslowFanArmy i'm very excited for what's coming :) he really deserves it.\", 'What you do today can improve all your tomorrows..... :-) :)', '@ChrisMitchell91 sometimes :-)', \"@AlexCarranza21 I'm so sorry! I ran out with a friend after having a rough day. I'll try to stream on Saturday! :)\", '@ciaela get well soon :) xx', 'Me + Bed = Best couple ever :)', '@Motts is my favorite apple sauce :)', '@scousebabe888 Nice Holiday Honey!!!!!!!!!!!!!! :-) Kisses', '@awselu follow back me pleasse :)', '@ajm9890 \\nThakyou sir :)', '@beat_trees thank you Beatriz :)', '\"@TeamBaiLonaOFC: Rt to be in Bailona group chat , \\n\\nMention  @imJANExoxo to be approve FANBASE :)\"', '@cinghh @imvnaj @BahetiRidham party cancel :p #BajrangiBhaijaanHighestWeek1', \"@SwitchingToSave Thanks for the follow :-) Hope you've had a great week?\", 'Puff pastry egg tarts. Hot and fresh from the oven. :) @ Wan Chai MTR https://t.co/HLkgHwatJM', '@IsaacKirop Thank you for following us :) if you like cool new products, check out our campaign: http://t.co/qv2DwDbGI3', 'making Alyssa rub my tummy :)))', 'ALMOST DONE WITH MY MASTER SWORD :D -Princess Zelda http://t.co/dPcL2mGjdc', '@Bruneluni ive emailed you regarding course query! :)', '@SivaKaneswaran  Happy Birthday 🎂  @JayMcGuiness  #Jiva for ever :) 🍹🍸🍻', '@dxela77 Awesome news mate. Well happy for you :)', 'Jumma Mubbarak :) \\nTo all ❤❤', '@dspdavey Gorgeous, Deborah! Good taste! :) You can use coupon code COLOURDEB for red, purple or blue here:  http://t.co/MXEKsnMvvX Thanks!!', \"@19strawberry66 im sure it wasnt anything we're not already used to :) Glad ur home!\", '@PB_Furniture @whittakerdesig1 @smart_bn @Klick_Business @HartleysRooms @REDlineCC @RedBizUK @earlybiz Woooo! Happy Friday friends :) #ff', \"Planning to send my email to chippy's vessel on Monday with PS : Happy Anniversary haha :))\", 'Computer #sex? Count me in ! :) #funny #vintage http://t.co/ClwnnMFV0D', \"@dontyk if it's no use to you, I'll pick it up next time I'm down :) yeah, I'll cook in my nice big kitchen! 😍😊\", '@RockMyWedding @SouthFarm1 @JohnHopePhoto @MirrorBridal @Dune_London @Coast_Stores @EtsyUK @Etsy @blankcanvasent Love it! Great collage :)', '* ✫ ✧ ˚ @Louis_Tomlinson ✧ · ✵ ⊹\\nThank you for always putting\\na smile on my face\\nMind following me? :)\\nHave a nice day x\\n1710', 'Looking for fun? SNAPCHAT - GooffeAnottere #snapchat #kiksex #snapme #lesbian #instagram #mpoints #mugshot :) http://t.co/p4IqffSWJp', \"Can't sleep so much I want to do for all you love bugs but I only made 33 tokens never mind they are yours :)\", 'Gamer Follow Train!\\nFollow Me\\nRetweet this\\nFollow all who retweeted\\nGain active followers :) 110', '@quintonjournals Look forward to hearing your thoughts :) #maritimenation', 'Stats for the day have arrived. 2 new followers and NO unfollowers :) via http://t.co/TRfnv7X9GN.', \"@The_RHS There's some stunning show gardens @ RHS Tatton Park Show. Wonderful designs, construction &amp; planting :) http://t.co/E9nEtLezT6\", 'Here you behave or else u jump_Julias Malema :D', 'Hello :) Get Youth Job Opportunities follow &gt;&gt; @tolajobjobs @IvanVissies', 'Have a Great Friday Frens :-)', '@NASA nuf with the teasing already - show us the aliens now - everyday we seem to get closer to seeing our alien cousins :-)', 'New monitor goodness :D', 'Good morning Kimmy :) @KimberlyKWyatt', \"@zoomtv @kdruls @mishrasugandha is your channel's show #PlanetBollywoodNews 's full epi available online?! :)\", 'Evolution ! :D http://t.co/6el4C2C0uF', '@harryperfx fback?:)', 'i love airports :-):-))', 'I love you too :) And now I want corn chips :)\\n@SoldHerSoul', '@terrylancashire @junkeedotcom Thank you :) Tricky bt v important subject.', \"@SwgGuy Hah.... :D\\nDon't say sorry...\", 'Be-shak :p http://t.co/hvJGkLnVTK', '@chewy4cutie but you can with me :)', '@KChenoweth Happy Birthday, Miss Chenoweth! Hope its a great one... have oodles of cake :)', \"@fwmkian Happy Birthday Gorgeous Hopefully i'll see you at the fair :)\", 'im going to bed i love hailey and milks CrAźY SęXXXÿ CøÔL runway look :)', 'That feeling when someone shares a review you worked hard on :D', 'gooodnight i love all the boys and iv ris zoe katy jaycy jen :)', \"Well buds, guess I'm going to bed, goodnight guys, see you in the morning, or whatever I woke up :)\", '@bigcomedyuk @WilsonsKitchen @lisaflutterby thanks for the follow have a great day :)', '@Team_BaiLona Thank you :)', \"@SabrinaKeane it's not a bad thing!!! I think we all have weird faces!!! It's rad :-) thanks though!!\", '\"You make me alive, You make me suffer, You make me feel.. \\n\\nAddictive song i always sing in KARAOKE :-)..', '@ontokkiland he really is such a cutie :D', 'Ltsw here we gooooooo! :-)', '@djcunningham Thanks for the favorite! :) Make sure to keep in touch for more news of our light bulbs made from corn waste.', '@5SOSTumblrx I threw my phone at the wall :)))))', '@aleeshajulia @IAPI_Updates that is a giant balloon! I want one :)', 'we just face timing :) http://t.co/UoqAstlhxO', \"@GP2_Official what's the hashtag for the weekend guys? :)\", \"@SarahFHandley this one looks like it needs much more careful study I'll favourite it for later :-)\", '@CorcelEscort your welcome hun :) Thanks for following me!', '@SocialRMadrid its 12pm here :)', '@ThessaNaomi THANK YOU SO MUCH MOM FOR GETTING @sadcuddleashton TICKETS :)', \"Thanks Manila_bro for the follow! Let's connect soon. :)\", '@_Lineo_M_ LOL I sometimes tweet from @Coach_Yanga account lol but only on days when we are both home but I dont have a lot to say now :D', '* ✫ ✧ ˚ @Louis_Tomlinson ✧ · ✵ ⊹\\nThank you for always putting\\na smile on my face\\nMind following me? :)\\nHave a nice day x\\n1709', \"@daniameows i hope one day he'll fall in love with a strong woman to let him see all the things that he refuses to see now. :)\", '@Wirral_In_It @bevclack @sharpeleven \\nActual LOL!\\n:)', \"@grrl_afraid that's such a great idea, be lovely to have a fellow veggie! :-)\", '@ManipalHealth c) 75% is made up of collagen #ans2win #HopeToWin :)', '@MandaAssa awww thanks hey, a million :). Enjoy your weekend hey', '@V4Violetta Or that. I guess I need to build my content around my image inventory a little bit then :)', 'Gamer Follow Train!\\nFollow Me\\nRetweet this\\nFollow all who retweeted\\nGain active followers :) 1', 'Snap me :) @lulgeann', 'What brings you #together with your #friends and #family? #LoveForFood #FoodForThought #ThoughtForTheDay :) http://t.co/L06NhpQ9xk', '@aatishn  carpe diem Mr Nath :)', \"@da_kar yep I'd been doing it without Ning it then was recommended a book and thought wow! This is it :) I think general positivity leads to\", '#TY \"@dean0133: Appreciate your recent Retweets @SaracenConsult @joeodiete1 @Gelatiscoop have a great Friday :)\"', \"11:11 meet michael and hug him so tight and talk to him and tell him he's important and that I love him so much and make him smile :D\", 'me: as long as i feel comfortable im gonna wear what i want\\nmy mother: haha...that sounds nice...but no :-)', '@richardosman congratulations to you daughter! :D', 'goodnight I love everyone but hate myself because in stupid :)', '@ailyngarciia Thank you for filling me in! Although my opinion still stands, BUT we can just agree to disagree, no harm done! :)', \"@StormyKittyhawk You'll see me Saturday :p I'll see you then Stormy :D\", 'Its time 2 party :D http://t.co/hjnT6v40eT', '@RblSports upgraded ans synced up. Plus it can be done from a single remote device. Getting there folks. :)', '@em__scott haha I know!! Not messing about :D', 'Want to say a huge thanks to @WarriorAssaultS @uktac @BolleSafety @Mechanix_Wear @Airtech_Studios @Hexmags #FF Thanks for the support :)', \"@KingsmenLead Found the song you mentioned; the Nylons on the GVB cd 'It Takes a Mountain.Titled 'Do unto Others ' #theworldwouldchange :)\", \"@PascalPrecht @thoughtram as it's related to you I would make a new category on your blog. Then everything is on one place :)\", \"yah know I'm good at faking mah emotions :)\", \"It's going to be a nice Mother Daughter day out today :)) even though it's raining this morning! Have a great day folks xx\", 'idk but cant wait for tonights panel to be up for people :)', '@GlamDianee :) now, i have a reason more to dream....', \"I'am ELF, hbu? :)\", '@luhanqutie follow back me pleasse :)', '@hswift65 @roseofthesealee PS I took 80-1 so I am hopeful on all counts :-)', '* ✫ ✧ ˚ @Louis_Tomlinson ✧ · ✵ ⊹\\nThank you for always putting\\na smile on my face\\nMind following me? :)\\nHave a nice day x\\n1708', '@Neenkin yeah Neenkin congrats on your successful masterpiece! :) 🎉', 'Goodmorning. \\n\\nJust smile through the debit orders :) it will all soon be over.', 'Thanks @UKRunFree @MMNNActionUK the work you do for the beagles is amazing, you are incredible! :)', 'Rt to be in Bailona group chat , \\n\\nMention  @imJANExoxo to be approve FANBASE :)', 'Remember someone :) ♫ See You Again (feat. Charlie Puth) by Wiz Khalifa — https://t.co/vVAyGndwnL', '@8inky @LadyCranium @Nathan_Webb of course :)', '@DSprayberry @BaysideBand @AnthonyRaneri @tylergposey Hi Dylan and Tyler!! :) ♡♡♡♡♡', '@CelestialTea is my favorite tea :)', \"all i've done today is watch law &amp; order: svu. i love being sick :-)))\", '@BLACKTOGXLD my pleasure :D enjoy your day!!', 'Fine day :) https://t.co/VxnsjOVZdm', 'As the morning wears on, its getting darker. Is it end of world day today instead of September? :-)', '@bernadettesout1 LMAO! LOVE it, Bernie! :D', \"@natasghar lol ... Morning :) ... It's wet but hey it's Friday :)\", '@OhhhTommyC i aint never uploading lol. Also found another vid of u dancing to henrys trap; keep going on your fitness journey tommy! :)', \"@creativegossip yes I think it will b stupid to discuss abt wild card entries as of now\\nNow jst waiting for Vivian's performance :)\", 'New Blog! An Important Life Lesson I learnt from watching this movie :) Something that everyone needs to remember! xx\\nhttp://t.co/gco9IJqdcT', \"I'm not the best, not the most perfect, but I promise to love you with my whole heart. :)\", '@nair_rinku -Its u with transparent...glasses..:-)', '@bitcoinagile thanks for sharing Bitcoin News Stream, have a great Monday :) (insight by http://t.co/rMjqzWRE37)…… h http://t.co/a4DNHbw78q', '@nickhunterr Yes it is :D', '@ClimateRetweet Thanks for the retweet! :) Make sure to keep in touch for more news of our light bulbs made from corn waste.', \"@keab42 I rang in sick yesterday, then told them I'd be back in today. I'm better this morning anyway, and I have a day off on Sunday. :)\", \"@basementgalaxy Ping! I'm watching your TL like a hawk! :D\", '@namcew make use of the masquerade mask!!!! Lol #zorroreturms :-)', '@CFVUF We hope it helped! :-)', '@JamieLou93 Congrats to you and Ryan, Jamie! Delighted for you :) xx', '* ✫ ✧ ˚ @Louis_Tomlinson ✧ · ✵ ⊹\\nThank you for always putting\\na smile on my face\\nMind following me? :)\\nHave a nice day x\\n1707', '@Zap_Experience Thanks for the mention, happy Friday :)', 'ye to #Pk hay :p https://t.co/TSLYvAClux', \"@joogstonemakeup Hi Jacqueline, we're so sorry to hear this. Please DM us your contact details and we will give you a call :)\", 'A passion for beer which ultimately made its way to become a full-fledged business :) http://t.co/8vAYzUGK9p #Entrepreneur #Startup', '@Bespoke_Bride @ConfettiWedding @festivalbrides @RocknRollBride @RockMyWedding thanks guys :) was fun :) another 1 ;) http://t.co/AbVIfJ3814', \"@ZerbuTabek Hi I'm only seeing workplace one in my venue list. I'm not sure how to fix this? Thanks :)\", 'Oh wow thank you @GarnierSA :) my skin going to be perfect by the time I head to Lagos #Travel http://t.co/3DiloYW9MJ', 'wow luxord looks really amazing here in his new kingdom hearts 3 promo art !! :) http://t.co/FFJU1rlJpC', 'New potatos from the garden - and hundreds more to dig up :)', '@HowToFixMyCar Love it! :D @CrienaLDavies @HelenRoseTerry1 @PrestigeDiesels @star_aline1 @LeahRebeccaUK', 'Thank you. Have a lovely weekend everyone. :-)) https://t.co/1CcpcLlzic', 'Well this totally blew my mind this morning : ) https://t.co/jjXcm44YPJ', \"@thevieweast Of course! Now I've been cited in an academic paper I feel I've arrived :-)\", 'Life is smile :)', '@twigtwisters thanks for the info :)', '@UrstrulyMJ i will surely watch pokiri  1nenokkadine are my all tym favs :-) #BajrangiBhaijaanHighestWeek1 @raman_akshay @urstrulyMahesh', 'yang on retweet ~! :) :D', \"Who's still awake ?:)))\", '@John_BHarris @FakeGhostPirate @F1StatMan @xownage133 It was a heritage sword made of wood, so no :D', \"@andrewsmith1443 You're right ! Thx Andrew &amp; have a great day :)\", '@Migogos so true :)', '@colorlessmoemoe i beleaf in u :-)', \"@Niallll_1Dx it's a cool video i love it...:) thank u\", 'Season 11 set ♡ Have a nice Friday #SPNFamily ! :)) #SPN11 #AlwaysKeepFighting #JaredPadalecki #JensenAckles http://t.co/mGAYutmknZ', '@theguyliner @Trishie_D cool. :D', '@fczbkk Exactly! :D', \"@kevinngmingyuan peasant seats to watch a peasant team...I don't mind :p ahahha\", \"@chriswiggin3 Chris, that's great to hear :) Due times &amp; reminders are indeed planned, both will be available in the not too distant future!\", \"@RachelLiskeard Thanks for the shout-out :) It's great to have you aboard @inkfunnel\", '@side556 Hey!  :)  Long time no talk...', '@staybubbly69 as Matt would say. WELCOME TO ADULTHOOD.... :) http://t.co/zHQy0iyaCP', '@DanielOConnel18 you could say he will have egg on his face :-)', '@AndreaMarySmith very helpful .... Or will be once I stop crying :(', '@realyys_ OTL NEVERMIND :( at least i got jeon so', 'And AS SOON as I tweeted that she planted her claws in my thigh for traction and zoomed away :(', '@luketothestars damnit :(', '@KLM I used to be PRY/PV ..... wish I could relive those days and become NYC/PV buy there is no way to communicate with NYC or USA KLM :(', \"It's really hot :-(\", '@Carouselballet Monday? :(', \"@badoeuf If going to stop breakfast early you might want to remove the 11am from your website. Even McD's doesn't pull that trick. :(\", '@blairforce2 which means its on its way over here :( 3rd load just hung up', ':( but wtf am I supposed to do now without her', 'Headache strike :(', 'English weather needs to fix up :((', 'Live fam bam but I have a cough :(', 'Absolutely gutted all the James Bay tickets have sold out for Manchester :(', 'Seventh spot na lang :( #OTWOLGrandTrailer', 'Splendour :(', '@lizzytrevaskis @1057darwin OMG! Swedish hair metal legends HäirFørce in the studio while I am on leave??? Noooo :( #givecodpieceachance', \"@missalicebmbds it's sore, Alice. :(\", \"I'm not ready to work yet :(\", '@adoringpreston someone unfaved :((', 'stiles :(', '@infinityandbion funny mo :(', 'someone explain #SandraBland :(', '@archietalanay dont be sad :(((((( ily', '@sonzhi No, I am going to spend the night in Prague and then leaving tomorrow :(', 'one of my friend is following me , a little heart attack , im sorry youre blocked :((((( sadis', \"@ellierowexo no I'm annoyed :(\", \"@GabyInTheFields Consider yourself lucky! my favourite character didn't even make it to the season finale in The 100 :(\", '@SarahLucero boo. I had already turned in. Yes. At 915. :(', \"@BeaMiller I DON'T HAVE ITUNES SO I'M WAITING #NotAnApology :(\", \"my layout doesn't match but it's the closest I could find for my header :( someone help\", \"@RamaZafar hayeee :( hayeee :( patwari here mam but for IK's vision I would say nothing rather than a lil laugh\", '@Mjbulanhagui13 agh, sorry :-(', 'VidCon :( :( :(', \"@Quality_CE don't gas me :((\", '@TheKelseeey awhhh ok ok :( see you nalang when class opens!!! Hehe', 'Last night was one of the worst night :( I pretty sure this Albanian women cursed me', 'Air Max Tavas pls pls pls pls :(', '@ChaeHyungwon_ taken :( another chara maybe? -teteh', '@devjoshi10 dev I.m verry sad cause you on twitter and than me off :(', \"@ryannhough I can imagine! This would shatter my dreams :-( We'll let our @CooperativeFood colleagues know all about this. ^SB\", 'Too much missing you :(', '@IMJicellmoreno Nawee ! :(', 'I WANT A WHITE FRENCH BULLDOG :(((', 'Wanna feel loved :(', \"@WeeklyChris Aww Poor you T.T I wish I was there to help you. Even though I can't really help much :(\", \"I'm sorry I didn't see this tweet :( 2 Points x https://t.co/N6HMgKfoR1\", 'I miss the Macho Man :(', 'can i hav my purity back ? :(', '@heartissoJEDlag i have kwento :( fbc', '3 days without talking with Bae :(', '@punkrockbgmouth @indiandeathlock whaaaaaaat noooooooo :(', \"@WeeklyChris \\n\\nPlease tweet me something I'm sad :( you can cheer me up \\nplease..\", 'I miss my brown hair :(', \"Nakakapikon yung nagbabasa ka ng blog comments for info and it's full of people asking the same damned questions answered in the post. :(\", '@kevinperry leading cause of cancer in children under five :(', \"Alone :-( :'( :-\\\\\", '@rcdlccom hello, any info about possible interest in Jonathas ?? He is close to join Betis :( greatings', \"@chescaleigh I'm sorry people are being shits who don't respect your personal space. :(\", '@seulgi_psv noooo :( *sogok ice cream*', '@lucyanne_l Thank you for sending premium writing instrument, however some dastardly swine stole it from envelope! :( http://t.co/xNe3cD6dvk', 'Im getting sick and tired of pipol saying Im short... M not Short... I AM TINY :(', \"@Charlie_Bread fair enough :( why would anyone do that? Just seems a tad fucked up 😔 .. It's a wiper, a wiper!\", '@EMPERYtech supposedly one of the worst kernels for any device :(', \"i'm so bored :(\", 'Is this true? I doubt it is :( #ZaynIsComingBackOnJuly26', 'Today’s job (another facking #Intel). Extra mega careful not to get bent socket pins :-( #PCGaming #PCUpgrade http://t.co/VeJNS9FBfn', 'Hate being the messenger :(', 'is everyone asleep already?:((((', \"@MoKurd they've brainwashed you :(\", 'can some1 pls download smosh:the movie free online? Hahahaha :(', 'MY kik - plawnew837 #kik #kikmenow #amateur #sfs #snapme #summer #hottie :( http://t.co/2HnzstgnOa', '@rivverofhoney Omg no way?! not you guys aswell :-( btw cat litter isnt good for pregnancy make sure u dont go near', 'Ah Mensch @Tikus09 :(', 'Sepanx with this one :( https://t.co/4Hp6d3sMwr', '@LoseThe_Battle We cannot view the picture. Are you unhappy with the seats on our bus? :(', \"There's a huge bag of presents from Luke and I can't open them until he's back from work :-((((\", '@baexrv pcy mine :-(', \"@walesdotcom @Visitcaerphilly last time I went to Caerphilly I couldn't find anywhere selling local cheese :-(\", \"My eyes are really bad today and I don't even have my glasses :(\", \"@rauhlstilinski I'M OMW😍 lol I wish :(((((\", '@lukesdagger JOKE LANG EH :( HAHDHDHSHHS', 'Never seeing your dad until midnight bc he worked hard as fuck :( #GrowingUpPoor', '@JackJackJohnson @jackgilinsky NUMBER ONE IN AMERICA!! 😭🇺🇸\\ni wish i could buy it but no money :( http://t.co/7xyNmimTpR', \"Wish that I can buy all Bangtan's merch :(\", 'The pain of all #UberIceCream drivers being busy :(', '@lawrenceispichu oh gosh what did you say? And aw hun :( *cuddles*', '@DatMelvin @Official__Jakub me wants! :(', '@taimoor_mahmood taimoor Meray dost :(', '@literalwt tyas mind to refollow me :(', 'My stomach is killing me :(', \"as if not an apology isn't available in australia :(( @BeaMiller\", 'ksoo u dumb butt :(', \"@D4nMeAtSix @carterreynolds omg why am I getting hate for being a sex offender :( poor me :( I'm a stupid pissbaby\", 'i want to finish death parade by this weekend :(', \"I'm so frustrated with my planks. The times are super inconsistent, and I have no idea what I'm doing wrong. :(\", 'RIP TOM MOORE...... I LOVE READING HIS COMIC BOOKS....\\nANOTHER GREAT ARTIST I WILL TRULY MISS  :( http://t.co/f5uVxTUcSE', '@tylerftirwin I miss this so much :(', '@catasrtophe awww i miss you too i swear but Twitter these days are truly boring so i rather watch movies and football :(', 'when can sch get better........ :-(', 'my throat is so so sore :((', 'Why is no one awake :(', 'Im hungry now :(', 'Get in the bin, OSX/Chrome/Voiceover &gt;:( http://t.co/0bcvA6YjWu', '😂😂 what a night :(((((( so devo xxx https://t.co/9ixTnyBXLb', 'im so sad :(', \"I hope it's wrong about #HulkHogan but I think I know deep down its not. It's hurtful to wake up that kind of unpleasantness :(\", \"@Yoonginese I don't even know what to say :(((\", '@kingsxcreed daaaaaamn :((', '@maaaybs Grabe ang harsh huhuhu why u like that? :(', '@halfmoonhalsey aw babe :((', 'my boys r playing :( and i cant watch it :( rip', 'Dadas uh iphone na, :(:( [pic] — https://t.co/Jr4U98A8ja', \"@OscarTrue89 no sorry I'm fully booked :-( xx\", '@ssulstagram why you unfollow me unnie?:(', '@norman__g lucky spike only :-(', '@imaginIarry omg i miss you 2 :(', \"Why didn't Panic's new album come out on the 22nd :(\", 'bigbang need some rest :( they have been travelling from one place to another, must be really tiring for them :(', '@Atunci_CoV @QuetaAuthor :( rude', '@nickiminaj you mention South Africa so many times in your song its about time you come to South Africa ! :(', \"Hate when I can't remember my dreams, I love sharing them :(\", 'What is going on in America man R.I.P to all the victims in #Louisiana :(', 'When school comes between me and twitter :(', 'Taking 190 at such a horrible timing :(', '@myungfart ella :( cheer up pls', \"@Lizarrdz That's no excuse for launching an attack Lizardz, you should feel like shit for doing that.  I am deeply ashamed of you.  &gt;:(\", '@dtaylor5633  Nothing worse :(', '@cockneyradish Sorry about that :( We need to get an emergency engineer out to you! Will you be home for the next 4 hours? ^Laura', 'I can never go to sleep early :( lol', '@elglozano home dormtel near st scho!! all girls siya tho :( do you want me to help you find oneee', '@JDRaPlD @Excluzzive I was talking to exclusive :( U know I carry U want me to play 😘', '7pm on a Friday and I am dead :(', \"@fantasticpru @gemmajoobjoob Sorry Nat, school holidays.. :(  and I'm working at 1pm.\", '@Vitality_Watson why do you do this when Im in work :(', '@Shansdoe every time i have feta cheese, my head starts to blaaaaze! sometimes my vision is messed too and nausea comes in :(', \"@natzaz17 Oh no, that's not good :( We're not aware of any issues. Have you been able to top-up now?\", 'Sharknado, one hour that I will never get back :(', 'Yeah, leave me on read :-(', 'I cannot even sleep right now :(', 'And Ernie :(', '.@ItsFoodsPorn all over my TL :( hungry af!', \"@Marguuuuh it's raining :-(\", '@DasCarrot no EZOO for me this year sorry :-(', 'Looking for fun? SNAPCHAT : LilyButle18 #snapchat #kikmenow #amateur #kikmeboys #seduce #hannibal #kiksexting :( http://t.co/y8RcKiqSZ3', 'when ed sheeran is preforming in your country tonight and ur not going :(', '@Uber_Mumbai Cannot seem to get one in Powai! :(', \"My neighbor doesn't let me sleep :-(\", '@The_Lie_Lama back to Delhi :(', '@ButtCupboard my feet were cold!!!! and there was no point in taking the socks off okay stop :(', \"i can't belieb it's raining :(\", \"Since models own stopped stocking at boots I can't get any and I can't even order online because it's telling me it's unsafe :(\", \"@crushinghes the summer holidays are great but I'm so bored already :(\", '@X2raw_evicted Oh. I was planning on streaming Halo on Xbox One today.  :(', 'Drop Dead Fred use to be my favorite movie \\nI wish I had it :-(', \"remember was #2 on gaon and bad was #6 but infnt are eligible and apink are not :(((( acube why'd u do this\", \"So sad every time apink has an event .. Don't understand Korean  :( 😭😭\", '@iamcharleigh_ :( have fun', 'Bullshit......:((', '@Taylan247 :( - Do you know what happens to the internet light when the connection drops? Thanks, Kei.', '@Nigguhjoee @Kvndrewhdz @xEnigma93 I wish I could hear food :(', '@HanaaGhzlli hanaaaa its your birthday???? ya Allah sorry for not wishing you in the van jn i tak tau :( happy birthday gorgeous!', \"@redlipshoran @JacobWhitesides omg really? I'm sorry babe :(((\", '@tallertara what happened soul sis? :(', 'And faith :(', 'What was the last present you received? — haha. basta. :( http://t.co/xhdfobhn8N', 'Went to bed with headache...woke up with headache :(', 'Snapchat me guys : JasminGarrick #snapchat #kiksexting #chat #sexting #addme #mpoints #hotmusicdelocos :( http://t.co/xXfTQWzhAI', 'Relation full of lies :(', \"aw fuck there's a dress bag on the floor. dammit that's really loud :(\", 'Dhis👉 @AhmedMarzooq blocked my twitter :( thank you for the good time 😢 I play 8ball,  FAKMAREY,', '@LaEtchi unfortunately yours smells like doo doo :(', 'I wanna go to six flags :(', '@Sam_Ardi sorry :(', \"Shopping isn't fun when you're on your own :(\", 'I miss cat :(', '@bbgurrll i miss you too :(', \"I would like to be able to work full time on this stuff, but after this move, I'm having to consider taking on a fulltime job. :(\", \"@izzsugden yeah I've seen something about tinder on fb!! I was rooting for them :( but the other woman is frustrating me being so awkward!\", \"No food in the kitchen, no money in my wallet (thanks Barcelona) and my dad hasn't been home in a month so no beet juice either :(\", 'DCI today, now I wish I was going :-(', '@TrevvyM114 At work and freezing :(', 'Srsly, Y U do that? :((  https://t.co/g0r01GGj2b', 'Hate seeing my granddad like this :(', '@cessyybells sorry pre :(', \"@voxcinemas I want the minion bucket please :( it wasn't there yesterday! :(\", 'All is fair in love and war kapan update :(\\n\\nOh ya udah dihapus. Hilang dari muka bumi.\\n\\nI want to read it once more someone give me link 😢', '@tiaramescudi girl that was so quick too :(', 'so many nasty, narrow minded people :(', 'i want this in my room :-( http://t.co/alpqbVixcP', \"Because your friend does not respect your life :-( I'm sorry  https://t.co/ApJ18ZWK0x\", '@CollagenShots Sadly not :( @Fighting_Fifty @AmazingPRltd @Janettaras @Gracefodor @NikkiTMB @rozhubley', \"Sucks how I'm Gona miss Chellos party :(\", '@RCDeportivo hello, any info about possible interest in Jonathas ?? He is close to join Betis :(', \"@LizaNMinnelli i can't watch it on my phone. Sorry :( thank you still &lt;3\", 'The taxi driver thought me and Sophie worked for Nintendo and took us into the gates :( the security guards gave us the dirtiest looks haha', '@1994sdork omg :-(( I LOVE YOU SO MUCH MONICA SEE YOU SOON AAAHHH !!!', ':((( (at Crepes 40) — https://t.co/bazEmHlhYL', \"@captaintn @JAYBUMAOMGY @satgotlloco @longlivesamd don't kick my bae :((\", '@JoWaltham haha. Sounds like you’re having fun and games :(', \"@justinbieber you don't follow me :(\", \"school is on monday but i don't wanna meet new people :(\", '@exhaustcd BUT... I HAVENT FINISHED YET :(', '@bbomiyeh No. U forsaken me and ran off with the other gf. :(', 'Kanin please :( xD', 'Can not get on #hypixel :( want to record grrrr #thestruggleisreal #geek #gamer #gamers #youtube', '@EdmundMcMillenn I want afterbirth now :(', \"this is a bummer :( apink's digital + physical sales have been super great but bc of the timing of the album release they aren't up to win?\", 'OverPerhatian:(:(', 'this is so sad :((((((((', \"@GarryBrown75 That's awful :( My son missed his physics exam because he had chicken pox and they gave him a predicted grade. Poor girl.\", 'but srsly tho, bae looks so out of it :((((', \"@Cr4sh0v3rr1de Ahm...I've never been to London...nor on a holiday outside of Ireland in nearly 8 years :( Never got the chance/cash to go\", 'please follow me :( @JackJackJohnson', '@fivedorkz why omg :-(', \"5am &amp; I'm up wit ha damn headache :(\", 'I had a dream that I met Karlie Kloss &amp; she was so so sweet &amp; she wanted to take like a bunch of goofy photos with me. :(', \"i didn't realize it was 3 am i was watching concert videos and pcd is extremely hard rn :(\", '@matthaig1 SORRY if I antagonised you with this. But she calls herself a writer. And has had several polite nudges, too... :(', \"@helter_skeleton I haven't delved into it enough but what I have seen and heard is fucking horrendous. :(\", '@luke_brooks follow me :(', '@AdaptsTheGod but duo we both dropped double digits :( TWICE', \"@DaShawnBullfrog @PapaHogieBear I just got here :( come!!!'\", 'THEYRE SO CUTE I WISH I KNEW WHAT THEY WERE SAYING :( http://t.co/Vr3ICTaFIS', 'I care :( http://t.co/Oe5ID3cJIR', \"@Jenna_Marbles I wish I could've met you :(\", \"My grandad really isn't well :( I worry so much about him!\", \"@ayyedolans DO U HAVE GRAY'S FOLLOWK?!! OMG ITS TOO HARD these DAYS U KNOW :(:(\", '@nighteyeslrh and idk what to do bc we have no money if we leave :-(', \"@KyuminpuVELF a lot of people suggest, but they still aren't :(!\", '@justinbieber follback me pls :(', '@BroderickDamien you have to get a pace maker? oh no! :(', '@isalouise2012 ah mince :(', '@scdesc Molly deserved a much higher place :(', \"I'm so hungry :((\", 'all i wanna do is have a good time with no one hitting on me or dating me is that too much to ask for :(', 'Feeling very sucky w this running nose cough sore throat and fever :-(', '@flirtyoakley same i hate hot weather :( its my graduation ceremony later and all the boys are gonna wear suits everyones going to die', '@AlexaBailon \"let\\'s go to a party....in our pants \" ew :( gross', 'someone has niall layouts to give me? :(', 'hey christine, why so moody? :(', '@bluexxdream i miss you :(', 'THROWBACKS :( http://t.co/WEbrI8gAgM', '@jesuskylie @tothebeyhive thats not a good enough of a reason :( please dont leave youre one of my fav barbs', \"@LewissCharles Cooper, but I'm not convinced. Neither of your 2 please! I'm more concerned with Creasy winning Deputy - but she won't :(\", '@3nymph some taste so bad though :(', 'i was joking only man :(((((', 'I never removed the Minion from my car and now after 23 days it has run out of batteries! I have no \"Banana\\'s\" :(', \"@CurlyxStyls i want a sponsor but my acc is new so i don't have even 1k :(\", 'What if I told u guys its my bday today ? :( all gift I want is $5 paypal', 'goodbye stage already :-(', '@pixiesuga shit idk what time it is for me :((', 'today was tiring :-((', '@ughponcong pretty :(', ':((((( matt', '@DEPORSEMPRE1 hello, any info about possible interest of Jonathas ?? He is close to join Betis :( saludos', 'hey someone text me :((', 'Another dissapointed review :( http://t.co/HlnZzdW0Tz #bbloggers #makeup #beauty @BBlogRT @BBloggersUnite @FemaleBloggerRT', \"😫 &lt;-- this has to be the face every guy pull when getting head but can feel your bae's teeth in his dick :(\", 'Ahhhhh well :(', 'i wanna see paper towns w/ @milesfloresss :(', 'where can i get long lasting black pumps :(', \"@jaydebose omfg it's the most beautiful place ever I miss it so much :(\", 'Hate pimples :(', \"it's almost 12 but i'm so tired :(\", \"@latersbby honey &amp; brown sugar is only good for ur lips :/ but the amount of stuff I used on my face that I could've used on food instead :(\", '@shagotpm ikr hais why would someone sell that precious thing? :((', \"I'm so tired :( I haven't got a good sleep in a while\", '@ZhenJie3007 yea man... Suppose to football tdy man but plan fail :(', \"Please god I don't wanna go to work :(\", '@gracioussam I kinda miss Pamela and good!Anna :(', \"@norm Can we please be woes? I can't run through the six with you, though, as I live in Mexico :(\", \"@Charlotte_Solom idk if I can because I'm getting a mini bus there so idk what time I'm going to get there :(\", \"@harriep Hi Harry, sorry :( We're working on a mast in the area. This can cause intermittent service until the work has been completed.\", 'Looking for fun? SNAPCHAT - JannieCam #snapchat #kikme #webcam #snapchatme #kikhorny #musicbiz #hotmusicdelocos :( http://t.co/8aOe100cdC', '@KirkHerbstreit Braxton should have gone pro! :(  I feel bad for him.  Urban is unprecedented in brainwashing (see Tebow and Alex Smith)', '@dxniellacueto wat. Okaaay huhu :(( sayanggggggggg did you find yah phone?', '1. Taxi Service\\n2. Second Scheduled Blog Post\\n3. HOUSEWORK OR BUST :(', \"My mum says she's done &amp; that she's leaving my step dad :-(\", 'I want to go to Disneyland so badly :-(', \"BC OF THE 'THOMAS' NOT BEING TOMMYY :(( https://t.co/pYbIISPopv\", \"@LouiseMillerx @RedShoes4Life @x_Kisaragi @DayveHallam Billy did. I haven't... :(\", \"I fancy Kevin Clifton from strictly come dancing so much but he's now married :( whyyyyy\", 'NSC and MAT 0 tomorrow :(', \"@denissely Awhh i didn't see you guys or i would've rammed my car into you :(\", \"@bandq_help that's ok :( is there any reason why the vouchers can't be used online??\", 'KIK me : smadvow544 #kik #kikgirl #lgbt #photo #model #free #hottie :( http://t.co/Rzo9DqAXei', \"@halle182 everyone's at work I can't even get to yours :(\", '@quidco @TPOuk would love to see acdc..missed out on tickets :(', '@Lungi_jobe :( akere ive been sending ka my gmail and u not getting :(', \"It's their last stage today :( I'm going to miss them seeing them almost everyday\", '\"@Boy_Hugots: Never give up. The best things take time.\" weh :(', 'GUYS add my KIK - sprevelink633 #kik #hornykik #chat #porno #orgasm #free #webcamsex :( http://t.co/ZepUgc5yJ3', \"@xsushie why you're now lana? :(\", 'Missed 11:11 :( btw my wish was for @carterreynolds to follow me♥ #LoveYouTillTheEndCarter ☺', '@Shonette @HartsBakery Aw that sounds great, better than what i  have for lunch :(', 'I want to play the SFV!!!\\nCapcom plz :(', 'Tips ONLINE!\\n6/7 WINNERS yesterday!\\nJust 1 goal off a nice 20/1 :(\\nHopefully a similar strike rate today!\\nhttp://t.co/lJEB3EPZVt', '@phenomyoutube u probs had more fun with david than me : (', 'Soooo burnt.... :-(', 'need new phone :(', 'Missing my tito daddy :(', 'when will rosie and hayoung shut up :(', 'I just want the Ram and NLB :-(', '@KyraaVazquez @geneanex HAHAHAH holy shit!!! Comforting why? :(', '@OhHeyItsAJ How could you be flat and have abs at the same time... @_@ \\nGym tayo G!! :(((', '@RohYB_ @Glanny_ @_wattie yeah :(', \"First two days of Katies summer and she's been back and forth to the doctor with suspect meningitis and viral tonsillitis :( poorly girl 😷\", 'I wanna go to the movies today but no one is down :(', 'I want to watch Paper towns :-(', \"@katiejosephx I've had no reply yet :(( !! But ange has given me some work for the next 3 weeks 😝 x\", \"@cmoan3 don't say that :-(\", 'Babyy :((( http://t.co/WX0gjCms9t', '@Cath_Kidston they dont have it either :( I will just have to have ugly cushions for a little while longer. thanks for your help.', '@JayMcGuiness happy birthday again! And please come back to singapore :-( 😿💓💓💕😚😚😚😚😚❤️❤️❤️❤️❤️ http://t.co/5LIiqJqpBt', \"@APluckyHeroine @Mrsnige no. They have to weigh up risks. Premiums will go up. :( A lot of money.1 reason I'm not that keen on getting a dog\", '@PexDesigns @TheAnimeBible I know that feel man :(', '@Wolf_Stack yeah by the looks of it :(', '@walls @UberUK @cornettouk I can\\'t see where it says \"ice cream\" on the uber app :( what do I do after setting my location?', '@BenJPierce I wish I could see you Ben :(', \"@kennyfairley @kevrobbo27 i don't think we will ever win the Petrofac Cup :-( ;-)\", \"15 Days ago Danny took my wig and put it onto mark's head I want to go back there @thescript @TheScript_Danny :( ♥ https://t.co/9ojA3FPxKF\", 'This&gt;@AnaMyID a pathetic emotional burden.Says she likes me, cares about me, hugs me, respects me, tolerates me! &amp; calls me names too! :-(', 'is allergic to cats... itchy throat. :(', \"@sxnflame I don't like dogs :(\", \"Man right now, I wish someone would bring me food to my office. I'm starving. :(\", '@VyenAngel gosh its cheaper in malaysia :( here its worth 130 +shipping', 'the weather is set for more sleep but responsibilities. :-(', 'i think someone hacked my other acc :(', 'Guys nooooo :-( what a WOW!!!!! Wow wow wow', 'This boy was snapchattimg me and I was happy bc friends then he ruined it when he said \"you wanna have fun😏😏\" :((', \"@sambirmingham2 I couldn't!! I look 12 still :((\", '@lemoncandykiss tbh I forget who is the donation manager in Sin &amp; due to my hp corrupted did a restore all my data lost lor :(', \"@Juandicimo23 it's the worst pain :(\", '@ladyliaaxoxo but never dedicating anything to me :( smh lol', \"Irene unnie bite her fingers and worriedly stared at staff :( ~it's okay unnie\", 'I feel so sick :((((((', '@deano042 @RealKrisTravis WHAT :(', 'GUYS add my KIK - toneady46532 #kik #kikmeboys #wife #porno #snapdirty #premiostumundo #sheskindahot :( http://t.co/Swy2jBs8SC', 'Omfg the hugging corpses :(((((', '@MynameisQin @ManiiFanii #taeny #fyeah the link is broken :(', '@DeEstrellados hello, any info about possible interest of Jonathas ?? Hes close to Betis :(', 'I CANT WATCH TONIGHTS ANDROMEDA :(((', '@yuniizu LA time, right? Yes yunnie, im serious :(((', 'Why do developers release good games during school?? :(', '@djdarrenjones Thank you! I feel awful, not been this sick for a long time :(', '@cloudljp THERE WERE A LOT OF WRITINGS OF THE BOYS IN MY SECTION WHDJWKSJA IDK THAT ZIAM WRITING STILL FUCKS ME UP\\n\\ni go to a 100k school :(', \"@LushKitchen Noo I've ben watching it like a hawke all week! So gutted :(\", \"Don't spoil me :( http://t.co/XJGO5Znsjh\", 'None of you were hiding behind my shower curtain again :(', \"@adlow76 :( I wanted it to be good, or at least watchable - but by all accounts, it's neither\", 'I WANT TO WATCH! :( https://t.co/wdETpUIyOZ', 'My last day in Indiana :((((', 'when your fav cheese gives you migrines :( &lt;&lt;&lt;&lt;&lt;&lt;&lt;&lt;&lt;&lt;', \"still sad that we haven't fixed my cars window bc I can't drive anywhere without being scared it'll shatter on me :(\", '@hannardynamite I only have the morning off work unfortunately :( are you at GDCE/Gamescom?', '@jjjaneell hay idk baby :( 😭😭😭😭😭😭😭😭😭😭', \"@VGO__ Oh no :( Do't think that. Do you have a parcel coming from Yodel now? If so hit follow &amp; DM over your tracking num. Chelsea\", 'I wish I could be friends with everybody :( lmfaooooo', 'Oooooouch!!! My poor pinky toe 👣 Good thing I work for Podiatrists. Just waiting until morning so I can go in. Hurry and be morning :(', '@michaelsutthako morning , i miss you :( :*', \"I miss my old house because you could hear when my parents door opened. Now I have to act like I'm asleep :(\", \"Gusto ko ng Rodic's :( someone share an order with me because one's big\", '@SVTNDino adoohh :(', \"@bumkeyyfel b-butt : ( isn't black cat a bad luck ene\", \"Missed out on tickets for @BelleSGlasgow's @RoyalAlbertHall shows this morning? :(\\nGet your #Tigermilk fix at http://t.co/QGGHsnicxv\", '@21dadoongie yes hopefully next year :((', 'I want to meet Jacob so bad @jacobwhitesides :(', 'Can you please tell me :(', \"@yoditstanton @elise_huard @bodil I used to recommend East Dulwich, but it's gone super crazy in the last five years. :(\", '@becchall awwww i miss you too! :(', 'The last few episodes were really intense :(((((( kagami n kuroko forever &lt;3', \"can't sleep :-(\", \"I just can't say nah to food :((((\", '@keancipriano I want to see you :( sana makita na kita and ang @callalilyband .', 'spooky jim and smol bean :(', 'One of the guys from true blood was in St. Fagans yesterday :( :( :( @KimIannucci', '@Charlottegshore Where can I buy your book #MeMeMe? I live in Finland :(', \"@theohurts whaaat. this so isn't fair :(\", '@JayMcGuiness nooo stay in UK IM HERE :(', '@Ashton5SOS aw poor thing :(', '@Hafeelalala I also want :((', \"@elementaladam This looks amazing! (think I saw them at meadowhall the other day actually) unfortunately its a weekend so I'll be at work :(\", '@seokielips sorry :( i spend more time on instagram now', \"RIP Lola. :( I'll miss you. Sorry at di kita nadalaw the last days. Thank you for everything.. sa memories, sa warm hugs, sa lahat. Labyu la\", '@kaydeejimin okies :-(', '\" I dont want anything happen to my bae :( \"', 'Who even started this trend? I wanna know if there is a jot of truth :( #ZaynIsComingBackOnJuly26', 'Snapchat me guys : IvyPowel19 #snapchat #kikhorny #chat #girl #like4like #travel #phonesex :( http://t.co/HNMkErVr2O', '@1DalertGER Schade :(', 'Missin my homeslice on her bday :(( &lt;/333 @wraithmedia http://t.co/1J3qYUTTqG', 'My poor throat :(((', 'MY FAV EMOTICON RIGHT NOW IS THE \" :(: \" EMOTICON', \"you see i'd get my eyebrows done at prettylooks but i wanna try different styles too :(\", 'rip whitney houston. :(', '@iAhmedMallick @LightAgayi \\nAur ap bhi is me shamil ho :(', \"I haven't been on much these past 2 days bc I need to save my 3g but I feel like I've missed tonnes :(((\", '@gambl3d Hey there - sorry to hear this :( Have you checked the service status page → http://t.co/xyUrkkSa60? Gen', 'Are you holding back \\nlike the way you do :(', \"The amount i'm eating these days is ridiculous, don't know why I'm suddenly always hungry :(\", 'omg when ally hugs mani she wraps her arms around her neck and pulls her closer :-(((', '@SensodyneIndia I loved it but this #ToothSensitivity :-(', '@jjjaneell yes we should :(', '@guptashas @cquenx We were heartbroken too! :( @Uber_Delhi', 'A chover :(', 'i want cebu lechon :(', 'my head is killing me :(', '@BABYGVL i want a kitten so badly oh my god :((', \"@Taylorr0se if I sleep, I won't wake up on time :(\", 'Add my SNAPCHAT : JannyGreen22 #snapchat #kiksex #xxx #seduce #tagsforlikes #nakamaforever #hotels :( http://t.co/K8jYN7SdAL', '@ellieharveyy it probably your fault he lost his phone :(', '@Glanny_ @soL_Lyah @_wattie I told him to suicide and kill both of you, but you ran away forever :(', 'are you mad at me ? what did i do wrong ? :( what should i do to make you forgive me :(((', \"@ConnorFranta PLEASE FOLLOW ME CONNO!!!! I'M LATE AGAIN!!! BECAUSE TIME ZONE AND I COULD FREAK OUT THAT YOU NEVER SEE ME!! :(\", '@iperfectyonce @justinbieber its my biggest dream can u follow me brooo :((((', \"@elegantxharry I'm a lonely girl from England too :(\", 'This time last week we were on route to Lovebox :( @MixedGemsBeauty shares her day and the new @CollectionLove prods http://t.co/tChmTf8om4', '@ashtonboyf IMS OSAD :-(', 'I hate breaking out :(', '@Zearify i was in it :(', '@wilywagtail It still happens a lot - unfortunately there are still reports that people are falling for the scam :(', \"eric &amp; i made up and he still didn't tell me he loved me :-( fake ass\", 'I miss ITB omigod :(', 'I need a job and to learn to drive but, my fricken health is putting me back. :(', \"@cleanupchick Hi, unfortunately, we're unable to locate your original complaint. :( Pls DM us the product details &amp; we'll get back to you.\", 'I miss my boyfriend :-(', '@ZappingZach same :-(', '@waniiamira ehem 😏😏 haha ala yeke :( its okay then, have fun in kk! jumpa next time, in ✈️ or 🇺🇸 maybe😋', 'Come home to an empty house and no ape :(', \"I've been such a shit bestfriend.:(\", \"I'm gonna be so inactive next month :(\", 'Miss :(', \"@RebelGirl1323 :( Well try to do something to keep your mind off all the bad things. We're always here for you\", \"@ANTHONYFTSIVAN i'VE NEVER SEEN OR FELT SNOW :(\", \"@TroutAmbush I'm at work :(\\nI can show you once I get home, but during 1.2 I lost my maps by accident and lost my builds\", '@halehydruh i dont know huhu tests kasi namin and i didnt finish my AP test :-(', 'Now I want a hot dog :(', '@34_1 no, they rejected section of the UK govt e-petitions site died :(', \"I'm so sad. :(\", '@zayndrome i cant find it :(', '@remnantsofme Oh no :( What building &amp; suite are you in!?', \"I wanna cut k but I'm with my friends and they threw me a sleepover party :( so I'm pretending to be ok like usual\", '@swcgtbh leave me alone :(((', 'praying for you , KHAMIS ... :( ... https://t.co/2Qg4dhxaGg #Kadhafi', 'damn forgot about my hot chocolate :(', \"I'm craving Oreos and milk :(((((\", 'And now that love island has finished I feel like summer has gone :(', '@sugarymgc i miss you :(', '@KrystalHosting Was just about to push a client your way for some hosting. Maybe I had better wait till next week :(', 'Im so irking :(', 'someone say thank u and goodbye to chris for me tomorrow pls :(', \"i need nate ruess' album :(\", 'I could just really use a hug and maybe some icecream :(', '@ZombieHam There are a lot of good comics events but they all seem to be for kids :( [part of the Schools program]', '@XFilesNews Looks more like dog food.... :( ugh!', 'I miss you so bad :((((((((((((((((((((((((((((((((((((((((((((((((((((((((((((((((((((((((((((((((((((((((((((((((((((((((( @denniselazaro', '@fluffyGAB aigoo our baby :(', 'Want to watch paper town :-(((', 'I just wanna recover :((', '@deefizzy :-( poor boy', '@KyraaVazquez u guys are together?? :(', '@gufuus i saw one doujin i think of killua getting fucked by ging i was a bit sad cause it didnt show dicks and i was hoping for ginggon :(', 'My computer has broken and i have to wait until to fix it.i miss so much the twitter and you,guys.All my love..:(', '@denisegohemun it feels like ytd :((((((', \"@thebodycoach Joe I'm sick can you come round and make me soup ? :(\", 'crying :(\\n#PDApaghimok', \"@woIfgaang it's the story of our life :( haha look who's talking\", '@Madrigal_6 I work :( smh', \"why isn't anyone awake :-((\", '@MonsterxStitch ya sorry :-(', \"@SP3CTACL3S she's my friend :(\", 'I used to be so flexible :( http://t.co/fc4NYvnfkb', \"This taxi driver is going really fast and I'm scared :(\", '@pamtravel I bet you are wonder what happened :(', 'Sheet, its hurt nanaman :(', 'Need a small lady to walk over my back. So sore.... :((((', '@JayMcGuiness i want to meet you :(', 'Alex fell asleep :(', \"why won't justin come to Scotland :(\", \"@wajiyaamjad ok I'll write u every week :((\", '@HuaAng75 but I have no curves and my tummy is so big.. How do I get flat abs? :(', 'It looks like. :( https://t.co/DgynGEpHuH', \"I feel so sick my stomach hurts all I've done is cried all night I can't sleep :(\", '@fyoudontknow WAIT ITS GONE. LITERALLY IT IS :(((((', \"@IsaHurairah that's a quote tweet :(\", '@dearestdaryl @hjoldr cream pinay pie soup :(', '@yslzaint this one :( http://t.co/s5Dw4o9nvb', 'jadi langsung flasback .. :( \"@GGStepit: @crownhyoding dont cry babyy ;(\"', 'okay i miss you @AnnShela_  :(( http://t.co/So3zOCWfiA', '@BeaMiller I can not listen to your album because I live in France :(((((', \"Some times I like this style :| but now I didn't liked it :( http://t.co/jjSI8VScPL\", 'Feel so sick :(', '@thomaslegal By all accounts it is meant to hit us by lunch time :(', 'i miss los :((((((', 'Pls stop saying rude nicknames that involve me being short im so sick of yall :(', '@jamesamurao I miss you :(', '@Apink_2011 pls write in english :( i dont understand', \"@lunatroye but snow is cold and gross and ew it's just a big mess because everyone just scrapes it into piles anyway :(\", '@maaaybs hey! I went home na. :(', \"But I'm still hoping :( #ZaynIsComingBackOnJuly26\", '@pinkle_dhesi @HonouredMind no nigga in dallas looks like that :( sale sare bandar varge', 'Hammering down here right now......looks set for the day.....:(', ':( vidcon :(', '@youniseabeegale Abby :(', 'I feel like crying for no reasons right now :(', 'poor them they must be so tired :(', 'When ur crazy af so you do this but it hurts so much bc u know that this shit aint real and its just edited :( http://t.co/ajZLTdCzI7', 'You will be forever missed &amp; loved lolo. :(', '@__onlynay xbsbabnb poor you :(', \"although my mum asked me to watch it w her… but stillllllllllll :((( she hasn't read it yet SHE'D ASK QUESTIONS IN THE MIDDLE OF THE MOVIE\", 'Working 5 am everyday is exhausting :(', 'How did I end up in such a state last night :( :( :( :(', 'tbh i prefer apmas14 idk man theres something not right with this years apmas :(', '@hookuptrade can u just give 350 to @RihannaPedia &amp; @HolyHardwell ill give u 350 + 350 Rts or anything pls :(', '@BRATSUNITED @ShutUpPenguin @epiphanichood why did it? Lmao. I only back out if it gets really really serious....:((', \"@FreedomChild3 Had wondered why this has not happened earlier? But then I realized, we don't have the leadership to do it!  :-( #wakeupGOP\", '@LlivingDead91 Ah dude :(', 'I wanna take adams candy and eat it :(', \"PLEASE watch infinite's mv!!!!!! :(\", \"Can't believe I was too ill to go to work today. Wish I was there :(\", '@cloudljp same :((((( i hate school U DONT UNDERSTAND i missed a LOT i blame school', \"like I can't actually put any pressure on my ankle so I have to hop around the house and I just lost my balance and fell over :(\", 'Bull shark :( I am so late!!!! Trafficccccccc', 'I miss oscar :(', '@BabySyasya_97 i need translator :(', \"@haelic but last time the one was working :( and their fb is gone too? i haven't checked for a long time lol\", \"@carterreynolds @hankgreen because you're asian!!!! ummmm or maybe because ur filmed child pornography, slutshamed, faked suicide,ect. :-(\", '@LittleMix Poland is not faraway from Germany girls :( I still believe that one day we can meet', \"@ArchieMill98 good on you! I quit my full time job last week and now can't find another one :(\", '@theresaninkspot :( Well, the cookies better be worth it', \"@MalcolmInx lmao if I can catch up to the point where I can watch weekly then I'll be ok with that if I make it to 700 &amp; there's 800 eps :(\", \"@nottswcentre Those cakes look AMAZING! Can't believe I'm missing it! :(\", \"@angelicaorganic I keep forgetting you're in the area.  :-( but want to visit. Next time xx\", '@BillPolykretis @to_kazanaki makes me want to watch the whole film, then the CGI kicks in (oops, pun) &amp; I start grumbling &amp; turn it off :(', 'Seeing delph in another kit upsets me :(', \"@Graceaddley24 miss you too :( ! And haha the x's 😂😂 I still remember how u hate them xxxxx\", '#ZaynIsComingBackOnJuly26 this is not funny :(((((', \"@harrypusspuss @ThePinkLaptop @toninicho We're allowed a cheat MEAL :(\", 'have fun in Osaka, super junior!! :( it would be lovely to watch their comeback stage though', '@ParkSooyoungie @_allypasturan @gbrllx aytona? hala guys get ready na mathird wheel :(( jkjk', 'Worst day ever :( #pain# ...', \"can only backtrack 3 hours :( .... it's time to start actually utilizing these lists\", 'so i have to survive another week without my phone :(', 'i wish :( https://t.co/H8nYlHaQOo', 'pats jay : (', '@4ndypyro sad story broh :(', '@shayftcolleen uh I was asleep :(', \"I need my boyfriend rn but he won't answer my callllllls :(\", \"@laylaharden The Icarus 500 awning unfortunately won't fit the 600 size :(\", '2 bach :( https://t.co/dPRNCcNEZd', '6 days left :(', '@JayMcGuiness please baby follow me :(((', \"there's nothing to do :-(\", \"I can't feel tomorrow :(\", 'No give work again your old staff come police later my be court.  I look another job.  :(  bye bye.', \"@genrentuk with landlords like @RichardBenyonMP as MP's though that's not going to be easy? :-(\", 'looking at old photos and getting sad :(', '@londonbakes oh no :( hope everything is okay.', \"@MrsAnneTwist @Argos_Online @macmillancancer i want i want i want you to follow me i want i want i want but that's crazy :( please love!(:♡♡\", '@WatchThatAnime @DigiWorks78 @eckoxsoldier its bullshit :(', '!! NUGGETS AND FRIES !! :-((', 'Love Warrior :-(', '@izzy_sainz but too tired to eat :(', 'daming assignment :(', \"I'm watching gossip girl and its making me so sad :(\", '@Wufanited tomorrow :(((', 'I still really miss my purple hair tie :( https://t.co/pqBSDisZQa', \"i can't deal with this match unless ishii just fucks everything up :(\", 'Clara and Yiling left me :(', '@bae_ts WHATEVER STIL L YOUNG &gt;:-(', 'last chance :(', '@CelestialZephyr SAME :(', 'is it just me or does it look like she cried? it looks like she cried a bit :(', '@S1dharthM Come online and follow people :/ What z wrong in me?! Y do u ignore me Sidharth?!?!! :( :(', \"@TotallyWonwooed lol, i'm too lazy to learn ps :((((\", \"don't sleep. I'm here : (\", 'Bad day???:-(', 'Tagal :(', '@vlamhlongovic Oh no Ndabenhle :-( Please let us know why you feel this way? ^SA', \"I've got one poorly doggy :(\", 'Reply please antagal :(', '@CrabbyCrabsBB Windows 7 here :(', \"@Miss_J_Hart @staffrm well, I'm only on P.41 &amp; 8 pages of notes thus far :-( and I've read twice before\", 'i want all of kylie jenners clothes :(', \"@SkyHelpTeam yes unfortunately I am, I have done the whole troubleshooting of the box too and I'm still having issues :(\", \"I miss those convo's so bad damn :(\", 'Dem free tix to Big Bang concert :(', '@TinyKyrus So youre not gonna guess whats inside my box? :(((', '@marlenejazmyne idk :-( maybe because I think boobs are more fun to play with', 'jahat :( https://t.co/k1MWoiqBiy', \"@Teeena232 We're sorry about this :( You'll no longer be able to access the site as you'll automatically be redirected to your local site.\", 'i was mad at gigi in my dream because we were hanging out and she didnt want to talk to me :( @GiGiHadid', \"carter: I don't deserve this hate :(\\nme: and i don't deserve just a single corn chip? I deserve two corn chips?\", \"@BeingJahirShah nnnoooo!!! Cz he's not a daddy gorilla anymore... :(\", 'I still have over 6 hours of work left omg :(', '@bastiani_matteo @sophiescott do you have a link? I missed HBM :(', \"Freaking humidity!! I think I never get used to it even I'm 100% Japanese. :(\", 'School works :(', \":( I can no longer admire the consistency of Jason Shackell's hair on the @NoNayNeverNet podcast http://t.co/T9rpuLyb5u\", \"I envy those people who get to meet and have a picture with Laura, Taylor, Lana, etc. They're so lucky to meet my babies :(\", 'I want both of this sa bday ko :( :( :( ^_^ ^_^ &lt;3', '@JayMcGuiness  :-( please notice me gonna spam u till u follow me baby', 'MY kik - twers782 #kik #kikhorny #lesbian #hornykik #girls #countrymusic #hornykik :( http://t.co/JYkCJdEdDP', 'I need hug :(', 'No words can explain how much i miss you. Hope you know that.  :( @zaynmalik', 'oh gfriend is performing rn? :(', '@GZTAEHUN ok :-( i only have my d &amp; w hahaahahahaha', \"@Worthless_Bums SM1 wasn't that bad. I mean, I only got mutilated by a robot that shot through a wall I didn't know could be destroyed...&gt;:(\", '@soorjugn dare :(', 'Good morning, Twitter friends! Hope you all have an amazing day! So freakin tired, need more sleep :(', '😢 \"@ haestarr: i’m just :(( http://t.co/FY8LWoZmob\"', '@Citadel_Hoju @Citadel_Carry @StubsAU @Citadel_Jimz I wish I was there to help :(', '@junior_jones it was good as always 😀Flying back today though :(', 'Why do I need to have a car that functions as a car :(', 'I wish Twitter would support audio recordings. I would send yall snippets, these are amazing :(', 'Et Brotherhood of Steel ? :( https://t.co/3qH5rrf0xs', '@JayMcGuiness  :-( please notice mefd', 'Missing Diana :(', \"The master @GodfreyElfwick has figured out how to turn led into gold, we're doomed :(\\n@Meteoryan\", \"i want to pull an all nighter but i'm so sleepy already :(\", \"All I ever wanna do is sleeep :( but they won't let mee\", \"Oh am I not allowed to vote for the teen choice awards?? :(( It said I'm out of the area\", 'all I want is for my icon to be a selfie of Jack and I :((', '@JayMcGuiness  :-( please notice meowkd', \"Twitter is turning so much complicated. Can't find the trends now. :(\", \"@CandySalvatore you're right. I'm very tired :( good night my Ally. I love you ❤️\", \"@wise_bryann 😂 I wish I had the channel to watch it :( I usually watch it online but I don't have a laptop anymore:/\", '@oreaux_ rude :(', \"Again, I would just want people to understand your busy, daily schedule 😞 c'mon, guys. I barely even get 5 hours of sleep :-(\", ':((( no they killed him', 'I think shes busy :(', \"Swimmer's ear kasi :(\", 'What do you want for your bday? Answer please — Idk leh :( :b http://t.co/EQxpxjoYB9', '@Preeti_GG @TheGautamGulati yeahhh ...:( tht corner will b remembered always only coz of gg...:( n bb didnot show ths clip in episode:(', \"@robertsammons it's released online but not on the album that I know of :(\", '@JayMcGuiness  :-( please notice me h', '😂😂😂thank you San😀\"@__Zanele: I wanna change my avi but uSanele :(\"', '@NathanDitum @corbynjokes Sad day for Nathan :(', '@Haydenwellsss @JoshWalker93 noo sad times :( Ruby will have to replace you as the shuffling act', 'i got so excited when micha rt or fave my tweet why am i such a creep :-( @japhantrash', \"Does anyone wanna be my friend, i'm just a lonely girl from England who is bored as hell throughout the summer holidays.. :(\", 'Home alone again :(', 'Whose idea was it to ave TRIPLE business lectures on a Friday afternoon from 2-5? :(', 'Until when? :(', \"@fvvxkk that's a damn lie :(\", \"@fubarpops I'm not allowed to give blood :(\", '@Jurisprude1 Then about six months ago, bottom jaw, second tooth from the back broke a quarter... on all things, chewing gum! :(', 'how did i go to sleep at 12 last night but rn im up :(', '@JayMcGuiness  :-( please notice me', \"@rebeccalowrie No, it's not just you.  Twitter have decided to take that feature away :-(\", \"@golden_kimono I'm okay, just tired and I planned to go out today but it's raining :( how are you?\", '@CNET Thats why they been pushing emoji, I give Sony five  :-(  :-(  :-(  :-( :-(  :-(', '@AaronCarpenter is it too late? :( #Followmeaaron', '@exobab1es tzelumxoxo ! I dont really used line because is at my ipod :-(((( i used whatsapp more actually !!!', '@Mursano buy me something to drank then cause we have nothing :(', \"i slept all day and now i can't sleep :(\", '@JayMcGuiness  :-( please notice mew', '@jhapaliMailo , some people :((\\nHow r  u?', \"@SMARTCares it wasn't indicated on the SMS I received. :(\", '@__onlynay you got regular :((((', 'My KIK : oulive70748 #kik #kikmenow #photo #babe #loveofmylife #brasileirao #viernesderolenahot :( http://t.co/GmmwD4PrhU', '@kewlaf I feel u :(', 'Longmorn 30 y.o. supposed to be a replacement to Tobermory 32 y.o. but... Beginning is strong, tail is missing :( http://t.co/NZ8zUhrA3F', 'Waiting for love me recuerda tanto a Bath :((', '@HendersJuliet where has the sun gone?? :(', 'He dies in the movie :(', '@OhHeyItsAJ Shit.. I suggest na suck it up muna :( I know its hard, but being a nurse is more important right?', '@Sk37cHi :( what’s the issue?!', 'hrryok: the fact that harry still hold his mom’s hand :( :( :( http://t.co/RZbFA247f8', 'And the much awaited excitement is all down now! going to be a boring friday and weekend :(', ':( why am I not asleep', 'baby :( http://t.co/ZbKfVPUCqm', 'HP and The Cursed Child. Not a book but a Play. :( http://t.co/QYfioHfctx @robertsycho @crystalkaye01 @AngeloGrona @hyashley', 'When ur crazy af and u want to hurt urslef by editing stuff lime this and u know this shit aint real :( 😭 http://t.co/5li6OFp24x', '@Hannahphern3lia oMG WE R THE SAME HAHAH :(( omg debut mo na next year :(((', 'I wish I could meet the boys one day :(', '@Julia886 I try not to keep it in the house any more. Used to buy truckloads but not doing miss 13 any favours, so no more :(', 'This is it :-(', \"some of the best spectator sailing UK this w'end but BBC just showing highlights :( ‘flying’ foiling AC45 catamarans http://t.co/p4n34Djjuw\", '@chris_shak if it was you maybe but its not :(', 'GUYS add my KIK - pely829 #kik #kikmenow #fuck #model #amateur #elfindelmundo #sextaatequemfimseguesdvcomvalentino :( http://t.co/S8cATQRzew', \"@bravefrontiergl could you pls take care of the servers befor you send that? We have no value in it, as long as we can't get in :(\", '@KathrynLNewton my lovely baby, sweet cinnamon you are the best :(', 'Comfort me. :(', 'MTAP tomorrow which means I have to sleep early tonight. :-(', 'penge bestfriend :( #PSYGustoKita', '@zoullgab Frozen bagus emang? :(', '@LucyAndLydia I wish I could dm you cute things :( (preferably cute kittens and puppies)', '@thejcenaligway I still have to get a paper from engg then go back to cmc then OUR before maging okay :((', 'that\\'s kind of a dumb statement because who LIKES moodswings?? it\\'s like making a tweet saying \"I hate terminal diseases :(\" like wow unique', '@Velocentric Slow news day! :-(', '@JayMcGuiness @JayMcGuiness :-( please notice men', '@ikoimoy you should have watched with us :(', 'Regret and regret :((', 'Even though I have seen the whole of Peep Show multiple times, nothing could have prepared me for Netflix removing series 1 -7... why :(', \"@ASUS_ROGUK @OC3D That's what she said! .... :(\", '@jehyop is there any other way for me to get the bandana?:((', \"@j13ssk Hi there, oh no :( Let's take a look at this for you, please chat to us here http://t.co/otFGtFoeyF\", 'that sad moment when u r leaving in two days :(', '@JayMcGuiness @JayMcGuiness :-( please notice mef', 'Did your rebound run away already??? POOOOOOOOOR YOU :((((((', \"@taarang lol we did it at 2am last night. My face though? People think I'm perpetually pissed off or sad b/c of my resting bitchface. :(\", '@CllrPeterSarris :-( @ missing all the fun', '@JayMcGuiness @JayMcGuiness :-( please notice me z', 'Only a few people have wished my birthday. :(', '@taoya_suzaku :( The world is awful.', '@StayChill69 I Let You Down And Now I Feel Like Complete Shit. :(', \"@KristyBookNerd Uh huh :( Two times, because I'm super clever like that\", '@__onlynay :( bitch you really went?', 'When fave unfollows :(😩💖 @itisfurny http://t.co/hoVQLoKtIg', 'I really want to visit iceland :(', '#Zayn_Come_Back_We_Miss_You &lt;3 &lt;3 :( SO MUCH @zaynmalik', 'Starving :-(', '@0PlATE bc I am feeling very creepy today :  )  // pmsl. mianhe, milkeu :(', 'I wanna meet the boys :(', 'the internet is being a total bitch : (', 'lrT bambam likes those sodas too :((( we were meant to be :((((', '1 More :(  https://t.co/PPuufIZNb3', \"i wish i could go shopping but my whole weekend is taken up :(( it's annoying\", 'the people i usually stay up with are all asleep wtf :(', '@_Jazdorothy cheer up :-(', '@isakigoboom Payback for liking your videos and trying to help you get kit kats? :(', \"I'm not even tired :-(\", 'So no one about to come smoke with me? :(', '87000 jobee delivery pls :(', 'HAPPY BIRTHDAY BES! @mahhriel_114 Enjoy your day beb. I love you! Miss you sooooo muchie :( See you soon sana! 💞🎈🎂🎉😘 http://t.co/c5ooBR6OV9', 'CUTIE :((( http://t.co/XLVw7xaYSi', \"always fall asleep so early when I'm texting someone :(\", \"@Uber_BLR All it says is 'No IceCream available' :(\", \"@annarlonsdale When she asked to go to the bathroom :-( I'm really enjoying the show though.\", 'i lagg so much on certain people :(', 'I need to clear my head :(', \"my baby went back to sleep &amp; now I'm bored :-(\", 'ughh i got nothing but pain :(', 'Laper banget !! :(', \"Naw :( Deep Dreamed my novel hoping there'd be invisible page beasts scuttling around but there's just worm tracks http://t.co/feTHZT8bfs\", 'bauuuuuuuukkk :(', \"@siwon407 too bad you guys cant attend today's Music Bank :(\", 'worried :-(((((((((((', '“@TheShoeBibles: Its mine.... http://t.co/I9rRNjyvUq” damnnn fineeeeeeeee omaigoshhhhhhh can I have you :((((', \"They didn't care that I was a Muslim :(\", \"@sneaksontaylor no it's not :(\", 'When Jessica calls and quits on power abs at 5:15 :-(', \"She lost us, her friends... :( she's the one who started the argument.\", \"@MsMeghanMakeup hope you're having fun at vidcon!! rlly bummed i couldnt go :(( love you sunshine 💛💛💛💛\", \"@iTaimikhan yepp.. I'm getting bore :(\", 'last night was so good :( 😺💒💎🎉', '@PrinceOfRnbZJM Can you follow me ? :(', \"feelin ' Sick :((\", \"If you want a biscuit slathered in chocolate, it's definitely taxed. Boo. :(\", \"From our investigations the answer is 'no'. Especially when the pups die within the free insurance period :( https://t.co/ZZRf0jKCeH\", '@1010hoshi1010 it jsut ended, :(', 'My heart hurts real bad :(', '@QPSmedia how awful :(', 'FOLLOW ME PLS!:( @tommophoebe', \"But if I'm being realistic....  :(\", 'my beloved grandmother : ( https://t.co/wt4oXq5xCf', 'I am not a happy Princess today :( sighs \\nBut I will get some work done \\nX\\n~ Purple Princess Edits ~', \"Babeeeee :((( you're so demn hotaisndonwyvauwjoqhsjsnaihsuswtf https://t.co/kWwv5Grny7\", 'something wrong :(', 'No words can explain the way i missing you :(((', 'I think need 2 years training to beat the record sia :(', 'Nirame ya geng :( (with fikri, Anna, and 6 others at Tirtagangga Hotel) — https://t.co/46fL7vHiL3', 'Char im really sick :(( one *font size 8* minion float *font size 12* for the sick kid pls :((', 'bestfriend like Ed plsss :(', '#RIPRishikeshwari.\\nYour soul rest in peace.\\n:(', \"@Herreraholic no I don't :(. I just unfollowed like 300 people cause following over 1k people was difficult\", \"when you don't have enough time to listen to all your artists' music :-(\", 'Take me to ice creamist pleaseeeee!:(', \"@missellabell No. And it's always going to be a terrible time. :(\", \"@The5BallOver @Radio702 :-( It's not a challenge though. Please check our FB page for entries and rather do a substitution. Thanks!\", \"I can't even see Hyungwon :(\", '@hyungwons_ tELL HIM TO PLS EAT MORE :-(((', '@CHEDA_KHAN Thats life. I get calls from people I havent seen in 20 years and its always favours : (', '@havemym0ney omg :( every time I would complain about my skin to my mom she was all \"everyone gets pimples\" like NO they don\\'t. although she', '#letsFootball #atk greymind43: BREAKING NEWS: Chris Gayle says he will be out of cricket for 2-3 months due to back surgery. :( #CPLT20 #CP…', \"i miss hannah montana and that's so raven sooo much :-(((\", '@ruy9n_ i want to rt :(', '@pipsuxx is he gonna be okay i love him :(', '@DeviousLiz awh :-( 💙 but you have to stay 💪', 'Last full night in Greece :( @ OPUS Inner Pleasure https://t.co/poglAQg9sJ', '@OXITS very disappointing to hear this, especially have just invested in one :-(', '@Bobwilson1955 yes :( but we have a BBQ to attend', \"@nicababess it didn't work :( http://t.co/aQzxRk7nk2\", 'Three 190s in a row?! Where is my 33 :(', 'My throat hurts so bad what do I do? :(', 'Lolliver!!!!! :(', 'Im watching disney channel by myself :(', 'Nobody is picking the one on the right :(', 'Can someone gift me :( #CalibraskaEP I NEED IT SO BAD', 'Lol just got split so hard. Lol single single split collat spilt single single spilt single split single single collat. :(', 'i hope you feel better, jay. :(', '@2baconil \\nYes many times :(\\n.#QuitKarwaoYaaro', 'STU DEACTİVATED :(', '@JabongIndia very disappointed :( never ever been lucky from your handle. #JabongatPumaUrbanStampede', '@ysmael85 hello !!! i need 2.5 off g2a code pls :(', 'THESIS THESIS THESIS THESIS THESIS THESIS THESIS THESIS THESIS THESIS \\nSHEREP NEMEN NG BEHEY KE :(', 'Should i deactivate my acc? :( #OTWOLGrandTrailer', '@misses0wl still sad that they kicked out the epic motherfucker :(', 'I really want another tattoo :(', \"someone get mads a reece vm tomorrow please!!!! she's never had one :(\", 'Deth Deth Dont Leave Me :(', '@Sakib_ovi so true :-(', \"let's go for #더쇼 cast your vote for #GOT7 today @SBS_MTV \\n\\n:((((((((((((((((((((((((\", 'Can someone hug me pls? :((((((', '@eyeammarkk omg :( not gonna happen , yeah we wish..', '@parisianskies :( at lest you have the GP to get you through it ^_^', '@nambooti aww :( catch them at the departure then!', '@98_madhvi_tommo  it apparently isnt :(', '@SensodyneIndia i miss those days :( #ToothSensitivity.', \"@natalieegiselle it's unavailable now :(\", \"@i_am_mill_i_am you mean we can't wipe them out? :-(\", 'Just found out my flight home is 13 hours long :(((((((', '@oIiverfelicitys UGH YUCK :( make sure you rest the next two days then', '@carissakenga omg so sad then on your birthday sorry i didnt send something ystrday ill do it later cuz i dont have my phone now :(((', 'seolhyun isnt in these first eps because shes filming a drama :((', '@NZRR_S3 sorry :(', 'I always get like 5 4-piece spicy nuggets :(', 'im sooo hungry though :(', 'thigh cramps :-(', 'To my fellow morning owls, surely you have noticed the sun already rising a bit later...sign that winter is coming :( http://t.co/4OU2EyPh8A', 'Nowhere near being tired :(', 'Too hot :(', \"@mari_suunn dude :( I'm scared lol\", 'Raining the whole day in Mumbai. Don’t feel like working at all. :(', \"Best get me and my little lady out of our pj's need to go wallpaper for me mom :( really cba today\", '@farhainismail_ yes pls far i need it :(', \"didn't even know it could get hotter than this fml :(\", \"@JaydnNeal1 Aw bless you, this made me smile! I'm missing you too :(\", 'Hi,life :(', '@pledis_17 I was not in the mood the whole day :-(', 'Almost done with parks and rec :( lol', '@zaynmalik are u coming back? :(', \"@lplatten Hi there, we're sorry to hear this :( Log in here: http://t.co/76lov3ArFc you'll be able to see all the information you need.\", 'goTDAMN  :-( http://t.co/KkPDlQZ2F4', 'I want my phone baaack :(((', '@ZozeeBo BE HONEST. do you miss Dubai? because Dubai misses you and we want you to come back :(', \"We finally get Star Driver in SRW and it's a mobage :(\", 'being sad for no reason sucks because u dunno how to stop being sad so u just gotta chill in ur room and listen to music &amp; b alone :(', \"If you have streaming passes for Melon, please stream as much as you can. #인피니트 's Digitals are so #Bad :(\", 'snapchat - JannyGreen18 #snapchat #kiksex #hot #teen #lgbt #goodmusic #sexcams :( http://t.co/dbwmKuR3HK', '@guy_interruptd Aw :( *strokes*', '@OzzyOsbourne @Slash I first saw GnR opening for Alice Cooper before they were famous. We partied backstage; no Alice r Slash. :(', \"tagged by @asabianglala ♡ i'm sorry i have A LOT of music so you prolly don't know half of it :( also @SaikyoRyouT http://t.co/AcXikXwfcI\", '24 hours not enough :(', '@FurretTails awww poor bunny. :(', 'Stress let me go. :(', '@NicoIrishNews i wish for bloopers :((((', '@roguebassjst no no i love u most and fuck i know :(', '@twinklingwatson yeah :(', '@paigecardona $20 is nothing though :(', \"@GeorgiaAnne1998 Aww I've already left!! I would have come and said hey if I had have seen it sooner :( Have a good night! X\", '@QjQj_Kwon How weird :( ^^', 'Sr. Financial Analyst - Expedia, Inc.: (#Bellevue, WA) http://t.co/ktknMhvwCI #Finance #ExpediaJobs #Job #Jobs #Hiring', 'seriously :(', 'Tried to make prison style alcohol, failed badly and ended up with a massive dose of the shits.... :(', 'not fair he still looks so cute how :(', '@imdanielpadilla hi!!!!!! love u :( :(', 'Overly attached. :((((', \"I.M's voice :( lord help\", 'i want that bandana and bottle set huhuh :((', \"I can't sleep bc heartburn :-(\", 'Meet Steven @ the only kid who listens to me :( https://t.co/WL0Dtzg3J1', \"I'm so fucking jealous of everyone on holiday :(\", 'Terrible thing about doin yoga or working out. Once you stopped and start again...awalmu njareeeeem :(', 'Nooooooooo her last day is today :(', 'I care about Maggie but she is a psycho bitch I want to kill myself and take a two day vacation off twitter :( wahhh', 'Really not looking forward to work tonight though :(', 'I miss abudhabi :(', 'Going home blues this am :-( but back on MONDAY #hibye for social action plans @Herts1617 #ShareYourSummer http://t.co/7pJJ9q5v7z', 'Being a pro soccer play would be so cool :(', '@MaddyyOR @TreqEu i Wish But b8 Too Strong :(', \"Hey girl you must.be a dairy produxt because I want you but I can't have you I am lactose intolerant. :(\", \"@ITVCentral #Midlands Yes thanks for the depressing weather forecast, where the word 'rain' was mentioned several times :-(\", 'Why am I crying?! :(', \"@emergingrecruit @_RobLong You'll be this old one day..... :(\", \"literally spent all day yesterday sleeping on and off in bed, and I'm still absolutely fucking knackered today :((\", 'this new Sandra Bland footage is really the icing on the cake.. heartbreaking how they dragged her lifeless body from the police car :(', 'i knowwwww :( https://t.co/KHkzmeS7kF', \"@shellbryson We're sorry you feel this way Shell :( We regularly review our pricing to offer the best we can.\", '@jess_lakeland Sorry to hear this Jess :( The quickest way is to call +44 7782 333 333 or we can add this to your account within 72 hours:', 'Pengen boxing :( (at @golds_indonesia) — https://t.co/qXG4UNA4Fn', '@Tanyastan4nicki girlll did u hear abt the possibly tsunami for us in West Indies?? Im in my island im afraid lol :((', \"@mxchelleebabes I don't have you on snap :(\", '@BacheloretteABC @kaitlynbristowe would love to see her w/Nick but if she picks no one I waisted TV time. &amp; they never work out anyway. :(', 'Hulk Hogan in the news for a racial tirade :( I thought he couldnt stoop lower than his role in Thunder in Paradise http://t.co/vd0z6x8t8g', 'SORRY FOR FORGETTING THIS VERY IMPORTANT DAY HUHU FIGHT ME IM SO SO SO SORRY :(', \"Breaking the habit of a lifetime... I'm about to play a Call of Duty game.. :(\", 'I apologize for annoying you so much on snapchat :( @JoshDevineDrums', 'Adults just take all the things too serious. Really miss when I was kid :(', '.@aylesburyowl @ljam185 The facade of democracy has dropped so quickly :(', '@Meem_Hye I am a confused brat. :(', \"Someone come over and I'll make popcorn and watch movies just pls cuddle me :(\", 'Finally home. Been driving since 5am :(', \"@___mew2 tb in mr o's class :(\", '@desiboy34783 @ArianaTorGlam Bade fursat se usey banaya hai usey uppar waale ney. Afsos humse dur hai wo :(', \"@esp__132 oh really :( i saw a few gif posts and some had seen really happy about it, but maybe it's people who'd be happy with any naruhina\", \"@Errata_0 you can't :(\", '@hausofbekah @JudasDiamonds Thats an English nameeee :(( Haiqal isnt an English name but you remember him', '@GFuelEnergy i want that but i dont have paypal :(', 'And that\\'s how my 360hrs of \"summer\" ends..... HUHUHU I WILL MISS PICC A LOT :(((((', 'my heart hurts :(', '@nextofficial my instore card expired in June &amp; I havent been sent a new one :(', '@loyalistofSoShi MCountdown pre-voting is begin, we are at 5th place :(', 'I felt bad when Irene forgot what she was going to say :(', \"@flrsbea wow that's great! What's your username? :(\", 'Minho  still injured  ,, :( ,, get well Oppa \\nwe miss you &lt;3', \"@za5 they can't even deliver ice cream. I tried twice, all the ice cream vans are busy :(\", 'i want durian strudel :(.', 'VIDCON :((', 'GUYS add me on SNAPCHAT - AmargoLonnard #snapchat #kikmeboys #sexy #french #dirtykik #newmusic #sexcams :( http://t.co/TXdc692SgB', '@Glassyskyx u change u say i change tsk :(', 'Damn.. I wish I could just sleep :(', 'Like why did you have to join the marines? :-(', \"I'm sad yall thought it was real :(\", \"@annnalucz i'm not going :( kailan ba? may tix ka?\", \"@Tinkering_Love you've already killed me tho. :(\", 'Hotel for Dogs was pretty sad too where the brother &amp; sister got separated :(', 'Missing that cute someone la!! :(', 'PAYDAY, but feels like payhour as its all gone to my bills immediately :(', \"@Oduun_ lmao :( most natural hair I've seen is ugly I swear\", '@_MeKeLe_ @YogscastLewis Nope :( Best place to get it first is to pre-order on Amazon: http://t.co/fZRCI1xONv', '@jobhopjulie I was there on the Sunday for a little while.  Not been able to get up much this year, busy :( all looked great tho!', \"@aurorakween you don't fwm :(\", \"@ShellyBarker123 what's wrong?:((\", 'I miss my guppy. :-(', \"@Cramdaline It just doesn't go away... you must go to the dentist. :( #poorKid\", \"@denocte Thanks - lack of time is a problem, isn't it :(\", 'When you get misunderstood :(', 'when ur cat is super nice and cuddly but then suddenly scratches and tries to bite :( \\n\\nlike who can i trust anymore', 'I hit my thumb :(.', '@iloveksoo we almost got to see his cute ankles but his socks :(', \"@bravefrontiergl Honestly at this point I don't care about compensation. I just want to be able to play BF again. :(\", '@dnwrld that song is not on here :(', '@CourtneyR_Green awwwww my baby :( 💕', \"I couldn't sleep last night n it didn't help me waking up at 8 this morning n my phone wasn't even charged :(\", '@ZozeeBo @TanyaBurr please can you tell everyone why you didnt go to vidcon :(', 'I need to like, tell myself na, na okay lang :((((', '@Laraibmufc follow back :(', 'my heart is currently torturing itself :( lol wat', '@CallmeHaRsh female student killed in some caste love kirkiri :(', \"I've run out of bread and I don't feel well enough to make any. :(\", 'I had a dream of you :( https://t.co/OZdMHNQbSU', \"@UyyChristopher :( Broken hearted? That's just a phase. Don't worry, you can do it!!\", \"stop being sour :( it doesn't suit you 😂💞 https://t.co/nJ0ziQ14is\", 'wonho reminds me of someone &gt;:( i just cant put my finger to it', '@Coles45Coles \\n\\nwont be in work today, feel so ill :( i have a tummy bug xx', 'Last day on the beach :-(:-(:-(.... http://t.co/oqo9F7FQs9', 'RAIN :(', '@yezzer Visual Studio 2015? it just got out. switched to it already and broke a lot of code :(', \"@MTNza seriously this is unfair some are not asking questions! There are ready to answer and win :( ='(  while we busy asking questions!!\", 'Mission bear: failed again :(', ':-( ugly af :-( https://t.co/bHIXkuNqPS', 'PAP of your spirit animal? — no i dont have :( http://t.co/0UvPRQnvGl', \"I totally ship #danzell, I'm crafting that I can't go to vidcon, I would sell my soul to the devil to just get a hug from Dan and Phil. :(\", '@annajudithk Because they hate me | :(', \"@NUFC_Vine he's gona miss Sheff Utd/York probably waiting for a visa which leaves gim with 1 friendly. Bet he starts season on the bench :(\", \"@ranaPTX_ BUT WHO WILL LEAD US WHEN YOU'RE GONE :((\", '@LottyStorer @charliee_catlin 😂😩😩 what a mess :(', '@twinitisha irony is its more harmful .. :(', '@DollyyDaydreams I miss you so much more :( xxx', 'no motivation :(', '@LiLGeekette but that is the point. Because it is YOLO I sort of die when lactose is in me... Ugh like 3 months pregnant bloating :(', '@lovetartan Really sorry I cant find the image you have mentioned :(', 'Im not getting ollys tweet notifications :(', 'going home tomorrow :-(', \"Too bad I'm poor :( https://t.co/FohWp4P0NN\", '@Glanny_ @RohYB_ @_wattie your team killed me :(', '@MattElyas no way!! :(', \"i'm so inactive :(\", ':( the world where alternis kills himself is really sad because they leave that place and everyone there just has to die', 'is everyone gonna be talking abt rat boy today bc :((', \"Why on earth did I assume it wouldn't rain in London? Most likely influenced by overall warm and dry past weeks in continental Europe :(\", 'I remember when Fab Four had a 24 hour call, Damn I miss that so much :(', '@dongvvoo1122 😀🔫 r u sure u want that b r u h we barely survive w them in tank tops :((', 'so thirsty :((', '@Adam_Bhatti what is a konami policy about PES PC version ?! what happen ?! why all Version are not same ?! :(((', \"@AmericanFujoshi doesn't have the sound effects :(\", 'I Blame Rantie For All Of This :(', '@BlatBlatKLANG ummmm ok?  this is a new development :(', \"You guys are never on :( — Aw sorry we're really bust atm.. Shall be back soon http://t.co/YHfZFhLCgr\", \"@ddlovato @Vevo bad :( I don't like it. This video is  too many perverse.\", 'first time to go to school without my bracelets :(( it feels odd', \"I can't fall back asleep :(\", '@ayyedolans IM NOT UNTIL THE TWINS FOLLOW ME BACK BYLFNNZ :(', '@PulkitSamrat @yamigautam that is unfair ..why u should banned our all film in Pakistan :(', '@LucyAndLydia @georgiamerryyy I want one :(', 'Feel sick :(', \"Hmmm 10 mins to get my train and I'm currently about 15 mins away :( #failsatlife\", \"I'm so hungry :(\", 'I want it to be my birthday already :(', \"@louanndavies Completely agree. The press won't :(\", 'Im super duper tired :(', \"Having boring time :( don't know what to do.....\", 'ill be on soon, I PROMISE :(\\nwaaah', 'I wanna change my avi but uSanele :(', 'MY PUPPY BROKE HER FOOT :(', \"where's all the jaebum baby pictures :((\", 'But but Mr Ahmad Maslan cooks too :( https://t.co/ArCiD31Zv6', '@eawoman As a Hull supporter I am expecting a misserable few weeks :-(']\n"
     ]
    }
   ],
   "source": [
    "print(test_x)"
   ]
  },
  {
   "cell_type": "markdown",
   "metadata": {},
   "source": [
    "* Create the numpy array of positive labels and negative labels."
   ]
  },
  {
   "cell_type": "code",
   "execution_count": 7,
   "metadata": {},
   "outputs": [],
   "source": [
    "# combine positive and negative labels\n",
    "train_y = np.append(np.ones((len(train_pos), 1)), np.zeros((len(train_neg), 1)), axis=0)\n",
    "test_y = np.append(np.ones((len(test_pos), 1)), np.zeros((len(test_neg), 1)), axis=0)"
   ]
  },
  {
   "cell_type": "code",
   "execution_count": 8,
   "metadata": {},
   "outputs": [
    {
     "name": "stdout",
     "output_type": "stream",
     "text": [
      "train_y.shape = (8000, 1)\n",
      "test_y.shape = (2000, 1)\n"
     ]
    }
   ],
   "source": [
    "# Print the shape train and test sets\n",
    "print(\"train_y.shape = \" + str(train_y.shape))\n",
    "print(\"test_y.shape = \" + str(test_y.shape))"
   ]
  },
  {
   "cell_type": "markdown",
   "metadata": {},
   "source": [
    "* Create the frequency dictionary using the imported `build_freqs()` function.  \n",
    "    * We highly recommend that you open `utils.py` and read the `build_freqs()` function to understand what it is doing.\n",
    "    * To view the file directory, go to the menu and click File->Open.\n",
    "\n",
    "```Python\n",
    "    for y,tweet in zip(ys, tweets):\n",
    "        for word in process_tweet(tweet):\n",
    "            pair = (word, y)\n",
    "            if pair in freqs:\n",
    "                freqs[pair] += 1\n",
    "            else:\n",
    "                freqs[pair] = 1\n",
    "```\n",
    "* Notice how the outer for loop goes through each tweet, and the inner for loop steps through each word in a tweet.\n",
    "* The `freqs` dictionary is the frequency dictionary that's being built. \n",
    "* The key is the tuple (word, label), such as (\"happy\",1) or (\"happy\",0).  The value stored for each key is the count of how many times the word \"happy\" was associated with a positive label, or how many times \"happy\" was associated with a negative label."
   ]
  },
  {
   "cell_type": "code",
   "execution_count": 9,
   "metadata": {},
   "outputs": [
    {
     "name": "stdout",
     "output_type": "stream",
     "text": [
      "type(freqs) = <class 'dict'>\n",
      "len(freqs) = 11346\n"
     ]
    }
   ],
   "source": [
    "# create frequency dictionary\n",
    "freqs = build_freqs(train_x, train_y)\n",
    "\n",
    "# check the output\n",
    "print(\"type(freqs) = \" + str(type(freqs)))\n",
    "print(\"len(freqs) = \" + str(len(freqs.keys())))"
   ]
  },
  {
   "cell_type": "markdown",
   "metadata": {},
   "source": [
    "#### Expected output\n",
    "```\n",
    "type(freqs) = <class 'dict'>\n",
    "len(freqs) = 11346\n",
    "```"
   ]
  },
  {
   "cell_type": "markdown",
   "metadata": {},
   "source": [
    "### Process tweet\n",
    "The given function `process_tweet()` tokenizes the tweet into individual words, removes stop words and applies stemming."
   ]
  },
  {
   "cell_type": "code",
   "execution_count": 10,
   "metadata": {},
   "outputs": [
    {
     "name": "stdout",
     "output_type": "stream",
     "text": [
      "This is an example of a positive tweet: \n",
      " #FollowFriday @France_Inte @PKuchly57 @Milipol_Paris for being top engaged members in my community this week :)\n",
      "\n",
      "This is an example of the processed version of the tweet: \n",
      " ['followfriday', 'top', 'engag', 'member', 'commun', 'week', ':)']\n"
     ]
    }
   ],
   "source": [
    "# test the function below\n",
    "print('This is an example of a positive tweet: \\n', train_x[0])\n",
    "print('\\nThis is an example of the processed version of the tweet: \\n', process_tweet(train_x[0]))"
   ]
  },
  {
   "cell_type": "markdown",
   "metadata": {},
   "source": [
    "#### Expected output\n",
    "```\n",
    "This is an example of a positive tweet: \n",
    " #FollowFriday @France_Inte @PKuchly57 @Milipol_Paris for being top engaged members in my community this week :)\n",
    " \n",
    "This is an example of the processes version: \n",
    " ['followfriday', 'top', 'engag', 'member', 'commun', 'week', ':)']\n",
    "```"
   ]
  },
  {
   "cell_type": "markdown",
   "metadata": {},
   "source": [
    "# Part 1: Logistic regression \n",
    "\n",
    "\n",
    "### Part 1.1: Sigmoid\n",
    "You will learn to use logistic regression for text classification. \n",
    "* The sigmoid function is defined as: \n",
    "\n",
    "$$ h(z) = \\frac{1}{1+\\exp^{-z}} \\tag{1}$$\n",
    "\n",
    "It maps the input 'z' to a value that ranges between 0 and 1, and so it can be treated as a probability. \n",
    "\n",
    "<div style=\"width:image width px; font-size:100%; text-align:center;\"><img src='../tmp2/sigmoid_plot.jpg' alt=\"alternate text\" width=\"width\" height=\"height\" style=\"width:300px;height:200px;\" /> Figure 1 </div>"
   ]
  },
  {
   "cell_type": "markdown",
   "metadata": {},
   "source": [
    "#### Instructions: Implement the sigmoid function\n",
    "* You will want this function to work if z is a scalar as well as if it is an array."
   ]
  },
  {
   "cell_type": "markdown",
   "metadata": {},
   "source": [
    "<details>    \n",
    "<summary>\n",
    "    <font size=\"3\" color=\"darkgreen\"><b>Hints</b></font>\n",
    "</summary>\n",
    "<p>\n",
    "<ul>\n",
    "    <li><a href=\"https://docs.scipy.org/doc/numpy/reference/generated/numpy.exp.html\" > numpy.exp </a> </li>\n",
    "\n",
    "</ul>\n",
    "</p>\n",
    "\n"
   ]
  },
  {
   "cell_type": "code",
   "execution_count": 18,
   "metadata": {},
   "outputs": [],
   "source": [
    "# UNQ_C1 (UNIQUE CELL IDENTIFIER, DO NOT EDIT)\n",
    "def sigmoid(z): \n",
    "    '''\n",
    "    Input:\n",
    "        z: is the input (can be a scalar or an array)\n",
    "    Output:\n",
    "        h: the sigmoid of z\n",
    "    '''\n",
    "    \n",
    "    ### START CODE HERE (REPLACE INSTANCES OF 'None' with your code) ###\n",
    "    # calculate the sigmoid of z\n",
    "    h=1/(1+np.exp(-z))\n",
    "    ### END CODE HERE ###\n",
    "    \n",
    "    return h"
   ]
  },
  {
   "cell_type": "code",
   "execution_count": 19,
   "metadata": {},
   "outputs": [
    {
     "name": "stdout",
     "output_type": "stream",
     "text": [
      "SUCCESS!\n",
      "CORRECT!\n"
     ]
    }
   ],
   "source": [
    "# Testing your function \n",
    "if (sigmoid(0) == 0.5):\n",
    "    print('SUCCESS!')\n",
    "else:\n",
    "    print('Oops!')\n",
    "\n",
    "if (sigmoid(4.92) == 0.9927537604041685):\n",
    "    print('CORRECT!')\n",
    "else:\n",
    "    print('Oops again!')"
   ]
  },
  {
   "cell_type": "markdown",
   "metadata": {},
   "source": [
    "### Logistic regression: regression and a sigmoid\n",
    "\n",
    "Logistic regression takes a regular linear regression, and applies a sigmoid to the output of the linear regression.\n",
    "\n",
    "Regression:\n",
    "$$z = \\theta_0 x_0 + \\theta_1 x_1 + \\theta_2 x_2 + ... \\theta_N x_N$$\n",
    "Note that the $\\theta$ values are \"weights\". If you took the Deep Learning Specialization, we referred to the weights with the `w` vector.  In this course, we're using a different variable $\\theta$ to refer to the weights.\n",
    "\n",
    "Logistic regression\n",
    "$$ h(z) = \\frac{1}{1+\\exp^{-z}}$$\n",
    "$$z = \\theta_0 x_0 + \\theta_1 x_1 + \\theta_2 x_2 + ... \\theta_N x_N$$\n",
    "We will refer to 'z' as the 'logits'."
   ]
  },
  {
   "cell_type": "markdown",
   "metadata": {},
   "source": [
    "### Part 1.2 Cost function and Gradient\n",
    "\n",
    "The cost function used for logistic regression is the average of the log loss across all training examples:\n",
    "\n",
    "$$J(\\theta) = -\\frac{1}{m} \\sum_{i=1}^m y^{(i)}\\log (h(z(\\theta)^{(i)})) + (1-y^{(i)})\\log (1-h(z(\\theta)^{(i)}))\\tag{5} $$\n",
    "* $m$ is the number of training examples\n",
    "* $y^{(i)}$ is the actual label of the i-th training example.\n",
    "* $h(z(\\theta)^{(i)})$ is the model's prediction for the i-th training example.\n",
    "\n",
    "The loss function for a single training example is\n",
    "$$ Loss = -1 \\times \\left( y^{(i)}\\log (h(z(\\theta)^{(i)})) + (1-y^{(i)})\\log (1-h(z(\\theta)^{(i)})) \\right)$$\n",
    "\n",
    "* All the $h$ values are between 0 and 1, so the logs will be negative. That is the reason for the factor of -1 applied to the sum of the two loss terms.\n",
    "* Note that when the model predicts 1 ($h(z(\\theta)) = 1$) and the label $y$ is also 1, the loss for that training example is 0. \n",
    "* Similarly, when the model predicts 0 ($h(z(\\theta)) = 0$) and the actual label is also 0, the loss for that training example is 0. \n",
    "* However, when the model prediction is close to 1 ($h(z(\\theta)) = 0.9999$) and the label is 0, the second term of the log loss becomes a large negative number, which is then multiplied by the overall factor of -1 to convert it to a positive loss value. $-1 \\times (1 - 0) \\times log(1 - 0.9999) \\approx 9.2$ The closer the model prediction gets to 1, the larger the loss."
   ]
  },
  {
   "cell_type": "code",
   "execution_count": 20,
   "metadata": {},
   "outputs": [
    {
     "data": {
      "text/plain": [
       "9.210340371976294"
      ]
     },
     "execution_count": 20,
     "metadata": {},
     "output_type": "execute_result"
    }
   ],
   "source": [
    "# verify that when the model predicts close to 1, but the actual label is 0, the loss is a large positive value\n",
    "-1 * (1 - 0) * np.log(1 - 0.9999) # loss is about 9.2"
   ]
  },
  {
   "cell_type": "markdown",
   "metadata": {},
   "source": [
    "* Likewise, if the model predicts close to 0 ($h(z) = 0.0001$) but the actual label is 1, the first term in the loss function becomes a large number: $-1 \\times log(0.0001) \\approx 9.2$.  The closer the prediction is to zero, the larger the loss."
   ]
  },
  {
   "cell_type": "code",
   "execution_count": 21,
   "metadata": {},
   "outputs": [
    {
     "data": {
      "text/plain": [
       "9.210340371976182"
      ]
     },
     "execution_count": 21,
     "metadata": {},
     "output_type": "execute_result"
    }
   ],
   "source": [
    "# verify that when the model predicts close to 0 but the actual label is 1, the loss is a large positive value\n",
    "-1 * np.log(0.0001) # loss is about 9.2"
   ]
  },
  {
   "cell_type": "markdown",
   "metadata": {},
   "source": [
    "#### Update the weights\n",
    "\n",
    "To update your weight vector $\\theta$, you will apply gradient descent to iteratively improve your model's predictions.  \n",
    "The gradient of the cost function $J$ with respect to one of the weights $\\theta_j$ is:\n",
    "\n",
    "$$\\nabla_{\\theta_j}J(\\theta) = \\frac{1}{m} \\sum_{i=1}^m(h^{(i)}-y^{(i)})x^{(i)}_j \\tag{5}$$\n",
    "* 'i' is the index across all 'm' training examples.\n",
    "* 'j' is the index of the weight $\\theta_j$, so $x^{(i)}_j$ is the feature associated with weight $\\theta_j$\n",
    "\n",
    "* To update the weight $\\theta_j$, we adjust it by subtracting a fraction of the gradient determined by $\\alpha$:\n",
    "$$\\theta_j = \\theta_j - \\alpha \\times \\nabla_{\\theta_j}J(\\theta) $$\n",
    "* The learning rate $\\alpha$ is a value that we choose to control how big a single update will be.\n",
    "\n"
   ]
  },
  {
   "cell_type": "markdown",
   "metadata": {},
   "source": [
    "## Instructions: Implement gradient descent function\n",
    "* The number of iterations `num_iters` is the number of times that you'll use the entire training set.\n",
    "* For each iteration, you'll calculate the cost function using all training examples (there are `m` training examples), and for all features.\n",
    "* Instead of updating a single weight $\\theta_i$ at a time, we can update all the weights in the column vector:  \n",
    "$$\\mathbf{\\theta} = \\begin{pmatrix}\n",
    "\\theta_0\n",
    "\\\\\n",
    "\\theta_1\n",
    "\\\\ \n",
    "\\theta_2 \n",
    "\\\\ \n",
    "\\vdots\n",
    "\\\\ \n",
    "\\theta_n\n",
    "\\end{pmatrix}$$\n",
    "* $\\mathbf{\\theta}$ has dimensions (n+1, 1), where 'n' is the number of features, and there is one more element for the bias term $\\theta_0$ (note that the corresponding feature value $\\mathbf{x_0}$ is 1).\n",
    "* The 'logits', 'z', are calculated by multiplying the feature matrix 'x' with the weight vector 'theta'.  $z = \\mathbf{x}\\mathbf{\\theta}$\n",
    "    * $\\mathbf{x}$ has dimensions (m, n+1) \n",
    "    * $\\mathbf{\\theta}$: has dimensions (n+1, 1)\n",
    "    * $\\mathbf{z}$: has dimensions (m, 1)\n",
    "* The prediction 'h', is calculated by applying the sigmoid to each element in 'z': $h(z) = sigmoid(z)$, and has dimensions (m,1).\n",
    "* The cost function $J$ is calculated by taking the dot product of the vectors 'y' and 'log(h)'.  Since both 'y' and 'h' are column vectors (m,1), transpose the vector to the left, so that matrix multiplication of a row vector with column vector performs the dot product.\n",
    "$$J = \\frac{-1}{m} \\times \\left(\\mathbf{y}^T \\cdot log(\\mathbf{h}) + \\mathbf{(1-y)}^T \\cdot log(\\mathbf{1-h}) \\right)$$\n",
    "* The update of theta is also vectorized.  Because the dimensions of $\\mathbf{x}$ are (m, n+1), and both $\\mathbf{h}$ and $\\mathbf{y}$ are (m, 1), we need to transpose the $\\mathbf{x}$ and place it on the left in order to perform matrix multiplication, which then yields the (n+1, 1) answer we need:\n",
    "$$\\mathbf{\\theta} = \\mathbf{\\theta} - \\frac{\\alpha}{m} \\times \\left( \\mathbf{x}^T \\cdot \\left( \\mathbf{h-y} \\right) \\right)$$"
   ]
  },
  {
   "cell_type": "markdown",
   "metadata": {},
   "source": [
    "<details>    \n",
    "<summary>\n",
    "    <font size=\"3\" color=\"darkgreen\"><b>Hints</b></font>\n",
    "</summary>\n",
    "<p>\n",
    "<ul>\n",
    "    <li>use np.dot for matrix multiplication.</li>\n",
    "    <li>To ensure that the fraction -1/m is a decimal value, cast either the numerator or denominator (or both), like `float(1)`, or write `1.` for the float version of 1. </li>\n",
    "</ul>\n",
    "</p>\n",
    "\n"
   ]
  },
  {
   "cell_type": "code",
   "execution_count": 51,
   "metadata": {},
   "outputs": [],
   "source": [
    "# UNQ_C2 (UNIQUE CELL IDENTIFIER, DO NOT EDIT)\n",
    "def gradientDescent(x, y, theta, alpha, num_iters):\n",
    "    '''\n",
    "    Input:\n",
    "        x: matrix of features which is (m,n+1)\n",
    "        y: corresponding labels of the input matrix x, dimensions (m,1)\n",
    "        theta: weight vector of dimension (n+1,1)\n",
    "        alpha: learning rate\n",
    "        num_iters: number of iterations you want to train your model for\n",
    "    Output:\n",
    "        J: the final cost\n",
    "        theta: your final weight vector\n",
    "    Hint: you might want to print the cost to make sure that it is going down.\n",
    "    '''\n",
    "    ### START CODE HERE (REPLACE INSTANCES OF 'None' with your code) ###\n",
    "    # get 'm', the number of rows in matrix x\n",
    "    m = x.shape[0]\n",
    "    \n",
    "    for i in range(0, num_iters):\n",
    "        \n",
    "        # get z, the dot product of x and theta\n",
    "        z = np.dot(x,theta)\n",
    "        \n",
    "        # get the sigmoid of z\n",
    "        h = sigmoid(z)\n",
    "        \n",
    "        # calculate the cost function\n",
    "        J = -1/m*(np.dot(np.transpose(y),np.log(h))+np.dot(np.transpose(1-y),np.log(1-h)))\n",
    "\n",
    "        # update the weights theta\n",
    "        theta = theta-(alpha/m)*(np.dot(np.transpose(x),(h-y)))\n",
    "          \n",
    "    ### END CODE HERE ###\n",
    "    J = float(J)\n",
    "    return J, theta"
   ]
  },
  {
   "cell_type": "code",
   "execution_count": 52,
   "metadata": {},
   "outputs": [
    {
     "name": "stdout",
     "output_type": "stream",
     "text": [
      "The cost after training is 0.67094970.\n",
      "The resulting vector of weights is [4.1e-07, 0.00035658, 7.309e-05]\n"
     ]
    }
   ],
   "source": [
    "# Check the function\n",
    "# Construct a synthetic test case using numpy PRNG functions\n",
    "np.random.seed(1)\n",
    "# X input is 10 x 3 with ones for the bias terms\n",
    "tmp_X = np.append(np.ones((10, 1)), np.random.rand(10, 2) * 2000, axis=1)\n",
    "# Y Labels are 10 x 1\n",
    "tmp_Y = (np.random.rand(10, 1) > 0.35).astype(float)\n",
    "\n",
    "# Apply gradient descent\n",
    "tmp_J, tmp_theta = gradientDescent(tmp_X, tmp_Y, np.zeros((3, 1)), 1e-8, 700)\n",
    "print(f\"The cost after training is {tmp_J:.8f}.\")\n",
    "print(f\"The resulting vector of weights is {[round(t, 8) for t in np.squeeze(tmp_theta)]}\")"
   ]
  },
  {
   "cell_type": "raw",
   "metadata": {},
   "source": [
    "The cost after training is 0.67094970.\n",
    "The resulting vector of weights is [4.1e-07, 0.00035658, 7.309e-05]"
   ]
  },
  {
   "cell_type": "markdown",
   "metadata": {},
   "source": [
    "## Part 2: Extracting the features\n",
    "\n",
    "* Given a list of tweets, extract the features and store them in a matrix. You will extract two features.\n",
    "    * The first feature is the number of positive words in a tweet.\n",
    "    * The second feature is the number of negative words in a tweet. \n",
    "* Then train your logistic regression classifier on these features.\n",
    "* Test the classifier on a validation set. \n",
    "\n",
    "### Instructions: Implement the extract_features function. \n",
    "* This function takes in a single tweet.\n",
    "* Process the tweet using the imported `process_tweet()` function and save the list of tweet words.\n",
    "* Loop through each word in the list of processed words\n",
    "    * For each word, check the `freqs` dictionary for the count when that word has a positive '1' label. (Check for the key (word, 1.0)\n",
    "    * Do the same for the count for when the word is associated with the negative label '0'. (Check for the key (word, 0.0).)\n"
   ]
  },
  {
   "cell_type": "markdown",
   "metadata": {},
   "source": [
    "<details>    \n",
    "<summary>\n",
    "    <font size=\"3\" color=\"darkgreen\"><b>Hints</b></font>\n",
    "</summary>\n",
    "<p>\n",
    "<ul>\n",
    "    <li>Make sure you handle cases when the (word, label) key is not found in the dictionary. </li>\n",
    "    <li> Search the web for hints about using the `.get()` method of a Python dictionary.  Here is an <a href=\"https://www.programiz.com/python-programming/methods/dictionary/get\" > example </a> </li>\n",
    "</ul>\n",
    "</p>\n"
   ]
  },
  {
   "cell_type": "code",
   "execution_count": 98,
   "metadata": {},
   "outputs": [],
   "source": [
    "# UNQ_C3 (UNIQUE CELL IDENTIFIER, DO NOT EDIT)\n",
    "def extract_features(tweet, freqs):\n",
    "    '''\n",
    "    Input: \n",
    "        tweet: a list of words for one tweet\n",
    "        freqs: a dictionary corresponding to the frequencies of each tuple (word, label)\n",
    "    Output: \n",
    "        x: a feature vector of dimension (1,3)\n",
    "    '''\n",
    "    # process_tweet tokenizes, stems, and removes stopwords\n",
    "    word_l = process_tweet(tweet)\n",
    "    \n",
    "    # 3 elements in the form of a 1 x 3 vector\n",
    "    x = np.zeros((1, 3)) \n",
    "    \n",
    "    #bias term is set to 1\n",
    "    x[0,0] = 1 \n",
    "    \n",
    "    ### START CODE HERE (REPLACE INSTANCES OF 'None' with your code) ###\n",
    "    # loop through each word in the list of words\n",
    "    for word in word_l:\n",
    "        \n",
    "        # increment the word count for the positive label 1\n",
    "        x[0,1] +=freqs.get((word, 1.0)) if (word, 1) in freqs else 0\n",
    "        \n",
    "        # increment the word count for the negative label 0\n",
    "        x[0,2] +=freqs.get((word, 0.0)) if (word, 0.0) in freqs else 0\n",
    "        \n",
    "    ### END CODE HERE ###\n",
    "    assert(x.shape == (1, 3))\n",
    "    return x"
   ]
  },
  {
   "cell_type": "code",
   "execution_count": 99,
   "metadata": {},
   "outputs": [
    {
     "name": "stdout",
     "output_type": "stream",
     "text": [
      "[[1.00e+00 3.02e+03 6.10e+01]]\n"
     ]
    }
   ],
   "source": [
    "# Check your function\n",
    "\n",
    "# test 1\n",
    "#  test on training data\n",
    "#print(freqs)\n",
    "tmp1 = extract_features(train_x[0], freqs)\n",
    "print(tmp1)"
   ]
  },
  {
   "cell_type": "markdown",
   "metadata": {},
   "source": [
    "#### Expected output\n",
    "```\n",
    "[[1.00e+00 3.02e+03 6.10e+01]]\n",
    "```"
   ]
  },
  {
   "cell_type": "code",
   "execution_count": 100,
   "metadata": {},
   "outputs": [
    {
     "name": "stdout",
     "output_type": "stream",
     "text": [
      "[[1. 0. 0.]]\n"
     ]
    }
   ],
   "source": [
    "# test 2:\n",
    "# check for when the words are not in the freqs dictionary\n",
    "tmp2 = extract_features('blorb bleeeeb bloooob', freqs)\n",
    "print(tmp2)"
   ]
  },
  {
   "cell_type": "markdown",
   "metadata": {},
   "source": [
    "#### Expected output\n",
    "```\n",
    "[[1. 0. 0.]]\n",
    "```"
   ]
  },
  {
   "cell_type": "markdown",
   "metadata": {},
   "source": [
    "## Part 3: Training Your Model\n",
    "\n",
    "To train the model:\n",
    "* Stack the features for all training examples into a matrix `X`. \n",
    "* Call `gradientDescent`, which you've implemented above.\n",
    "\n",
    "This section is given to you.  Please read it for understanding and run the cell."
   ]
  },
  {
   "cell_type": "code",
   "execution_count": 101,
   "metadata": {},
   "outputs": [
    {
     "name": "stdout",
     "output_type": "stream",
     "text": [
      "The cost after training is 0.24216529.\n",
      "The resulting vector of weights is [7e-08, 0.0005239, -0.00055517]\n"
     ]
    }
   ],
   "source": [
    "# collect the features 'x' and stack them into a matrix 'X'\n",
    "X = np.zeros((len(train_x), 3))\n",
    "for i in range(len(train_x)):\n",
    "    X[i, :]= extract_features(train_x[i], freqs)\n",
    "\n",
    "# training labels corresponding to X\n",
    "Y = train_y\n",
    "\n",
    "# Apply gradient descent\n",
    "J, theta = gradientDescent(X, Y, np.zeros((3, 1)), 1e-9, 1500)\n",
    "print(f\"The cost after training is {J:.8f}.\")\n",
    "print(f\"The resulting vector of weights is {[round(t, 8) for t in np.squeeze(theta)]}\")"
   ]
  },
  {
   "cell_type": "markdown",
   "metadata": {},
   "source": [
    "**Expected Output**: \n",
    "\n",
    "```\n",
    "The cost after training is 0.24216529.\n",
    "The resulting vector of weights is [7e-08, 0.0005239, -0.00055517]\n",
    "```"
   ]
  },
  {
   "cell_type": "markdown",
   "metadata": {},
   "source": [
    "# Part 4: Test your logistic regression\n",
    "\n",
    "It is time for you to test your logistic regression function on some new input that your model has not seen before. \n",
    "\n",
    "#### Instructions: Write `predict_tweet`\n",
    "Predict whether a tweet is positive or negative.\n",
    "\n",
    "* Given a tweet, process it, then extract the features.\n",
    "* Apply the model's learned weights on the features to get the logits.\n",
    "* Apply the sigmoid to the logits to get the prediction (a value between 0 and 1).\n",
    "\n",
    "$$y_{pred} = sigmoid(\\mathbf{x} \\cdot \\theta)$$"
   ]
  },
  {
   "cell_type": "code",
   "execution_count": 104,
   "metadata": {},
   "outputs": [],
   "source": [
    "# UNQ_C4 (UNIQUE CELL IDENTIFIER, DO NOT EDIT)\n",
    "def predict_tweet(tweet, freqs, theta):\n",
    "    '''\n",
    "    Input: \n",
    "        tweet: a string\n",
    "        freqs: a dictionary corresponding to the frequencies of each tuple (word, label)\n",
    "        theta: (3,1) vector of weights\n",
    "    Output: \n",
    "        y_pred: the probability of a tweet being positive or negative\n",
    "    '''\n",
    "    ### START CODE HERE (REPLACE INSTANCES OF 'None' with your code) ###\n",
    "    \n",
    "    # extract the features of the tweet and store it into x\n",
    "    x = extract_features(tweet,freqs)\n",
    "    \n",
    "    # make the prediction using x and theta\n",
    "    y_pred = sigmoid(np.dot(x,theta))\n",
    "    \n",
    "    ### END CODE HERE ###\n",
    "    \n",
    "    return y_pred"
   ]
  },
  {
   "cell_type": "code",
   "execution_count": 105,
   "metadata": {},
   "outputs": [
    {
     "name": "stdout",
     "output_type": "stream",
     "text": [
      "I am happy -> 0.518580\n",
      "I am bad -> 0.494339\n",
      "this movie should have been great. -> 0.515331\n",
      "great -> 0.515464\n",
      "great great -> 0.530898\n",
      "great great great -> 0.546273\n",
      "great great great great -> 0.561561\n"
     ]
    }
   ],
   "source": [
    "# Run this cell to test your function\n",
    "for tweet in ['I am happy', 'I am bad', 'this movie should have been great.', 'great', 'great great', 'great great great', 'great great great great']:\n",
    "    print( '%s -> %f' % (tweet, predict_tweet(tweet, freqs, theta)))"
   ]
  },
  {
   "cell_type": "markdown",
   "metadata": {},
   "source": [
    "**Expected Output**: \n",
    "```\n",
    "I am happy -> 0.518580\n",
    "I am bad -> 0.494339\n",
    "this movie should have been great. -> 0.515331\n",
    "great -> 0.515464\n",
    "great great -> 0.530898\n",
    "great great great -> 0.546273\n",
    "great great great great -> 0.561561\n",
    "```"
   ]
  },
  {
   "cell_type": "code",
   "execution_count": 106,
   "metadata": {},
   "outputs": [
    {
     "data": {
      "text/plain": [
       "array([[0.81636424]])"
      ]
     },
     "execution_count": 106,
     "metadata": {},
     "output_type": "execute_result"
    }
   ],
   "source": [
    "# Feel free to check the sentiment of your own tweet below\n",
    "my_tweet = 'I am learning :)'\n",
    "predict_tweet(my_tweet, freqs, theta)"
   ]
  },
  {
   "cell_type": "markdown",
   "metadata": {},
   "source": [
    "## Check performance using the test set\n",
    "After training your model using the training set above, check how your model might perform on real, unseen data, by testing it against the test set.\n",
    "\n",
    "#### Instructions: Implement `test_logistic_regression` \n",
    "* Given the test data and the weights of your trained model, calculate the accuracy of your logistic regression model. \n",
    "* Use your `predict_tweet()` function to make predictions on each tweet in the test set.\n",
    "* If the prediction is > 0.5, set the model's classification `y_hat` to 1, otherwise set the model's classification `y_hat` to 0.\n",
    "* A prediction is accurate when `y_hat` equals `test_y`.  Sum up all the instances when they are equal and divide by `m`.\n"
   ]
  },
  {
   "cell_type": "markdown",
   "metadata": {},
   "source": [
    "<details>    \n",
    "<summary>\n",
    "    <font size=\"3\" color=\"darkgreen\"><b>Hints</b></font>\n",
    "</summary>\n",
    "<p>\n",
    "<ul>\n",
    "    <li>Use np.asarray() to convert a list to a numpy array</li>\n",
    "    <li>Use np.squeeze() to make an (m,1) dimensional array into an (m,) array </li>\n",
    "</ul>\n",
    "</p>"
   ]
  },
  {
   "cell_type": "code",
   "execution_count": 130,
   "metadata": {},
   "outputs": [],
   "source": [
    "# UNQ_C5 (UNIQUE CELL IDENTIFIER, DO NOT EDIT)\n",
    "def test_logistic_regression(test_x, test_y, freqs, theta):\n",
    "    \"\"\"\n",
    "    Input: \n",
    "        test_x: a list of tweets\n",
    "        test_y: (m, 1) vector with the corresponding labels for the list of tweets\n",
    "        freqs: a dictionary with the frequency of each pair (or tuple)\n",
    "        theta: weight vector of dimension (3, 1)\n",
    "    Output: \n",
    "        accuracy: (# of tweets classified correctly) / (total # of tweets)\n",
    "    \"\"\"\n",
    "    \n",
    "    ### START CODE HERE (REPLACE INSTANCES OF 'None' with your code) ###\n",
    "    \n",
    "    # the list for storing predictions\n",
    "    y_hat = []\n",
    "    \n",
    "    for tweet in test_x:\n",
    "        # get the label prediction for the tweet\n",
    "        y_pred = predict_tweet(tweet, freqs, theta)\n",
    "        \n",
    "        if y_pred > 0.5:\n",
    "            # append 1.0 to the list\n",
    "            y_hat.append(1.0)\n",
    "        else:\n",
    "            # append 0 to the list\n",
    "            y_hat.append(0)\n",
    "\n",
    "    # With the above implementation, y_hat is a list, but test_y is (m,1) array\n",
    "    # convert both to one-dimensional arrays in order to compare them using the '==' operator\n",
    "    \n",
    "    l2=np.squeeze(test_y)\n",
    "    l1=np.asarray(y_hat)\n",
    "\n",
    "    result=l1==l2\n",
    "    \n",
    "    accuracy =result.mean()\n",
    "    \n",
    "\n",
    "    ### END CODE HERE ###\n",
    "    \n",
    "    return accuracy"
   ]
  },
  {
   "cell_type": "code",
   "execution_count": 131,
   "metadata": {},
   "outputs": [
    {
     "name": "stdout",
     "output_type": "stream",
     "text": [
      "Logistic regression model's accuracy = 0.9950\n"
     ]
    }
   ],
   "source": [
    "tmp_accuracy = test_logistic_regression(test_x, test_y, freqs, theta)\n",
    "print(f\"Logistic regression model's accuracy = {tmp_accuracy:.4f}\")"
   ]
  },
  {
   "cell_type": "markdown",
   "metadata": {},
   "source": [
    "#### Expected Output: \n",
    "```0.9950```  \n",
    "Pretty good!"
   ]
  },
  {
   "cell_type": "markdown",
   "metadata": {},
   "source": [
    "# Part 5: Error Analysis\n",
    "\n",
    "In this part you will see some tweets that your model misclassified. Why do you think the misclassifications happened? Specifically what kind of tweets does your model misclassify?"
   ]
  },
  {
   "cell_type": "code",
   "execution_count": 132,
   "metadata": {},
   "outputs": [
    {
     "name": "stdout",
     "output_type": "stream",
     "text": [
      "Label Predicted Tweet\n",
      "THE TWEET IS: @jaredNOTsubway @iluvmariah @Bravotv Then that truly is a LATERAL move! Now, we all know the Queen Bee is UPWARD BOUND : ) #MovingOnUp\n",
      "THE PROCESSED TWEET IS: ['truli', 'later', 'move', 'know', 'queen', 'bee', 'upward', 'bound', 'movingonup']\n",
      "1\t0.49996890\tb'truli later move know queen bee upward bound movingonup'\n",
      "THE TWEET IS: @MarkBreech Not sure it would be good thing 4 my bottom daring 2 say 2 Miss B but Im gonna be so stubborn on mouth soaping ! #NotHavingit :p\n",
      "THE PROCESSED TWEET IS: ['sure', 'would', 'good', 'thing', '4', 'bottom', 'dare', '2', 'say', '2', 'miss', 'b', 'im', 'gonna', 'stubborn', 'mouth', 'soap', 'nothavingit', ':p']\n",
      "1\t0.48622857\tb'sure would good thing 4 bottom dare 2 say 2 miss b im gonna stubborn mouth soap nothavingit :p'\n",
      "THE TWEET IS: I'm playing Brain Dots : ) #BrainDots\n",
      "http://t.co/UGQzOx0huu\n",
      "THE PROCESSED TWEET IS: [\"i'm\", 'play', 'brain', 'dot', 'braindot']\n",
      "1\t0.48370665\tb\"i'm play brain dot braindot\"\n",
      "THE TWEET IS: I'm playing Brain Dots : ) #BrainDots http://t.co/aOKldo3GMj http://t.co/xWCM9qyRG5\n",
      "THE PROCESSED TWEET IS: [\"i'm\", 'play', 'brain', 'dot', 'braindot']\n",
      "1\t0.48370665\tb\"i'm play brain dot braindot\"\n",
      "THE TWEET IS: I'm playing Brain Dots : ) #BrainDots http://t.co/R2JBO8iNww http://t.co/ow5BBwdEMY\n",
      "THE PROCESSED TWEET IS: [\"i'm\", 'play', 'brain', 'dot', 'braindot']\n",
      "1\t0.48370665\tb\"i'm play brain dot braindot\"\n",
      "THE TWEET IS: off to the park to get some sunlight : )\n",
      "THE PROCESSED TWEET IS: ['park', 'get', 'sunlight']\n",
      "1\t0.49578765\tb'park get sunlight'\n",
      "THE TWEET IS: @msarosh Uff Itna Miss karhy thy ap :p\n",
      "THE PROCESSED TWEET IS: ['uff', 'itna', 'miss', 'karhi', 'thi', 'ap', ':p']\n",
      "1\t0.48199810\tb'uff itna miss karhi thi ap :p'\n",
      "THE TWEET IS: @phenomyoutube u probs had more fun with david than me : (\n",
      "THE PROCESSED TWEET IS: ['u', 'prob', 'fun', 'david']\n",
      "0\t0.50020353\tb'u prob fun david'\n",
      "THE TWEET IS: pats jay : (\n",
      "THE PROCESSED TWEET IS: ['pat', 'jay']\n",
      "0\t0.50039294\tb'pat jay'\n",
      "THE TWEET IS: my beloved grandmother : ( https://t.co/wt4oXq5xCf\n",
      "THE PROCESSED TWEET IS: ['belov', 'grandmoth']\n",
      "0\t0.50000002\tb'belov grandmoth'\n"
     ]
    }
   ],
   "source": [
    "# Some error analysis done for you\n",
    "print('Label Predicted Tweet')\n",
    "for x,y in zip(test_x,test_y):\n",
    "    y_hat = predict_tweet(x, freqs, theta)\n",
    "\n",
    "    if np.abs(y - (y_hat > 0.5)) > 0:\n",
    "        print('THE TWEET IS:', x)\n",
    "        print('THE PROCESSED TWEET IS:', process_tweet(x))\n",
    "        print('%d\\t%0.8f\\t%s' % (y, y_hat, ' '.join(process_tweet(x)).encode('ascii', 'ignore')))"
   ]
  },
  {
   "cell_type": "markdown",
   "metadata": {},
   "source": [
    "Later in this specialization, we will see how we can use deep learning to improve the prediction performance."
   ]
  },
  {
   "cell_type": "markdown",
   "metadata": {},
   "source": [
    "# Part 6: Predict with your own tweet"
   ]
  },
  {
   "cell_type": "code",
   "execution_count": 133,
   "metadata": {},
   "outputs": [
    {
     "name": "stdout",
     "output_type": "stream",
     "text": [
      "['ridicul', 'bright', 'movi', 'plot', 'terribl', 'sad', 'end']\n",
      "[[0.48139087]]\n",
      "Negative sentiment\n"
     ]
    }
   ],
   "source": [
    "# Feel free to change the tweet below\n",
    "my_tweet = 'This is a ridiculously bright movie. The plot was terrible and I was sad until the ending!'\n",
    "print(process_tweet(my_tweet))\n",
    "y_hat = predict_tweet(my_tweet, freqs, theta)\n",
    "print(y_hat)\n",
    "if y_hat > 0.5:\n",
    "    print('Positive sentiment')\n",
    "else: \n",
    "    print('Negative sentiment')"
   ]
  }
 ],
 "metadata": {
  "coursera": {
   "schema_names": [
    "NLPC1-1"
   ]
  },
  "kernelspec": {
   "display_name": "Python 3",
   "language": "python",
   "name": "python3"
  },
  "language_info": {
   "codemirror_mode": {
    "name": "ipython",
    "version": 3
   },
   "file_extension": ".py",
   "mimetype": "text/x-python",
   "name": "python",
   "nbconvert_exporter": "python",
   "pygments_lexer": "ipython3",
   "version": "3.7.1"
  }
 },
 "nbformat": 4,
 "nbformat_minor": 2
}
